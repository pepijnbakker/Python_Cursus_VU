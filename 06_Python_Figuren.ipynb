{
 "cells": [
  {
   "cell_type": "markdown",
   "id": "0",
   "metadata": {},
   "source": [
    "# Figuren maken in Python\n",
    "\n",
    "## Overzicht\n",
    "\n",
    "Het maken van figuren om je gegevens te visualiseren is een belangrijk onderdeel van veel onderzoeken. Er zijn haast oneindig veel mogelijkheden als het gaat om het maken van figuren, kijk bijvoorbeeld eens op deze website https://matplotlib.org/stable/gallery/index.html.  In dit deel van de cursus gaan we enkel een paar belangrijke basiselementen hiervan doornemen. Zo zullen we kijken naar het gebruik van kleuren, lijnen, symbolen, titels, labels, legenda's en tenslotte hoe je meerdere figuren kan combineren. Een ander veel voorkomend type figuur is een geografische kaart, dit kan zeker met Python (https://matplotlib.org/basemap/stable/users/examples.html) maar dit zal in deze cursus niet aan bod komen. \n",
    "\n",
    "Voor het maken van figuren in Python is de module `matplotlib.pyplot` de meest gebruikte. Deze zullen we hier ook gebruiken. \n",
    "\n",
    "# Lijn figuren\n",
    "\n",
    "We werken weer verder met de jaarlijkse temperaturen voor de Bilt, waarvoor we in het vorige deel al een figuur hebben gemaaakt. Laten we die figuur nogmaals maken en enkele opties bekijken."
   ]
  },
  {
   "cell_type": "code",
   "execution_count": null,
   "id": "2",
   "metadata": {},
   "outputs": [],
   "source": [
    "import numpy as np\n",
    "import matplotlib.pyplot as plt\n",
    "\n",
    "# Data lezen\n",
    "jaar, temp = np.loadtxt('Media/deBilt_yearly_temperatures.txt',comments='#',unpack=True)\n",
    "\n",
    "# Figuur maken\n",
    "plt.plot(temp)   # Maak een figuur met 'temp' als afhankelijke variabele op de y-as\n",
    "plt.xlabel('Tijdstappen')   # Geef de x-ax een label\n",
    "plt.ylabel('Jaargemiddelde temperatuur [C]')   # Geef de y-as een label\n",
    "plt.title('Temperatuurmetingen voor de Bilt, Nederland')"
   ]
  },
  {
   "cell_type": "markdown",
   "id": "3",
   "metadata": {},
   "source": [
    "Nu staan er 'tijdstappen' op de x-as in plaats van 'jaren'. Hiervoor kunnen we een onafhankelijke variabele toevoegen op de x-as door `plt.plot(jaar,temp)`. \n",
    "\n",
    "Ook kun je lijnkleuren aanpassen met de optie `color`, lijn type met `linestyle`, symbolen toevoegen met de optie `marker` en een legenda weergeven door zowel `label` als `plt.legend()` toe te voegen. Dat kan er dan bijvoorbeeld zo uit gaan zien:"
   ]
  },
  {
   "cell_type": "code",
   "execution_count": null,
   "id": "4",
   "metadata": {},
   "outputs": [],
   "source": [
    "import numpy as np\n",
    "import matplotlib.pyplot as plt\n",
    "\n",
    "# Data lezen\n",
    "jaar, temp = np.loadtxt('Media/deBilt_yearly_temperatures.txt',comments='#',unpack=True)\n",
    "\n",
    "# Figuur maken\n",
    "plt.plot(jaar, temp, color='red', marker='.', linestyle='dashed', label='temperatuur') # temp op y-as, jaar op de x-as\n",
    "plt.xlabel('Tijd [jaar]')   # Geef de x-ax een label\n",
    "plt.ylabel('Jaargemiddelde temperatuur [C]')   # Geef de y-as een label\n",
    "plt.title('Temperatuurmetingen voor de Bilt, Nederland')\n",
    "plt.legend()"
   ]
  },
  {
   "cell_type": "markdown",
   "id": "5",
   "metadata": {},
   "source": [
    "Een overzicht van alle `markers` kun je hier vinden: https://matplotlib.org/stable/api/markers_api.html.\n",
    "\n",
    "Een overzicht van de `color` die je kunt gebruiken staat bijvoorbeeld hier: https://matplotlib.org/1.5.3/mpl_examples/color/named_colors.hires.png.\n",
    "\n",
    "Een overzicht van alle `linestyle` opties kun je hier vinden: https://matplotlib.org/stable/gallery/lines_bars_and_markers/linestyles.html.\n",
    "\n",
    "\\\n",
    "Als je meerdere reeksen in dezelfde plot wil zetten kun simpelweg twee keer achter elkaar `plt.plot()` gebruiken:"
   ]
  },
  {
   "cell_type": "code",
   "execution_count": null,
   "id": "6",
   "metadata": {},
   "outputs": [],
   "source": [
    "temp_reversed = temp[::-1] # Maak een nieuwe variabele waarin de temperaturen in omgekeerde volgorde staan\n",
    "\n",
    "plt.plot(jaar, temp, color='red', label='temperatuur') # temp op y-as, jaar op de x-as\n",
    "plt.plot(jaar, temp_reversed, color='green', label='temperatuur omgekeerd') # temp_reversed op y-as, jaar op de x-as\n",
    "plt.xlabel('Tijd [jaar]')   # Geef de x-ax een label\n",
    "plt.ylabel('Jaargemiddelde temperatuur [C]')   # Geef de y-as een label\n",
    "plt.title('Temperatuurmetingen voor de Bilt, Nederland')\n",
    "plt.legend()"
   ]
  },
  {
   "cell_type": "markdown",
   "id": "7",
   "metadata": {},
   "source": [
    "Je kunt er ook voor kiezen om de twee reeksen in aparte figuren te zetten door gebruik te maken van `subplots`. Deze functie heeft als opties het aantal rijen, het aantal kolommen en tenslotte op welke plek je de huidige figuur wilt plaatsen:"
   ]
  },
  {
   "cell_type": "code",
   "execution_count": null,
   "id": "8",
   "metadata": {},
   "outputs": [],
   "source": [
    "plt.subplot(1,2,1) # plot 1 rij, 2 kolommen en zet huidige figuur op plek 1\n",
    "plt.plot(jaar, temp, color='red', label='temperatuur') # temp op y-as, jaar op de x-as\n",
    "plt.title('Normale temperatuurreeks')\n",
    "plt.subplot(1,2,2) # plot 1 rij, 2 kolommen en zet huidige figuur op plek 2\n",
    "plt.plot(jaar, temp_reversed, color='green', label='temperatuur omgekeerd') # temp_reversed op y-as, jaar op de x-as\n",
    "plt.title('Omgekeerde temperatuurreeks')"
   ]
  },
  {
   "cell_type": "markdown",
   "id": "2cdabc45-0498-4a2a-a69f-51e6cfc7403a",
   "metadata": {},
   "source": [
    "# Contour figuren\n",
    "\n",
    "Om het maken van `contour plots` en `filled contour plots` te illustreren moeten we eerst een twee dimensionale variabele creeren.  dit voorbeeld  zullen we dat doen door gebruik te maken van sinus en cosinus."
   ]
  },
  {
   "cell_type": "code",
   "execution_count": null,
   "id": "9",
   "metadata": {},
   "outputs": [],
   "source": [
    "x, y = np.meshgrid(np.arange(7), np.arange(10)) # Maak een 2D array x en een 2D array y\n",
    "z = np.sin(0.5 * x) * np.cos(0.52 * y) # gebruik de arrays x en y om z te berekenen.\n",
    "# Let op: de twee regels hierboven hoef je niet te begrijpen!\n",
    "\n",
    "CS = plt.contour(x,y,z) # contour figuur met x op de x-as, y op de y-as en z als afhankelijke variabele\n",
    "plt.clabel(CS, fontsize=10) # Voeg contour labels toe. In dit geval moeten we gebruik maken van een variabele waarin we alle gegevens van de contour plot zetten (hier 'CS') zodat we vervolgens deze kunnen aanpassen met plt.clabel() \n"
   ]
  },
  {
   "cell_type": "markdown",
   "id": "10",
   "metadata": {},
   "source": [
    "Dezelfde data kunnen we ook weergeven in een `filled contour figuur`."
   ]
  },
  {
   "cell_type": "code",
   "execution_count": null,
   "id": "11",
   "metadata": {},
   "outputs": [],
   "source": [
    "plt.contourf(x,y,z) # Maak filled contour figuur\n",
    "plt.colorbar() # Geef de kleurenschaal weer\n",
    "plt.title('Filled contour figuur')\n",
    "plt.xlabel('x')\n",
    "plt.ylabel('y')"
   ]
  },
  {
   "cell_type": "markdown",
   "id": "12",
   "metadata": {},
   "source": [
    "Of je kunt de twee type contour figuren combineren:"
   ]
  },
  {
   "cell_type": "code",
   "execution_count": null,
   "id": "13",
   "metadata": {},
   "outputs": [],
   "source": [
    "CS1 = plt.contourf(x,y,z) # Maak filled contour figuur met x op de x-as, y op de y-as en z als afhankelijke variabele\n",
    "plt.colorbar(CS1) # Geef de kleurenschaal weer\n",
    "CS2 = plt.contour(x,y,z, colors='black') # contour figuur met zwarte contourlijnen\n",
    "plt.clabel(CS2, fontsize=10) # Voeg contour labels toe."
   ]
  },
  {
   "cell_type": "markdown",
   "id": "184be55f-3dda-4767-a25e-cc162fcd448e",
   "metadata": {},
   "source": [
    "## Samenvatting\n",
    "\n",
    "In dit deel heb je kort enkele voorbeelden gezien van hoe je figuren kan maken in Python. Je kunt bij de figuren nog veel meer toeters en bellen toevoegen en het zo complex maken als je wilt. Voor nu is het belangrijk dat je enkele basiselementen hebt gezien van lijnfiguren en contour figuren en hebt gezien hoe je meerdere figuren over elkaar of onder en/of naast elkaar kan maken."
   ]
  },
  {
   "cell_type": "markdown",
   "id": "33509f49-6a60-4d08-b5f7-ac73d495962d",
   "metadata": {
    "jupyter": {
     "source_hidden": true
    }
   },
   "source": [
    "<!-- Links -->\n",
    "[Python_Numpy]: 07_Python_Numpy.ipynb\n",
    "\n",
    "# Ga naar het volgende deel: [07_Python_Numpy][Python_Numpy]"
   ]
  },
  {
   "cell_type": "code",
   "execution_count": null,
   "id": "f74f2380-82f9-4acb-967c-922c1fe48fc3",
   "metadata": {},
   "outputs": [],
   "source": []
  }
 ],
 "metadata": {
  "kernelspec": {
   "display_name": "Python 3 (ipykernel)",
   "language": "python",
   "name": "python3"
  },
  "language_info": {
   "codemirror_mode": {
    "name": "ipython",
    "version": 3
   },
   "file_extension": ".py",
   "mimetype": "text/x-python",
   "name": "python",
   "nbconvert_exporter": "python",
   "pygments_lexer": "ipython3",
   "version": "3.11.11"
  }
 },
 "nbformat": 4,
 "nbformat_minor": 5
}
