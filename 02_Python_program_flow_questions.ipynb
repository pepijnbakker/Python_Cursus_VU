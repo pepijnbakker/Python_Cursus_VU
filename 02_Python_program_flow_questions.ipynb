{
 "cells": [
  {
   "cell_type": "markdown",
   "id": "d012a4c6-1834-4250-a609-53bd0660bc24",
   "metadata": {},
   "source": [
    "# Oefenvragen voor deel 2: Program flow\n",
    "\n",
    "Hieronder een lijst oefenvragen behorende bij deel 2 van deze Python cursus. In de oefenvragen komen enkele dingen tegen die je nog niet eerder gezien hebt (het gebruik van `or` bijvoorbeeld). Mogelijk begrijp je het als je het ziet, en anders kun je op internet opzoeken hoe je dit moet gebruiken. Als je hierna nog meer wilt oefenen dan raden wij je aan om samen met je buurman of buurvrouw vragen te gaan maken die je vervolgens door de ander op laat lossen. "
   ]
  },
  {
   "cell_type": "markdown",
   "id": "0e13aade-098a-481a-baed-607efb5808f3",
   "metadata": {},
   "source": [
    "Is het resultaat van de volgende oefenvragen waar of onwaar (True of False)?"
   ]
  },
  {
   "cell_type": "markdown",
   "id": "103a7d69-1139-4c3a-afa7-dbda8729b72c",
   "metadata": {},
   "source": [
    "Vraag 1"
   ]
  },
  {
   "cell_type": "code",
   "execution_count": 1,
   "id": "a1b8f2c6-c2b5-4975-89ba-a7334fddcef2",
   "metadata": {},
   "outputs": [],
   "source": [
    "x = 10\n",
    "x < 11"
   ]
  },
  {
   "cell_type": "markdown",
   "id": "0f720560-b7c5-4b67-86ca-46dce33d567d",
   "metadata": {},
   "source": [
    "Vraag 2"
   ]
  },
  {
   "cell_type": "code",
   "execution_count": 12,
   "id": "4453e56c-703a-4245-ad7d-b955cf2d03b5",
   "metadata": {},
   "outputs": [
    {
     "data": {
      "text/plain": [
       "False"
      ]
     },
     "execution_count": 12,
     "metadata": {},
     "output_type": "execute_result"
    }
   ],
   "source": [
    "x = 10\n",
    "8 > x < 11"
   ]
  },
  {
   "cell_type": "markdown",
   "id": "f73e5ad6-5e35-42f4-8852-20f5b7eef6d4",
   "metadata": {},
   "source": [
    "Vraag 3"
   ]
  },
  {
   "cell_type": "code",
   "execution_count": 13,
   "id": "6bb37fb1-2d7f-4262-a97a-322a568d5658",
   "metadata": {},
   "outputs": [
    {
     "data": {
      "text/plain": [
       "False"
      ]
     },
     "execution_count": 13,
     "metadata": {},
     "output_type": "execute_result"
    }
   ],
   "source": [
    "x = 10\n",
    "(x < 8) and (x < 11) # Dit is een andere manier van schrijven voor wat er in de vorige cell ook staat"
   ]
  },
  {
   "cell_type": "markdown",
   "id": "f30e1494-063f-49d7-9ad6-fba62f2d0191",
   "metadata": {},
   "source": [
    "Vraag 4"
   ]
  },
  {
   "cell_type": "code",
   "execution_count": 14,
   "id": "b9f71688-408e-478d-b08c-e675ce5393b9",
   "metadata": {},
   "outputs": [
    {
     "data": {
      "text/plain": [
       "True"
      ]
     },
     "execution_count": 14,
     "metadata": {},
     "output_type": "execute_result"
    }
   ],
   "source": [
    "x = 10\n",
    "(x == 8) or (x >= 1)  # Bij een 'or' (of) moet een van de twee, of beide statements waar zijn."
   ]
  },
  {
   "cell_type": "markdown",
   "id": "44e4ef00-4076-46ef-8ecb-b0261277383d",
   "metadata": {},
   "source": [
    "Vraag 5"
   ]
  },
  {
   "cell_type": "code",
   "execution_count": 15,
   "id": "aaad275a-a32e-4f16-8aca-84b6128b4007",
   "metadata": {},
   "outputs": [
    {
     "data": {
      "text/plain": [
       "True"
      ]
     },
     "execution_count": 15,
     "metadata": {},
     "output_type": "execute_result"
    }
   ],
   "source": [
    "x = 10\n",
    "(x > 8) or (x >= 1)"
   ]
  },
  {
   "cell_type": "markdown",
   "id": "8f13fbd0-357d-46dc-85cf-c224fa42e583",
   "metadata": {},
   "source": [
    "Wat is in de waarde van `a` in de volgende oefenvragen?"
   ]
  },
  {
   "cell_type": "markdown",
   "id": "66d61eb6-338b-45f9-9f7a-279f8cbd3950",
   "metadata": {},
   "source": [
    "Vraag 6"
   ]
  },
  {
   "cell_type": "code",
   "execution_count": 16,
   "id": "857a8214-8d28-4d5f-829a-0257c147de9f",
   "metadata": {},
   "outputs": [],
   "source": [
    "b = 5\n",
    "if (b == 4):\n",
    "    a = 10\n",
    "elif (b > 2):\n",
    "    a = 5\n",
    "else:\n",
    "    a = 1"
   ]
  },
  {
   "cell_type": "markdown",
   "id": "31ea334d-fdee-43da-a6e7-043a682bdbfc",
   "metadata": {},
   "source": [
    "Vraag 7"
   ]
  },
  {
   "cell_type": "code",
   "execution_count": 17,
   "id": "49008ddd-4779-4f4e-9c13-19b79c950b8f",
   "metadata": {},
   "outputs": [],
   "source": [
    "b = 5\n",
    "if (b > 5 or b < 6):\n",
    "    if (b > 6):\n",
    "        a = 20\n",
    "    else:\n",
    "        a = 10\n",
    "elif (b > 2):\n",
    "    a = 5\n",
    "else:\n",
    "    a = 1"
   ]
  },
  {
   "cell_type": "markdown",
   "id": "7892a8ad-b2b7-41ce-857f-ce8965ff3c92",
   "metadata": {},
   "source": [
    "Welke getallen worden er geprint in de volgende oefenvragen?"
   ]
  },
  {
   "cell_type": "markdown",
   "id": "a31459f4-19a7-4318-b5c3-3c959815f4fb",
   "metadata": {},
   "source": [
    "Vraag 8"
   ]
  },
  {
   "cell_type": "code",
   "execution_count": 18,
   "id": "b1c57611-2e80-4914-b145-c57068571d1f",
   "metadata": {},
   "outputs": [
    {
     "name": "stdout",
     "output_type": "stream",
     "text": [
      "1\n",
      "5\n",
      "10\n"
     ]
    }
   ],
   "source": [
    "for z in [1, 5, 10]:\n",
    "    print(z)"
   ]
  },
  {
   "cell_type": "markdown",
   "id": "3e561f90-df9b-474a-9b23-f4b5079c2fa0",
   "metadata": {},
   "source": [
    "Vraag 9"
   ]
  },
  {
   "cell_type": "code",
   "execution_count": 19,
   "id": "7af9ffab-12e4-42a5-8b11-dcf1ba0784b5",
   "metadata": {},
   "outputs": [
    {
     "name": "stdout",
     "output_type": "stream",
     "text": [
      "1\n",
      "4\n",
      "7\n"
     ]
    }
   ],
   "source": [
    "for z in range(1,10,3):\n",
    "    print(z)"
   ]
  },
  {
   "cell_type": "markdown",
   "id": "2b47bde7-23da-4281-9114-e8a298610a11",
   "metadata": {},
   "source": [
    "Vraag 10"
   ]
  },
  {
   "cell_type": "code",
   "execution_count": 10,
   "id": "1880b7d9-0160-45c0-ae85-3f50f25be93f",
   "metadata": {},
   "outputs": [
    {
     "name": "stdout",
     "output_type": "stream",
     "text": [
      "0\n",
      "1\n",
      "2\n",
      "3\n"
     ]
    }
   ],
   "source": [
    "b = [1, 4, 10, 10]\n",
    "for z in range(len(b)): # de 'len()' functie geeft je de lengte van het object, in dit geval heeft b een lengte van 4\n",
    "    print(z)    "
   ]
  },
  {
   "cell_type": "markdown",
   "id": "e64b8373-1c15-47c8-aac7-b1df27e5a983",
   "metadata": {},
   "source": [
    "Vraag 11"
   ]
  },
  {
   "cell_type": "code",
   "execution_count": 20,
   "id": "5a105b34-91b9-4a25-a25f-3f30ee59a923",
   "metadata": {},
   "outputs": [
    {
     "name": "stdout",
     "output_type": "stream",
     "text": [
      "0\n",
      "2\n",
      "4\n"
     ]
    }
   ],
   "source": [
    "b = [1, 4, 10, 10, 11]\n",
    "for z in range(0,len(b),2):\n",
    "    print(z)"
   ]
  },
  {
   "cell_type": "markdown",
   "id": "8201e15c-91c2-4186-8b62-2826b3b73707",
   "metadata": {},
   "source": [
    "Vraag 12"
   ]
  },
  {
   "cell_type": "code",
   "execution_count": 21,
   "id": "69274069-924d-4a34-ab4c-2c87f985ebae",
   "metadata": {},
   "outputs": [
    {
     "name": "stdout",
     "output_type": "stream",
     "text": [
      "12\n"
     ]
    }
   ],
   "source": [
    "for z in range(5):\n",
    "    for i in range(4):\n",
    "        if (z*i > 10):\n",
    "            print(z*i)"
   ]
  },
  {
   "cell_type": "markdown",
   "id": "9990a8f0-1dfa-4ce9-9e4f-cbd030c7292c",
   "metadata": {},
   "source": [
    "(tip: de laatste twee vragen zijn typisch vragen die je op het tentamen kunt verwachten)"
   ]
  },
  {
   "cell_type": "markdown",
   "id": "3f77fa78-d036-4594-99d3-34a93e7a61df",
   "metadata": {},
   "source": [
    "<!-- Links -->\n",
    "[python_antwoordenblad]: Python_answers.ipynb\n",
    "\n",
    "# Ga naar het antwoordenblad: [Python_antwoordenblad][python_antwoordenblad]"
   ]
  },
  {
   "cell_type": "markdown",
   "id": "4e425c1d-4f3b-4c44-9486-531e3a55160b",
   "metadata": {},
   "source": [
    "<!-- Links -->\n",
    "[python_modules]: 03_Python_modules.ipynb\n",
    "\n",
    "# Ga naar het volgende deel: [03_Python_modules][python_modules]"
   ]
  },
  {
   "cell_type": "code",
   "execution_count": null,
   "id": "a68e7a5a-0929-4d4c-a96a-7283525be96a",
   "metadata": {},
   "outputs": [],
   "source": []
  }
 ],
 "metadata": {
  "kernelspec": {
   "display_name": "Python 3",
   "language": "python",
   "name": "python3"
  },
  "language_info": {
   "codemirror_mode": {
    "name": "ipython",
    "version": 3
   },
   "file_extension": ".py",
   "mimetype": "text/x-python",
   "name": "python",
   "nbconvert_exporter": "python",
   "pygments_lexer": "ipython3",
   "version": "3.11.10"
  }
 },
 "nbformat": 4,
 "nbformat_minor": 5
}
