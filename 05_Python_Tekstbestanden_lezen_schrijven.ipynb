{
 "cells": [
  {
   "cell_type": "markdown",
   "id": "0",
   "metadata": {},
   "source": [
    "# Tekstbestanden lezen en schrijven\n",
    "\n",
    "## Overzicht\n",
    "\n",
    "Veel data waarmee we werken is opgeslagen in een excel-bestand of in tekst bestanden. Door zulke bestanden in Python te openen kun je er heel efficient bewerkingen op toepassen en figuren maken. In dit deel zullen we enkele voorbeelden zien van het openen van zulke bestanden en ook hoe je je resultaten zelf ook kan opslaan in een nieuw excel of tekst bestand."
   ]
  },
  {
   "cell_type": "markdown",
   "id": "d6c2098b-f766-4bbc-b630-c94b8d8ee745",
   "metadata": {},
   "source": [
    "# Tekstbestanden lezen\n",
    "\n",
    "Er zijn meerdere functies in Python die je kan gebruiken om tekstbestanden te openen en de data erin te lezen. Het is niet de bedoeling om die allemaal in detail te gaan bespreken, dus we beperken ons tot een van de functies, namelijk de `loadtxt` functie die beschikbaar is in de `numpy module`. Andere functies zijn readline() die standaard beschikbaar is in Python en genfromtxt() uit de numpy module.\n",
    "\n",
    "Om een eerste indruk te krijgen van de vele mogelijkheden van de `loadtxt` functie gaan we de help aanroepen. Zoals je zult zien zijn er allerlei opties beschreven. Verder is het heel handig dat er aan het einde allerlei voorbeelden gegeven worden."
   ]
  },
  {
   "cell_type": "code",
   "execution_count": 12,
   "id": "512717a6-70d6-4d0c-89c2-4817bf7cadeb",
   "metadata": {
    "collapsed": true,
    "jupyter": {
     "outputs_hidden": true
    }
   },
   "outputs": [
    {
     "name": "stdout",
     "output_type": "stream",
     "text": [
      "Help on function loadtxt in module numpy:\n",
      "\n",
      "loadtxt(fname, dtype=<class 'float'>, comments='#', delimiter=None, converters=None, skiprows=0, usecols=None, unpack=False, ndmin=0, encoding='bytes', max_rows=None, *, quotechar=None, like=None)\n",
      "    Load data from a text file.\n",
      "    \n",
      "    Parameters\n",
      "    ----------\n",
      "    fname : file, str, pathlib.Path, list of str, generator\n",
      "        File, filename, list, or generator to read.  If the filename\n",
      "        extension is ``.gz`` or ``.bz2``, the file is first decompressed. Note\n",
      "        that generators must return bytes or strings. The strings\n",
      "        in a list or produced by a generator are treated as lines.\n",
      "    dtype : data-type, optional\n",
      "        Data-type of the resulting array; default: float.  If this is a\n",
      "        structured data-type, the resulting array will be 1-dimensional, and\n",
      "        each row will be interpreted as an element of the array.  In this\n",
      "        case, the number of columns used must match the number of fields in\n",
      "        the data-type.\n",
      "    comments : str or sequence of str or None, optional\n",
      "        The characters or list of characters used to indicate the start of a\n",
      "        comment. None implies no comments. For backwards compatibility, byte\n",
      "        strings will be decoded as 'latin1'. The default is '#'.\n",
      "    delimiter : str, optional\n",
      "        The character used to separate the values. For backwards compatibility,\n",
      "        byte strings will be decoded as 'latin1'. The default is whitespace.\n",
      "    \n",
      "        .. versionchanged:: 1.23.0\n",
      "           Only single character delimiters are supported. Newline characters\n",
      "           cannot be used as the delimiter.\n",
      "    \n",
      "    converters : dict or callable, optional\n",
      "        Converter functions to customize value parsing. If `converters` is\n",
      "        callable, the function is applied to all columns, else it must be a\n",
      "        dict that maps column number to a parser function.\n",
      "        See examples for further details.\n",
      "        Default: None.\n",
      "    \n",
      "        .. versionchanged:: 1.23.0\n",
      "           The ability to pass a single callable to be applied to all columns\n",
      "           was added.\n",
      "    \n",
      "    skiprows : int, optional\n",
      "        Skip the first `skiprows` lines, including comments; default: 0.\n",
      "    usecols : int or sequence, optional\n",
      "        Which columns to read, with 0 being the first. For example,\n",
      "        ``usecols = (1,4,5)`` will extract the 2nd, 5th and 6th columns.\n",
      "        The default, None, results in all columns being read.\n",
      "    \n",
      "        .. versionchanged:: 1.11.0\n",
      "            When a single column has to be read it is possible to use\n",
      "            an integer instead of a tuple. E.g ``usecols = 3`` reads the\n",
      "            fourth column the same way as ``usecols = (3,)`` would.\n",
      "    unpack : bool, optional\n",
      "        If True, the returned array is transposed, so that arguments may be\n",
      "        unpacked using ``x, y, z = loadtxt(...)``.  When used with a\n",
      "        structured data-type, arrays are returned for each field.\n",
      "        Default is False.\n",
      "    ndmin : int, optional\n",
      "        The returned array will have at least `ndmin` dimensions.\n",
      "        Otherwise mono-dimensional axes will be squeezed.\n",
      "        Legal values: 0 (default), 1 or 2.\n",
      "    \n",
      "        .. versionadded:: 1.6.0\n",
      "    encoding : str, optional\n",
      "        Encoding used to decode the inputfile. Does not apply to input streams.\n",
      "        The special value 'bytes' enables backward compatibility workarounds\n",
      "        that ensures you receive byte arrays as results if possible and passes\n",
      "        'latin1' encoded strings to converters. Override this value to receive\n",
      "        unicode arrays and pass strings as input to converters.  If set to None\n",
      "        the system default is used. The default value is 'bytes'.\n",
      "    \n",
      "        .. versionadded:: 1.14.0\n",
      "    max_rows : int, optional\n",
      "        Read `max_rows` rows of content after `skiprows` lines. The default is\n",
      "        to read all the rows. Note that empty rows containing no data such as\n",
      "        empty lines and comment lines are not counted towards `max_rows`,\n",
      "        while such lines are counted in `skiprows`.\n",
      "    \n",
      "        .. versionadded:: 1.16.0\n",
      "    \n",
      "        .. versionchanged:: 1.23.0\n",
      "            Lines containing no data, including comment lines (e.g., lines\n",
      "            starting with '#' or as specified via `comments`) are not counted\n",
      "            towards `max_rows`.\n",
      "    quotechar : unicode character or None, optional\n",
      "        The character used to denote the start and end of a quoted item.\n",
      "        Occurrences of the delimiter or comment characters are ignored within\n",
      "        a quoted item. The default value is ``quotechar=None``, which means\n",
      "        quoting support is disabled.\n",
      "    \n",
      "        If two consecutive instances of `quotechar` are found within a quoted\n",
      "        field, the first is treated as an escape character. See examples.\n",
      "    \n",
      "        .. versionadded:: 1.23.0\n",
      "    like : array_like, optional\n",
      "        Reference object to allow the creation of arrays which are not\n",
      "        NumPy arrays. If an array-like passed in as ``like`` supports\n",
      "        the ``__array_function__`` protocol, the result will be defined\n",
      "        by it. In this case, it ensures the creation of an array object\n",
      "        compatible with that passed in via this argument.\n",
      "    \n",
      "        .. versionadded:: 1.20.0\n",
      "    \n",
      "    Returns\n",
      "    -------\n",
      "    out : ndarray\n",
      "        Data read from the text file.\n",
      "    \n",
      "    See Also\n",
      "    --------\n",
      "    load, fromstring, fromregex\n",
      "    genfromtxt : Load data with missing values handled as specified.\n",
      "    scipy.io.loadmat : reads MATLAB data files\n",
      "    \n",
      "    Notes\n",
      "    -----\n",
      "    This function aims to be a fast reader for simply formatted files.  The\n",
      "    `genfromtxt` function provides more sophisticated handling of, e.g.,\n",
      "    lines with missing values.\n",
      "    \n",
      "    Each row in the input text file must have the same number of values to be\n",
      "    able to read all values. If all rows do not have same number of values, a\n",
      "    subset of up to n columns (where n is the least number of values present\n",
      "    in all rows) can be read by specifying the columns via `usecols`.\n",
      "    \n",
      "    .. versionadded:: 1.10.0\n",
      "    \n",
      "    The strings produced by the Python float.hex method can be used as\n",
      "    input for floats.\n",
      "    \n",
      "    Examples\n",
      "    --------\n",
      "    >>> from io import StringIO   # StringIO behaves like a file object\n",
      "    >>> c = StringIO(\"0 1\\n2 3\")\n",
      "    >>> np.loadtxt(c)\n",
      "    array([[0., 1.],\n",
      "           [2., 3.]])\n",
      "    \n",
      "    >>> d = StringIO(\"M 21 72\\nF 35 58\")\n",
      "    >>> np.loadtxt(d, dtype={'names': ('gender', 'age', 'weight'),\n",
      "    ...                      'formats': ('S1', 'i4', 'f4')})\n",
      "    array([(b'M', 21, 72.), (b'F', 35, 58.)],\n",
      "          dtype=[('gender', 'S1'), ('age', '<i4'), ('weight', '<f4')])\n",
      "    \n",
      "    >>> c = StringIO(\"1,0,2\\n3,0,4\")\n",
      "    >>> x, y = np.loadtxt(c, delimiter=',', usecols=(0, 2), unpack=True)\n",
      "    >>> x\n",
      "    array([1., 3.])\n",
      "    >>> y\n",
      "    array([2., 4.])\n",
      "    \n",
      "    The `converters` argument is used to specify functions to preprocess the\n",
      "    text prior to parsing. `converters` can be a dictionary that maps\n",
      "    preprocessing functions to each column:\n",
      "    \n",
      "    >>> s = StringIO(\"1.618, 2.296\\n3.141, 4.669\\n\")\n",
      "    >>> conv = {\n",
      "    ...     0: lambda x: np.floor(float(x)),  # conversion fn for column 0\n",
      "    ...     1: lambda x: np.ceil(float(x)),  # conversion fn for column 1\n",
      "    ... }\n",
      "    >>> np.loadtxt(s, delimiter=\",\", converters=conv)\n",
      "    array([[1., 3.],\n",
      "           [3., 5.]])\n",
      "    \n",
      "    `converters` can be a callable instead of a dictionary, in which case it\n",
      "    is applied to all columns:\n",
      "    \n",
      "    >>> s = StringIO(\"0xDE 0xAD\\n0xC0 0xDE\")\n",
      "    >>> import functools\n",
      "    >>> conv = functools.partial(int, base=16)\n",
      "    >>> np.loadtxt(s, converters=conv)\n",
      "    array([[222., 173.],\n",
      "           [192., 222.]])\n",
      "    \n",
      "    This example shows how `converters` can be used to convert a field\n",
      "    with a trailing minus sign into a negative number.\n",
      "    \n",
      "    >>> s = StringIO('10.01 31.25-\\n19.22 64.31\\n17.57- 63.94')\n",
      "    >>> def conv(fld):\n",
      "    ...     return -float(fld[:-1]) if fld.endswith(b'-') else float(fld)\n",
      "    ...\n",
      "    >>> np.loadtxt(s, converters=conv)\n",
      "    array([[ 10.01, -31.25],\n",
      "           [ 19.22,  64.31],\n",
      "           [-17.57,  63.94]])\n",
      "    \n",
      "    Using a callable as the converter can be particularly useful for handling\n",
      "    values with different formatting, e.g. floats with underscores:\n",
      "    \n",
      "    >>> s = StringIO(\"1 2.7 100_000\")\n",
      "    >>> np.loadtxt(s, converters=float)\n",
      "    array([1.e+00, 2.7e+00, 1.e+05])\n",
      "    \n",
      "    This idea can be extended to automatically handle values specified in\n",
      "    many different formats:\n",
      "    \n",
      "    >>> def conv(val):\n",
      "    ...     try:\n",
      "    ...         return float(val)\n",
      "    ...     except ValueError:\n",
      "    ...         return float.fromhex(val)\n",
      "    >>> s = StringIO(\"1, 2.5, 3_000, 0b4, 0x1.4000000000000p+2\")\n",
      "    >>> np.loadtxt(s, delimiter=\",\", converters=conv, encoding=None)\n",
      "    array([1.0e+00, 2.5e+00, 3.0e+03, 1.8e+02, 5.0e+00])\n",
      "    \n",
      "    Note that with the default ``encoding=\"bytes\"``, the inputs to the\n",
      "    converter function are latin-1 encoded byte strings. To deactivate the\n",
      "    implicit encoding prior to conversion, use ``encoding=None``\n",
      "    \n",
      "    >>> s = StringIO('10.01 31.25-\\n19.22 64.31\\n17.57- 63.94')\n",
      "    >>> conv = lambda x: -float(x[:-1]) if x.endswith('-') else float(x)\n",
      "    >>> np.loadtxt(s, converters=conv, encoding=None)\n",
      "    array([[ 10.01, -31.25],\n",
      "           [ 19.22,  64.31],\n",
      "           [-17.57,  63.94]])\n",
      "    \n",
      "    Support for quoted fields is enabled with the `quotechar` parameter.\n",
      "    Comment and delimiter characters are ignored when they appear within a\n",
      "    quoted item delineated by `quotechar`:\n",
      "    \n",
      "    >>> s = StringIO('\"alpha, #42\", 10.0\\n\"beta, #64\", 2.0\\n')\n",
      "    >>> dtype = np.dtype([(\"label\", \"U12\"), (\"value\", float)])\n",
      "    >>> np.loadtxt(s, dtype=dtype, delimiter=\",\", quotechar='\"')\n",
      "    array([('alpha, #42', 10.), ('beta, #64',  2.)],\n",
      "          dtype=[('label', '<U12'), ('value', '<f8')])\n",
      "    \n",
      "    Quoted fields can be separated by multiple whitespace characters:\n",
      "    \n",
      "    >>> s = StringIO('\"alpha, #42\"       10.0\\n\"beta, #64\" 2.0\\n')\n",
      "    >>> dtype = np.dtype([(\"label\", \"U12\"), (\"value\", float)])\n",
      "    >>> np.loadtxt(s, dtype=dtype, delimiter=None, quotechar='\"')\n",
      "    array([('alpha, #42', 10.), ('beta, #64',  2.)],\n",
      "          dtype=[('label', '<U12'), ('value', '<f8')])\n",
      "    \n",
      "    Two consecutive quote characters within a quoted field are treated as a\n",
      "    single escaped character:\n",
      "    \n",
      "    >>> s = StringIO('\"Hello, my name is \"\"Monty\"\"!\"')\n",
      "    >>> np.loadtxt(s, dtype=\"U\", delimiter=\",\", quotechar='\"')\n",
      "    array('Hello, my name is \"Monty\"!', dtype='<U26')\n",
      "    \n",
      "    Read subset of columns when all rows do not contain equal number of values:\n",
      "    \n",
      "    >>> d = StringIO(\"1 2\\n2 4\\n3 9 12\\n4 16 20\")\n",
      "    >>> np.loadtxt(d, usecols=(0, 1))\n",
      "    array([[ 1.,  2.],\n",
      "           [ 2.,  4.],\n",
      "           [ 3.,  9.],\n",
      "           [ 4., 16.]])\n",
      "\n"
     ]
    }
   ],
   "source": [
    "import numpy as np\n",
    "help(np.loadtxt)"
   ]
  },
  {
   "cell_type": "markdown",
   "id": "7d051aed-01b2-475d-8efe-ea869cfaf979",
   "metadata": {},
   "source": [
    "Ter illustratie zullen we gaan werken met een bestand \"deBilt_yearly_temperatures.txt\" dat in de map 'Media' is opgeslagen en waarin jaargemiddelde oppervlakte temperaturen uit de Bilt staan voor de periode 1901 tot 1990. Deze zijn verkregen via de Climate Explorer van het KNMI: https://climexp.knmi.nl/start.cgi.\n",
    "\n",
    "Zoals gezegd openen we dit bestand met de `loadtxt` functie uit de `numpy module`. Op de eerste 27 regels van het bestand staat allerlei achtergrondinformatie, zogenaamde `meta data`. Je kunt het bestand bekijken door naar de map Media te gaan en vervolgens dubbel te klikken op het bestand. Deze meta data willen we niet openen dus we moeten de functie vertellen om deze regels over te slaan. Dit kan ofwel door gebruik te maken van de functie optie `skiprows` of door aan te geven hoe deze 'comments' in het bestand zijn gemarkeerd (in ons geval met een '#'). Beide opties staan hieronder uitgewerkt."
   ]
  },
  {
   "cell_type": "code",
   "execution_count": 8,
   "id": "b3eb632f-e51a-4419-b1e4-345f047abc5b",
   "metadata": {
    "collapsed": true,
    "jupyter": {
     "outputs_hidden": true
    },
    "scrolled": true
   },
   "outputs": [
    {
     "data": {
      "text/plain": [
       "array([[1901.      ,    8.903205],\n",
       "       [1902.      ,    8.92253 ],\n",
       "       [1903.      ,    8.93362 ],\n",
       "       [1904.      ,    8.962243],\n",
       "       [1905.      ,    8.984967],\n",
       "       [1906.      ,    9.002845],\n",
       "       [1907.      ,    9.030684],\n",
       "       [1908.      ,    9.061136],\n",
       "       [1909.      ,    9.061813],\n",
       "       [1910.      ,    9.028958],\n",
       "       [1911.      ,    8.978573],\n",
       "       [1912.      ,    8.978765],\n",
       "       [1913.      ,    8.976768],\n",
       "       [1914.      ,    8.973549],\n",
       "       [1915.      ,    8.987822],\n",
       "       [1916.      ,    8.986124],\n",
       "       [1917.      ,    9.031549],\n",
       "       [1918.      ,    9.053846],\n",
       "       [1919.      ,    9.091194],\n",
       "       [1920.      ,    9.092023],\n",
       "       [1921.      ,    9.099168],\n",
       "       [1922.      ,    9.111775],\n",
       "       [1923.      ,    9.135405],\n",
       "       [1924.      ,    9.145616],\n",
       "       [1925.      ,    9.124907],\n",
       "       [1926.      ,    9.125786],\n",
       "       [1927.      ,    9.136966],\n",
       "       [1928.      ,    9.178061],\n",
       "       [1929.      ,    9.227715],\n",
       "       [1930.      ,    9.244284],\n",
       "       [1931.      ,    9.252213],\n",
       "       [1932.      ,    9.204939],\n",
       "       [1933.      ,    9.186271],\n",
       "       [1934.      ,    9.166513],\n",
       "       [1935.      ,    9.139896],\n",
       "       [1936.      ,    9.147175],\n",
       "       [1937.      ,    9.152941],\n",
       "       [1938.      ,    9.142723],\n",
       "       [1939.      ,    9.143662],\n",
       "       [1940.      ,    9.180979],\n",
       "       [1941.      ,    9.22009 ],\n",
       "       [1942.      ,    9.233147],\n",
       "       [1943.      ,    9.231488],\n",
       "       [1944.      ,    9.244477],\n",
       "       [1945.      ,    9.250731],\n",
       "       [1946.      ,    9.286716],\n",
       "       [1947.      ,    9.290689],\n",
       "       [1948.      ,    9.248138],\n",
       "       [1949.      ,    9.228629],\n",
       "       [1950.      ,    9.226952],\n",
       "       [1951.      ,    9.228156],\n",
       "       [1952.      ,    9.261005],\n",
       "       [1953.      ,    9.278863],\n",
       "       [1954.      ,    9.27778 ],\n",
       "       [1955.      ,    9.279699],\n",
       "       [1956.      ,    9.285302],\n",
       "       [1957.      ,    9.292798],\n",
       "       [1958.      ,    9.330986],\n",
       "       [1959.      ,    9.360363],\n",
       "       [1960.      ,    9.366921],\n",
       "       [1961.      ,    9.381194],\n",
       "       [1962.      ,    9.455902],\n",
       "       [1963.      ,    9.512233],\n",
       "       [1964.      ,    9.566514],\n",
       "       [1965.      ,    9.591889],\n",
       "       [1966.      ,    9.591287],\n",
       "       [1967.      ,    9.619922],\n",
       "       [1968.      ,    9.657665],\n",
       "       [1969.      ,    9.717463],\n",
       "       [1970.      ,    9.764116],\n",
       "       [1971.      ,    9.807912],\n",
       "       [1972.      ,    9.851774],\n",
       "       [1973.      ,    9.886477],\n",
       "       [1974.      ,    9.91304 ],\n",
       "       [1975.      ,    9.937561],\n",
       "       [1976.      ,    9.998328],\n",
       "       [1977.      ,   10.0394  ],\n",
       "       [1978.      ,   10.08407 ],\n",
       "       [1979.      ,   10.12719 ],\n",
       "       [1980.      ,   10.14545 ],\n",
       "       [1981.      ,   10.18434 ],\n",
       "       [1982.      ,   10.18912 ],\n",
       "       [1983.      ,   10.21907 ],\n",
       "       [1984.      ,   10.28074 ],\n",
       "       [1985.      ,   10.35122 ],\n",
       "       [1986.      ,   10.41676 ],\n",
       "       [1987.      ,   10.47302 ],\n",
       "       [1988.      ,   10.50863 ],\n",
       "       [1989.      ,   10.52571 ],\n",
       "       [1990.      ,   10.52389 ]])"
      ]
     },
     "execution_count": 8,
     "metadata": {},
     "output_type": "execute_result"
    }
   ],
   "source": [
    "import numpy as np\n",
    "debilt_data = np.loadtxt('Media/deBilt_yearly_temperatures.txt',skiprows=27)"
   ]
  },
  {
   "cell_type": "code",
   "execution_count": 1,
   "id": "926ad256-32d1-4221-9047-83999541760c",
   "metadata": {
    "scrolled": true
   },
   "outputs": [],
   "source": [
    "import numpy as np\n",
    "debilt_data = np.loadtxt('Media/deBilt_yearly_temperatures.txt',comments='#')"
   ]
  },
  {
   "cell_type": "markdown",
   "id": "276b72a1-fd51-4e7d-8232-b526b2fb32ad",
   "metadata": {},
   "source": [
    "Als je de variabele 'debilt_data' vervolgens bekijkt zul je zien dat het type 'ndarray' is (een numpy array). Meer over `numpy arrays` volgt later in deze cursus.\n",
    "\n",
    "Alle data die we zojuist hebben ingelezen, zowel de jaren als de bijbehorende temperaturen, staan nu in de variabele debilt_data. Je kunt `np.loadtxt` de data uit de twee kolommen ook direct in twee aparte variabelen laten zetten, bijvoorbeeld een variabele 'jaar' en een andere 'temp', door de optie `unpack=True` toe te voegen."
   ]
  },
  {
   "cell_type": "code",
   "execution_count": 13,
   "id": "0e4b533d-6e0a-4bac-95af-80a5300c1915",
   "metadata": {
    "scrolled": true
   },
   "outputs": [],
   "source": [
    "import numpy as np\n",
    "jaar, temp = np.loadtxt('Media/deBilt_yearly_temperatures.txt',comments='#',unpack=True)"
   ]
  },
  {
   "cell_type": "markdown",
   "id": "cf81ac72-64ff-4b4b-b027-1d0d52194261",
   "metadata": {},
   "source": [
    "Deze data kun je nu weergeven in bijvoorbeeld een grafiek, waarover later meer."
   ]
  },
  {
   "cell_type": "code",
   "execution_count": 11,
   "id": "46c597b5-c4e7-47cb-92ca-e45f31c53570",
   "metadata": {},
   "outputs": [
    {
     "data": {
      "text/plain": [
       "Text(0, 0.5, 'Jaargemiddelde temperatuur in de Bilt [C]')"
      ]
     },
     "execution_count": 11,
     "metadata": {},
     "output_type": "execute_result"
    },
    {
     "data": {
      "image/png": "[encoded data removed]",
      "text/plain": [
       "<Figure size 640x480 with 1 Axes>"
      ]
     },
     "metadata": {},
     "output_type": "display_data"
    }
   ],
   "source": [
    "import matplotlib.pyplot as plt\n",
    "\n",
    "plt.plot(jaar,temp,'.')\n",
    "plt.xlabel('Tijd [jaar]')\n",
    "plt.ylabel('Jaargemiddelde temperatuur in de Bilt [C]')"
   ]
  },
  {
   "cell_type": "markdown",
   "id": "fa0f8b74-401d-4381-84a4-56382dacda06",
   "metadata": {},
   "source": [
    "# Tekstbestanden schrijven\n",
    "\n",
    "Voor het schrijven van je data naar een tekstbestand kun je wederom verschillende functies gebruiken, maar wij zullen hier enkel kijken naar de `numpy` `savetxt` functie.\n",
    "\n",
    "Stel we willen enkele jaren toevoegen aan de lijst met temperatuurwaarnemingen uit de Bilt en de variabelen vervolgens opslaan, dan kunnen we iets doen zoals hieronder. Je hoeft niet alle details hieronder te begrijpen."
   ]
  },
  {
   "cell_type": "code",
   "execution_count": 44,
   "id": "c03183bd-3135-49fb-8e2b-0b0a4b43ecbe",
   "metadata": {},
   "outputs": [],
   "source": [
    "import numpy as np\n",
    "\n",
    "jaar_nieuw = np.append(jaar,[1991,1992,1993])   # Voeg drie jaartallen toe aan 'jaar' en geef deze variabele een nieuwe naam\n",
    "temp_nieuw = np.append(temp,[10.6088790011, 10.6600998117, 10.884])   # Voeg drie jaartallen toe aan 'temp' en geef deze variabele een nieuwe naam\n",
    "\n",
    "outfile = 'Media/deBilt_yearly_temperatures_nieuw.txt' # naam van nieuwe tekstbestand\n",
    "outvar =np.column_stack([jaar_nieuw, temp_nieuw])      # Maak een nieuwe variabele waarin de twee variabelen die we willen wegschrijven als kolommen naast elkaar staan \n",
    "formatting = ['%.0f','%.6f']                           # Geef aan dat de 'jaren' in de eerste kolom geen decimalen hebben, en de temperaturen in de tweede kolom zes decimalen hebben\n",
    "np.savetxt(outfile,outvar ,fmt=formatting,delimiter='\\t')   # Schrijf het nieuwe tekstbestand (gebruik een 'tab' als scheidingsteken (\\t))"
   ]
  },
  {
   "cell_type": "markdown",
   "id": "8d4c2215-6a8a-4a8d-b94d-c33ae8493144",
   "metadata": {},
   "source": [
    "Kijk in de map 'Media' of je inderdaad een nieuw tekstbestand hebt geschreven en of dit er uitziet zoals de bedoeling is."
   ]
  },
  {
   "cell_type": "markdown",
   "id": "bee37bc8-ca37-4dc4-ab9b-708e237687a0",
   "metadata": {},
   "source": [
    "# Excel-bestanden lezen\n",
    "\n",
    "Voor het lezen van excel bestanden maken we gebruik van de `read_excel functie` uit de `pandas module`. Meer informatie over de pandas module volgt later in deze cursus. Voor dit voorbeeld gebruiken we dezelfde temperatuur data als hiervoor, maar nu openenen we het \"deBilt_yearly_temperatures.xlsx\" bestand in de map 'Media'. Ook bij de `read_excel functie` kun je opties meegeven om bijvoorbeeld aan te geven welke regels er overgeslagen moeten worden (comment='#')."
   ]
  },
  {
   "cell_type": "code",
   "execution_count": 1,
   "id": "9b99f0c4-bdf2-40f3-baba-61452b000add",
   "metadata": {},
   "outputs": [
    {
     "name": "stdout",
     "output_type": "stream",
     "text": [
      "    Jaar  Temperatuur\n",
      "0   1901     8.903205\n",
      "1   1902     8.922530\n",
      "2   1903     8.933620\n",
      "3   1904     8.962243\n",
      "4   1905     8.984967\n",
      "..   ...          ...\n",
      "85  1986    10.416760\n",
      "86  1987    10.473020\n",
      "87  1988    10.508630\n",
      "88  1989    10.525710\n",
      "89  1990    10.523890\n",
      "\n",
      "[90 rows x 2 columns]\n"
     ]
    }
   ],
   "source": [
    "import pandas as pd \n",
    "nogmaals_debilt_data = pd.read_excel(\"Media/deBilt_yearly_temperatures.xlsx\",comment='#')\n",
    "print(nogmaals_debilt_data)"
   ]
  },
  {
   "cell_type": "markdown",
   "id": "6c3d063f-868b-4d43-b335-2b1361b24d4a",
   "metadata": {},
   "source": [
    "# Excel-bestanden schrijven\n",
    "\n",
    "Om een excel bestand te schrijven, is het het makkelijkste om te werken met een `dictionary`. In het voorbeeld hieronder schrijven we een dictionary met daarin de vijf landen met de grootste bevolking.  "
   ]
  },
  {
   "cell_type": "code",
   "execution_count": 2,
   "id": "b3a41f5e-41cb-41bc-9e8b-b691058b1cc4",
   "metadata": {},
   "outputs": [],
   "source": [
    "data_out = pd.DataFrame({'Landen':['India', 'China', 'VS','Indonesie','Pakistan'],\n",
    "    'Bevolking':['1450935791', '1419321278', '345426571','283487931','251269164']}) # Maak een dictionary aan\n",
    "outvar = 'Media/Landen_bevolking.xlsx'   # Geef naam en pad voor het te schrijven bestand\n",
    "data_out.to_excel(outvar)                # Schrijf de variabele 'data_out' naar bestand 'outvar'"
   ]
  },
  {
   "cell_type": "markdown",
   "id": "9",
   "metadata": {
    "jupyter": {
     "source_hidden": true
    }
   },
   "source": [
    "## Samenvatting\n",
    "\n",
    "In dit deel heb je kort enkele voorbeelden gezien van hoe je zowel tekstbestanden (.txt) als excel-bestanden kan lezen en schrijven in Python. Er zijn ook in dit geval zeker meerdere mogelijkheden om deze operaties uit te voeren en welke het handigste is dat is per geval verschillend. Ook hebben de functies die we besproken hebben een heel aantal functies die je kunnen helpen om op een goede manier data te lezen en schrijven. Gebruik voor meer informatie hiervoor vooral de hulp functies en kijk goed naar de vele voorbeelden die er online te vinden zijn."
   ]
  },
  {
   "cell_type": "markdown",
   "id": "4d64da40-3b5b-4c26-a6c9-2630a0240217",
   "metadata": {
    "jupyter": {
     "source_hidden": true
    }
   },
   "source": [
    "<!-- Links -->\n",
    "[Python_FigurenMaken]: 06_Python_Figuren.ipynb\n",
    "\n",
    "# Ga naar het volgende deel: [06_Python_Figuren][Python_FigurenMaken]"
   ]
  }
 ],
 "metadata": {
  "kernelspec": {
   "display_name": "Python 3",
   "language": "python",
   "name": "python3"
  },
  "language_info": {
   "codemirror_mode": {
    "name": "ipython",
    "version": 3
   },
   "file_extension": ".py",
   "mimetype": "text/x-python",
   "name": "python",
   "nbconvert_exporter": "python",
   "pygments_lexer": "ipython3",
   "version": "3.11.10"
  }
 },
 "nbformat": 4,
 "nbformat_minor": 5
}
