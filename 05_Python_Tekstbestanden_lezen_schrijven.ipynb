{
 "cells": [
  {
   "cell_type": "markdown",
   "id": "0",
   "metadata": {},
   "source": [
    "# Tekstbestanden lezen en schrijven\n",
    "\n",
    "## Overzicht\n",
    "\n",
    "Veel data waarmee we werken is opgeslagen in een excel-bestand of in tekst bestanden. Door zulke bestanden in Python te openen kun je er heel efficient bewerkingen op toepassen en figuren maken. In dit deel zullen we enkele voorbeelden zien van het openen van zulke bestanden en ook hoe je je resultaten zelf ook kan opslaan in een nieuw excel of tekst bestand."
   ]
  },
  {
   "cell_type": "markdown",
   "id": "d6c2098b-f766-4bbc-b630-c94b8d8ee745",
   "metadata": {},
   "source": [
    "# Tekstbestanden lezen\n",
    "\n",
    "Er zijn meerdere functies in Python die je kan gebruiken om tekstbestanden te openen en de data erin te lezen. Het is niet de bedoeling om die allemaal in detail te gaan bespreken, dus we beperken ons tot een van de functies, namelijk de `loadtxt` functie die beschikbaar is in de `numpy module`. Andere functies zijn readline() die standaard beschikbaar is in Python en genfromtxt() uit de numpy module.\n",
    "\n",
    "Om een eerste indruk te krijgen van de vele mogelijkheden van de `loadtxt` functie gaan we de help aanroepen. Zoals je zult zien zijn er allerlei opties beschreven. Verder is het heel handig dat er aan het einde allerlei voorbeelden gegeven worden."
   ]
  },
  {
   "cell_type": "code",
   "execution_count": null,
   "id": "512717a6-70d6-4d0c-89c2-4817bf7cadeb",
   "metadata": {},
   "outputs": [],
   "source": [
    "import numpy as np\n",
    "help(np.loadtxt)"
   ]
  },
  {
   "cell_type": "markdown",
   "id": "7d051aed-01b2-475d-8efe-ea869cfaf979",
   "metadata": {},
   "source": [
    "Ter illustratie zullen we gaan werken met een bestand \"deBilt_yearly_temperatures.txt\" dat in de map 'Media' is opgeslagen en waarin jaargemiddelde oppervlakte temperaturen uit de Bilt staan voor de periode 1901 tot 1990. Deze zijn verkregen via de Climate Explorer van het KNMI: https://climexp.knmi.nl/start.cgi.\n",
    "\n",
    "Zoals gezegd openen we dit bestand met de `loadtxt` functie uit de `numpy module`. Op de eerste 27 regels van het bestand staat allerlei achtergrondinformatie, zogenaamde `meta data`. Je kunt het bestand bekijken door naar de map Media te gaan en vervolgens dubbel te klikken op het bestand. Deze meta data willen we niet openen dus we moeten de functie vertellen om deze regels over te slaan. Dit kan ofwel door gebruik te maken van de functie optie `skiprows` of door aan te geven hoe deze 'comments' in het bestand zijn gemarkeerd (in ons geval met een '#'). Beide opties staan hieronder uitgewerkt."
   ]
  },
  {
   "cell_type": "code",
   "execution_count": null,
   "id": "b3eb632f-e51a-4419-b1e4-345f047abc5b",
   "metadata": {
    "scrolled": true
   },
   "outputs": [],
   "source": [
    "import numpy as np\n",
    "debilt_data = np.loadtxt('Media/deBilt_yearly_temperatures.txt',skiprows=27)"
   ]
  },
  {
   "cell_type": "code",
   "execution_count": null,
   "id": "926ad256-32d1-4221-9047-83999541760c",
   "metadata": {
    "scrolled": true
   },
   "outputs": [],
   "source": [
    "import numpy as np\n",
    "debilt_data = np.loadtxt('Media/deBilt_yearly_temperatures.txt',comments='#')"
   ]
  },
  {
   "cell_type": "markdown",
   "id": "276b72a1-fd51-4e7d-8232-b526b2fb32ad",
   "metadata": {},
   "source": [
    "Als je de variabele 'debilt_data' vervolgens bekijkt zul je zien dat het type 'ndarray' is (een numpy array). Meer over `numpy arrays` volgt later in deze cursus.\n",
    "\n",
    "Alle data die we zojuist hebben ingelezen, zowel de jaren als de bijbehorende temperaturen, staan nu in de variabele debilt_data. Je kunt `np.loadtxt` de data uit de twee kolommen ook direct in twee aparte variabelen laten zetten, bijvoorbeeld een variabele 'jaar' en een andere 'temp', door de optie `unpack=True` toe te voegen."
   ]
  },
  {
   "cell_type": "code",
   "execution_count": null,
   "id": "0e4b533d-6e0a-4bac-95af-80a5300c1915",
   "metadata": {
    "scrolled": true
   },
   "outputs": [],
   "source": [
    "import numpy as np\n",
    "jaar, temp = np.loadtxt('Media/deBilt_yearly_temperatures.txt',comments='#',unpack=True)"
   ]
  },
  {
   "cell_type": "markdown",
   "id": "cf81ac72-64ff-4b4b-b027-1d0d52194261",
   "metadata": {},
   "source": [
    "Deze data kun je nu weergeven in bijvoorbeeld een grafiek, waarover later meer."
   ]
  },
  {
   "cell_type": "code",
   "execution_count": null,
   "id": "46c597b5-c4e7-47cb-92ca-e45f31c53570",
   "metadata": {},
   "outputs": [],
   "source": [
    "import matplotlib.pyplot as plt\n",
    "\n",
    "plt.plot(jaar,temp,'.')\n",
    "plt.xlabel('Tijd [jaar]')\n",
    "plt.ylabel('Jaargemiddelde temperatuur in de Bilt [C]')"
   ]
  },
  {
   "cell_type": "markdown",
   "id": "fa0f8b74-401d-4381-84a4-56382dacda06",
   "metadata": {},
   "source": [
    "# Tekstbestanden schrijven\n",
    "\n",
    "Voor het schrijven van je data naar een tekstbestand kun je wederom verschillende functies gebruiken, maar wij zullen hier enkel kijken naar de `numpy` `savetxt` functie.\n",
    "\n",
    "Stel we willen enkele jaren toevoegen aan de lijst met temperatuurwaarnemingen uit de Bilt en de variabelen vervolgens opslaan, dan kunnen we iets doen zoals hieronder. Je hoeft niet alle details hieronder te begrijpen."
   ]
  },
  {
   "cell_type": "code",
   "execution_count": null,
   "id": "c03183bd-3135-49fb-8e2b-0b0a4b43ecbe",
   "metadata": {},
   "outputs": [],
   "source": [
    "import numpy as np\n",
    "\n",
    "jaar_nieuw = np.append(jaar,[1991,1992,1993])   # Voeg drie jaartallen toe aan 'jaar' en geef deze variabele een nieuwe naam\n",
    "temp_nieuw = np.append(temp,[10.6088790011, 10.6600998117, 10.884])   # Voeg drie jaartallen toe aan 'temp' en geef deze variabele een nieuwe naam\n",
    "\n",
    "outfile = 'Media/deBilt_yearly_temperatures_nieuw.txt' # naam van nieuwe tekstbestand\n",
    "outvar =np.column_stack([jaar_nieuw, temp_nieuw])      # Maak een nieuwe variabele waarin de twee variabelen die we willen wegschrijven als kolommen naast elkaar staan \n",
    "formatting = ['%.0f','%.6f']                           # Geef aan dat de 'jaren' in de eerste kolom geen decimalen hebben, en de temperaturen in de tweede kolom zes decimalen hebben\n",
    "np.savetxt(outfile,outvar ,fmt=formatting,delimiter='\\t')   # Schrijf het nieuwe tekstbestand (gebruik een 'tab' als scheidingsteken (\\t))"
   ]
  },
  {
   "cell_type": "markdown",
   "id": "8d4c2215-6a8a-4a8d-b94d-c33ae8493144",
   "metadata": {},
   "source": [
    "Kijk in de map 'Media' of je inderdaad een nieuw tekstbestand hebt geschreven en of dit er uitziet zoals de bedoeling is."
   ]
  },
  {
   "cell_type": "markdown",
   "id": "bee37bc8-ca37-4dc4-ab9b-708e237687a0",
   "metadata": {},
   "source": [
    "# Excel-bestanden lezen\n",
    "\n",
    "Voor het lezen van excel bestanden maken we gebruik van de `read_excel functie` uit de `pandas module`. Meer informatie over de pandas module volgt later in deze cursus. Voor dit voorbeeld gebruiken we dezelfde temperatuur data als hiervoor, maar nu openenen we het \"deBilt_yearly_temperatures.xlsx\" bestand in de map 'Media'. Ook bij de `read_excel functie` kun je opties meegeven om bijvoorbeeld aan te geven welke regels er overgeslagen moeten worden (comment='#')."
   ]
  },
  {
   "cell_type": "code",
   "execution_count": null,
   "id": "9b99f0c4-bdf2-40f3-baba-61452b000add",
   "metadata": {},
   "outputs": [],
   "source": [
    "import pandas as pd \n",
    "nogmaals_debilt_data = pd.read_excel(\"Media/deBilt_yearly_temperatures.xlsx\",comment='#')\n",
    "print(nogmaals_debilt_data)"
   ]
  },
  {
   "cell_type": "markdown",
   "id": "6c3d063f-868b-4d43-b335-2b1361b24d4a",
   "metadata": {},
   "source": [
    "# Excel-bestanden schrijven\n",
    "\n",
    "Om een excel bestand te schrijven, is het het makkelijkste om te werken met een `dictionary`. In het voorbeeld hieronder schrijven we een dictionary met daarin de vijf landen met de grootste bevolking.  "
   ]
  },
  {
   "cell_type": "code",
   "execution_count": null,
   "id": "b3a41f5e-41cb-41bc-9e8b-b691058b1cc4",
   "metadata": {},
   "outputs": [],
   "source": [
    "data_out = pd.DataFrame({'Landen':['India', 'China', 'VS','Indonesie','Pakistan'],\n",
    "    'Bevolking':['1450935791', '1419321278', '345426571','283487931','251269164']}) # Maak een dictionary aan\n",
    "outvar = 'Media/Landen_bevolking.xlsx'   # Geef naam en pad voor het te schrijven bestand\n",
    "data_out.to_excel(outvar)                # Schrijf de variabele 'data_out' naar bestand 'outvar'"
   ]
  },
  {
   "cell_type": "markdown",
   "id": "9",
   "metadata": {
    "jupyter": {
     "source_hidden": true
    }
   },
   "source": [
    "## Samenvatting\n",
    "\n",
    "In dit deel heb je kort enkele voorbeelden gezien van hoe je zowel tekstbestanden (.txt) als excel-bestanden kan lezen en schrijven in Python. Er zijn ook in dit geval zeker meerdere mogelijkheden om deze operaties uit te voeren en welke het handigste is dat is per geval verschillend. Ook hebben de functies die we besproken hebben een heel aantal functies die je kunnen helpen om op een goede manier data te lezen en schrijven. Gebruik voor meer informatie hiervoor vooral de hulp functies en kijk goed naar de vele voorbeelden die er online te vinden zijn."
   ]
  },
  {
   "cell_type": "markdown",
   "id": "4d64da40-3b5b-4c26-a6c9-2630a0240217",
   "metadata": {
    "jupyter": {
     "source_hidden": true
    }
   },
   "source": [
    "<!-- Links -->\n",
    "[Python_FigurenMaken]: 06_Python_Figuren.ipynb\n",
    "\n",
    "# Ga naar het volgende deel: [06_Python_Figuren][Python_FigurenMaken]"
   ]
  }
 ],
 "metadata": {
  "kernelspec": {
   "display_name": "Python 3 (ipykernel)",
   "language": "python",
   "name": "python3"
  },
  "language_info": {
   "codemirror_mode": {
    "name": "ipython",
    "version": 3
   },
   "file_extension": ".py",
   "mimetype": "text/x-python",
   "name": "python",
   "nbconvert_exporter": "python",
   "pygments_lexer": "ipython3",
   "version": "3.11.11"
  }
 },
 "nbformat": 4,
 "nbformat_minor": 5
}
