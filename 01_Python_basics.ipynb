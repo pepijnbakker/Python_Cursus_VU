{
 "cells": [
  {
   "cell_type": "markdown",
   "id": "d012a4c6-1834-4250-a609-53bd0660bc24",
   "metadata": {},
   "source": [
    "# Deel 1: Python Basics\n",
    "\n",
    "## Overzicht\n",
    "In dit eerste deel van de cursus zul je kennis maken met de basiselementen van het programmeren in Python. We beginnen met hoe je Python kan gebruiken als rekenmachine, en gaan dan verder met het behandelen van elementen zoals *variables*, *data types* en *indexing*, en we zullen bijvoorbeeld kijken wat de betekenis is van witruimte in Python en hoe je help-functies aan kan roepen."
   ]
  },
  {
   "cell_type": "markdown",
   "id": "0e13aade-098a-481a-baed-607efb5808f3",
   "metadata": {},
   "source": [
    "## Simpele berekeningen met Python\n",
    "Laten we beginnen met wat simpele berekeningen. Hiervoor heb je natuurlijk geen Python nodig, maar we moeten ergens beginnen!"
   ]
  },
  {
   "cell_type": "code",
   "execution_count": 3,
   "id": "a1b8f2c6-c2b5-4975-89ba-a7334fddcef2",
   "metadata": {},
   "outputs": [
    {
     "data": {
      "text/plain": [
       "14"
      ]
     },
     "execution_count": 3,
     "metadata": {},
     "output_type": "execute_result"
    }
   ],
   "source": [
    "10 + 4 # Optellen"
   ]
  },
  {
   "cell_type": "code",
   "execution_count": 18,
   "id": "4453e56c-703a-4245-ad7d-b955cf2d03b5",
   "metadata": {},
   "outputs": [
    {
     "data": {
      "text/plain": [
       "2"
      ]
     },
     "execution_count": 18,
     "metadata": {},
     "output_type": "execute_result"
    }
   ],
   "source": [
    "3 - 1 # Aftrekken"
   ]
  },
  {
   "cell_type": "markdown",
   "id": "8f13fbd0-357d-46dc-85cf-c224fa42e583",
   "metadata": {},
   "source": [
    "> **Notebook:** Nog even iets over Notebooks. Zoals je ziet bestaat een Notebook uit zowel (witte) cellen met uitleg, in de vorm van bijvoorbeeld tekst, figuren of tabellen, en uit (licht grijze) Python code cellen, zoals de cellen hier direct boven en onder. Deze Python code cellen kun je *runnen* door shift-enter of door op het zwarte pijltje te drukken in de werkbalk bovenaan de pagina. Hiermee voer je een Python commando uit."
   ]
  },
  {
   "cell_type": "markdown",
   "id": "b479b750-cebf-4076-a0b5-ea56c31af7d8",
   "metadata": {},
   "source": [
    "Nog wat voorbeelden van simpele berekeningen."
   ]
  },
  {
   "cell_type": "code",
   "execution_count": 19,
   "id": "857a8214-8d28-4d5f-829a-0257c147de9f",
   "metadata": {},
   "outputs": [
    {
     "data": {
      "text/plain": [
       "11"
      ]
     },
     "execution_count": 19,
     "metadata": {},
     "output_type": "execute_result"
    }
   ],
   "source": [
    "11 * 2 # Vermenigvuldigen\n",
    "9 / 3 # Delen\n",
    "2 ** 3 # Tot de macht verheffen (in dit geval 2 tot de macht 3)\n",
    "(10+1)*1 # In Python kun je ook gebruik maken van haakjes in je berekeningen"
   ]
  },
  {
   "cell_type": "markdown",
   "id": "9990a8f0-1dfa-4ce9-9e4f-cbd030c7292c",
   "metadata": {},
   "source": [
    "> **Notebook:** Nog even iets over Notebooks. Zoals je hierboven ziet, wordt enkel het laatste antwoord geprint als je meerdere regels hebt staan in een enkele cell."
   ]
  },
  {
   "cell_type": "markdown",
   "id": "5a902226-ce33-4849-8f3c-f5ed9c59aec1",
   "metadata": {},
   "source": [
    "Iets wat je niet zelf hoeft te gebruiken maar wat je wel regelmatig tegen kan komen, zijn verkorte notaties van de simpelste berekeningen:"
   ]
  },
  {
   "cell_type": "code",
   "execution_count": 20,
   "id": "94fb417f-22fb-441a-820e-eff8c58b58c0",
   "metadata": {},
   "outputs": [],
   "source": [
    "i = 1\n",
    "i += 1 # Is gelijk aan: i = i + 1\n",
    "i -= 5 # Is gelijk aan: i = i - 5\n",
    "i *= 2 # Is gelijk aan: i = i * 2\n",
    "i /= 2 # Is gelijk aan: i = i / 2"
   ]
  },
  {
   "cell_type": "markdown",
   "id": "17729450-deab-4e8b-a567-219b32150e5c",
   "metadata": {},
   "source": [
    "Wat is nu eigenlijk de waarde van `i` nadat je de cell hierboven uitgevoerd hebt?"
   ]
  },
  {
   "cell_type": "markdown",
   "id": "271afb9b-10a7-44fb-87a7-6dc7f0709ab6",
   "metadata": {},
   "source": [
    "De waarde van je variabele `i` kan bekijken door de `print()` functie."
   ]
  },
  {
   "cell_type": "code",
   "execution_count": 21,
   "id": "0c9b1de8-2ac6-4818-a1d2-e6ac8941891c",
   "metadata": {},
   "outputs": [
    {
     "name": "stdout",
     "output_type": "stream",
     "text": [
      "-3.0\n"
     ]
    }
   ],
   "source": [
    "print(i)"
   ]
  },
  {
   "cell_type": "markdown",
   "id": "5",
   "metadata": {},
   "source": [
    "Of je kunt de variabele naam direct in een Python code cell typen en de cell runnen."
   ]
  },
  {
   "cell_type": "code",
   "execution_count": 22,
   "id": "beccba36-4f09-4f73-8368-273d41a286b8",
   "metadata": {},
   "outputs": [
    {
     "data": {
      "text/plain": [
       "-3.0"
      ]
     },
     "execution_count": 22,
     "metadata": {},
     "output_type": "execute_result"
    }
   ],
   "source": [
    "i"
   ]
  },
  {
   "cell_type": "markdown",
   "id": "be5e3abe-5f47-414d-801f-b49030e27013",
   "metadata": {},
   "source": [
    "**Python code is geen wiskunde!** Zoals je aan het voorbeeld hierboven kunt zien, is Python code geen wiskunde. In de wiskunde is er namelijk geen oplossing voor bijvoorbeeld de vergelijking i = i + 1. Echter in Python betekend het simpelweg dat je aan `i` de waarde toekent van `i` en daar vervolgens 1 bij op telt. Let op dat `i` dan al wel eerder een waarde moet hebben gekregen, vandaar de eerste regel met i = 1. Doe je dat niet, dan krijg je een foutmelding. Hierover later meer."
   ]
  },
  {
   "cell_type": "markdown",
   "id": "9b348255-41e1-4bce-bd9a-2336003fec45",
   "metadata": {},
   "source": [
    "## Variabelen in Python\n",
    "\n",
    "Zoals je in het voorbeeld hierboven kan zien voor `i`, kan je de uitkomst toekennen aan een variabele (*opslaan*). Dat kan dus ook voor alle andere simpele berekeningen die we eerder deden."
   ]
  },
  {
   "cell_type": "code",
   "execution_count": 6,
   "id": "18eb1a66-2cc0-4d63-a611-695b0e08ffa4",
   "metadata": {},
   "outputs": [],
   "source": [
    "a = 10 + 4 # Optellen\n",
    "b = 3 - 1 # Aftrekken\n",
    "c = 11 * 2 # Vermenigvuldigen\n",
    "d = 9 / 3 # Delen\n",
    "e = (10+1)*1 # In Python kun je ook gebruik maken van haakjes in je berekeningen"
   ]
  },
  {
   "cell_type": "markdown",
   "id": "7e59a002-d514-4948-b3f3-1b5252bb357a",
   "metadata": {},
   "source": [
    "In Python, is een variabele de naam die je toekent aan een object. Zo'n object kan een getal zijn zoals hierboven, maar ook een stuk tekst of bijvoorbeeld een hele tabel.\n",
    "Zo'n variabele kun je dan vervolgens ook weer gebruiken in een berekening."
   ]
  },
  {
   "cell_type": "code",
   "execution_count": 16,
   "id": "175e13ee-f6cc-4730-b5e8-4981188b225a",
   "metadata": {},
   "outputs": [
    {
     "data": {
      "text/plain": [
       "-18.0"
      ]
     },
     "execution_count": 16,
     "metadata": {},
     "output_type": "execute_result"
    }
   ],
   "source": [
    "(a + b - c)*d"
   ]
  },
  {
   "cell_type": "markdown",
   "id": "108704d4-8a8d-417c-b00a-6ca78e6e7cc8",
   "metadata": {},
   "source": [
    "## Een variabele een naam geven\n",
    "\n",
    "Er zijn een aantal regels waar je op moet letten als je een naam geeft aan je variabele:\n",
    "\n",
    "- Een variabele naam moet met een letter beginnen.\n",
    "- De rest van de variabele naam mag uit letters, getallen en lage streepjes `_` bestaan.\n",
    "- Variabele namen zijn hoofdletter gevoelig, dus `days_per_year` en `Days_per_year` zijn verschillende variabelen.\n",
    "- Heel belangrijk is het dat je variabele naam een betekenis heeft; een beschrijving is van wat de variabele is. Dus gebruiken we bijvoorbeeld `days_per_year' in plaats van iets als `n`.\n",
    "- Gebruik voor variabele namen geen woorden die in Python al een betekenis hebben, bijvoorbeeld `print`, `sum`, `list`, `dict`, `str`, `int`, `float`, `bool`, `set`, `tuple`, `range`, `type`, `object`, `None`, `True`, `False`, `and`, `or`, `not`, `if`, `else`, `elif`, `for`, `while`, `break`, `continue`, `pass`, `def`, `return`, `lambda`, `class`, `import`, `from`, `as`, `with`, `try`, `except`, `finally`, `raise`, `assert`, `del`, `in`, `is`, `global`, `nonlocal`, `yield`, `async`, `await`."
   ]
  },
  {
   "cell_type": "markdown",
   "id": "e5a05f00-bdc6-4e98-a5a0-3cd235d99117",
   "metadata": {},
   "source": [
    "De variabele namen zoals we die eerder gebruikt hebben, `a`, `b` etc. waren dus eigenlijk geen goede voorbeelden van goede Python variabele namen, ze geven namelijk geen beschrijving van wat de variabele is!\n",
    "\n",
    "Een beter voorbeeld zou `days_per_year` kunnen zijn, als je bijvoorbeeld in je code een variabele nodig hebt waarin we het aantal dagen in een jaar opslaan."
   ]
  },
  {
   "cell_type": "code",
   "execution_count": 2,
   "id": "2",
   "metadata": {},
   "outputs": [],
   "source": [
    "days_per_year = 365 # Number of days in a year"
   ]
  },
  {
   "cell_type": "markdown",
   "id": "028f2e38-5c37-4d8f-ae9a-1be17bd60877",
   "metadata": {},
   "source": [
    "Deze variabele `days_per_year` bevat nu het *integer* getal 365, dat je vervolgens kan gaan gebruiken voor bijvoorbeeld een berekening. Wat een *integer* is komt zometeeen aan de orde bij `Data Types`."
   ]
  },
  {
   "cell_type": "markdown",
   "id": "1167d571-93e6-4189-9649-cce015c7ed96",
   "metadata": {},
   "source": [
    "## Beschrijvingen (*comments*)\n",
    "\n",
    "Het is heel belangrijk om in Python veel beschrijvingen toe te voegen om je code leesbaar te maken en begrijpelijk voor zowel jezelf als anderen. Beschrijvingen kun je toevoegen door het `#` symbool te gebruiken. Alles wat er op een regel na het `#` symbool komt wordt door Python genegeerd. Hierboven heb je hier al enkele voorbeelden van gezien. Als je in je code een uitgebreidere beschrijving wilt geven die niet op 1 regel past, kun je hiervoor drie dubbele aanhalingstekens gebruiken (`'''` of `\"\"\"`)."
   ]
  },
  {
   "cell_type": "code",
   "execution_count": 3,
   "id": "1849030b-1496-4c9a-90b0-b2978697ca5a",
   "metadata": {},
   "outputs": [
    {
     "data": {
      "text/plain": [
       "31536000"
      ]
     },
     "execution_count": 3,
     "metadata": {},
     "output_type": "execute_result"
    }
   ],
   "source": [
    "\"\"\" In dit stuk Python code worden zowel de langere beschrijving die je nu aan het lezen bent,\n",
    "als ook de korte beschrijving na de onderstaande berekening, door Python genegeerd.\"\"\"\n",
    "\n",
    "60 * 60 * 24 * days_per_year # aantal seconden in een jaar"
   ]
  },
  {
   "cell_type": "markdown",
   "id": "dde11b65-70a1-4d02-8e22-89fd9a7dcff3",
   "metadata": {},
   "source": [
    "## Witruimte\n",
    "\n",
    "In Python is het gebruik van witruimte of witte regels in sommige gevallen heel belangrijk, zoals we later zullen zien bij bijvoorbeeld `for loops` en `if statements`, maar in alle andere gevallen is het enkel voor jezelf om een code goed leesbaar te houden. Maar daarom niet minder belangrijk! "
   ]
  },
  {
   "cell_type": "code",
   "execution_count": 17,
   "id": "a20885af-155c-4622-bfa5-15457beb187e",
   "metadata": {},
   "outputs": [
    {
     "data": {
      "text/plain": [
       "11"
      ]
     },
     "execution_count": 17,
     "metadata": {},
     "output_type": "execute_result"
    }
   ],
   "source": [
    "1 +                10 # Witruime wordt genegeerd maar dit is niet goed leesbaar"
   ]
  },
  {
   "cell_type": "markdown",
   "id": "cdb2fba4-3fca-45f0-a295-a5eb3ecd7e63",
   "metadata": {},
   "source": [
    "## Data Types\n",
    "\n",
    "In Python werken we met verschillende data types. Afhankelijk van wat je met een variabele wilt of wat je er mee op wilt slaan, heb je een ander data type nodig. De meest gebruikelijke zijn:\n",
    "\n",
    "**a) Integers (int):** Dit zijn hele getallen, bijvoorbeeld 1, 120, -5"
   ]
  },
  {
   "cell_type": "code",
   "execution_count": 24,
   "id": "9",
   "metadata": {},
   "outputs": [],
   "source": [
    "Number_of_lakes = 51 # Aantal meren"
   ]
  },
  {
   "cell_type": "markdown",
   "id": "10",
   "metadata": {},
   "source": [
    "**b) Floating-point numbers (float):** Dit zijn getallen met decimalen, bijvoorbeeld 3.14, -0.001, 100.0"
   ]
  },
  {
   "cell_type": "code",
   "execution_count": null,
   "id": "f30202be-cf32-45d4-b256-de68e9b3854a",
   "metadata": {},
   "outputs": [],
   "source": [
    "latitude = 35.6895  # latitude of city\n",
    "longitude = 139.6917 # longitde of city"
   ]
  },
  {
   "cell_type": "markdown",
   "id": "12",
   "metadata": {},
   "source": [
    "**c) Strings (str):** Strings zijn reeksen van letter, bijvoorbeeld \"Hello\", \"Geospatial Data\" of bijvoorbeeld \"Lat/Long\""
   ]
  },
  {
   "cell_type": "code",
   "execution_count": 26,
   "id": "bc983b6b-8fd8-4a04-929a-bf7411d2cfb6",
   "metadata": {},
   "outputs": [],
   "source": [
    "coordinate_system = \"WGS 84\" # The coordinate system that is to be used"
   ]
  },
  {
   "cell_type": "markdown",
   "id": "14",
   "metadata": {},
   "source": [
    "Je kunt voor een string zowel enkele (`'`) als dubbele aanhalingstekens (`\"`) gebruiken."
   ]
  },
  {
   "cell_type": "markdown",
   "id": "15",
   "metadata": {},
   "source": [
    "**d) Booleans (bool):** Booleans kennen de waarde True of False"
   ]
  },
  {
   "cell_type": "code",
   "execution_count": null,
   "id": "16",
   "metadata": {},
   "outputs": [],
   "source": [
    "include_iceberg_melt = True # Geef aan of in de simulatie het smelten van ijsbergen ook meegenomen moet worden"
   ]
  },
  {
   "cell_type": "code",
   "execution_count": 11,
   "id": "933d7069-f642-4a2e-81be-e050e2012527",
   "metadata": {},
   "outputs": [
    {
     "name": "stdout",
     "output_type": "stream",
     "text": [
      "False\n"
     ]
    }
   ],
   "source": [
    "a = 1\n",
    "b = a == 2 # Check if a equals 2 and store the resulting Boolean in variable b\n",
    "print(b)"
   ]
  },
  {
   "cell_type": "markdown",
   "id": "17",
   "metadata": {},
   "source": [
    "**e) Lists:** Lists zijn lijsten van items van willekeurig welk data type. Je kunt in een list ook verschillende data types combineren, en je kunt een list zelfs opbouwen uit andere lists! Je maakt een list door vierkante haken te gebruiken en de items te scheiden door komma's."
   ]
  },
  {
   "cell_type": "code",
   "execution_count": 12,
   "id": "18",
   "metadata": {},
   "outputs": [],
   "source": [
    "maanden = ['januari', 'february', 'maart', 'april', 'mei', 'juni', 'juli', 'augustus', 'september', 'oktober', 'november', 'december'] # Maanden van het jaar"
   ]
  },
  {
   "cell_type": "code",
   "execution_count": 13,
   "id": "a6adffa3-50e2-4ef1-a006-d63a4a82c978",
   "metadata": {},
   "outputs": [],
   "source": [
    "list_of_lists = [ [1,2,3], [10,11,12]] # Een lijst die bestaat uit twee andere lijsten"
   ]
  },
  {
   "cell_type": "markdown",
   "id": "8807bdde-cfd2-4b3d-a3b5-9ffd67a23320",
   "metadata": {},
   "source": [
    "**f) Tuples:** Tuples zijn heel vergelijkbaar met lists, met dat verschil dat je de inhoud van een typle niet kan aanpassen nadat je hem aangemaakt hebt. Dit kun je bijvoorbeeld gebruiken voor een variabele waarvan je zeker wilt zijn dat deze niet op een later moment in je code per ongeluk aangepast wordt. Je maakt een tuple door ronde haken te gebruiken en de items te scheiden door komma's."
   ]
  },
  {
   "cell_type": "code",
   "execution_count": 14,
   "id": "ff9fa8fe-13c4-4ce9-a42b-dfb321f47cf5",
   "metadata": {},
   "outputs": [],
   "source": [
    "maanden = ('januari', 'february', 'maart', 'april', 'mei', 'juni', 'juli', 'augustus', 'september', 'oktober', 'november', 'december') # Maanden van het jaar"
   ]
  },
  {
   "cell_type": "markdown",
   "id": "19",
   "metadata": {},
   "source": [
    "**g) Dictionaries (dict):** Dictionaries zijn collecties van 'namen' en bijbehorende 'waarde'. Een dictionary maak je door accolades te gebruiken. De items zijn wederom gescheiden door komma's, en de naam en bijbehorende waarde zijn gescheiden door een dubbele punt. "
   ]
  },
  {
   "cell_type": "code",
   "execution_count": 15,
   "id": "20",
   "metadata": {},
   "outputs": [],
   "source": [
    "volcano_attributes = { #Characteristics of Mount Fuji volcano\n",
    "    \"name\": \"Mount Fuji\",\n",
    "    \"height_meters\": 3776,\n",
    "    \"type\": \"Stratovolcano\",\n",
    "    \"location\": [35.3606, 138.7274],\n",
    "}"
   ]
  },
  {
   "cell_type": "markdown",
   "id": "6a14c1f3-d28f-44f3-8e86-7734615cd149",
   "metadata": {},
   "source": [
    "In latere hoofdstukken zullen we nog twee andere data types tegenkomen die specifiek horen bij de `numpy` en `pandas` modules.\n",
    "\n",
    "Als je niet weet wat het type van een variabele is, kun je dat achterhalen door de `type()` functie:"
   ]
  },
  {
   "cell_type": "code",
   "execution_count": 16,
   "id": "79f23ae6-afb9-4908-a173-f795502b9185",
   "metadata": {},
   "outputs": [
    {
     "data": {
      "text/plain": [
       "dict"
      ]
     },
     "execution_count": 16,
     "metadata": {},
     "output_type": "execute_result"
    }
   ],
   "source": [
    "type(volcano_attributes)"
   ]
  },
  {
   "cell_type": "markdown",
   "id": "e0851b6b-22da-487e-9eba-17baeb431c3c",
   "metadata": {},
   "source": [
    "> **Notebook:** Nog even iets over Notebooks. Je hebt ondertussen allerlei variabelen aangemaakt. Deze staan nu allemaal in het geheugen van Python. Je kunt ze dus ook nog steeds aanroepen. Je kunt in JupyterHub ook een overzicht krijgen van alle variabelen in het geheugen en hun waarde. Dit doe je door de `debugger` aan te zetten rechts bovenaan deze pagina (zie symbool bij de rode pijl inde figuur hieronder), en vervolgens links in het menu op `variables` te klikken."
   ]
  },
  {
   "cell_type": "markdown",
   "id": "0e92ee68-6acf-41dc-9221-c5b274c6876b",
   "metadata": {},
   "source": [
    "![Debugger](./Media/Debugger.png)"
   ]
  },
  {
   "cell_type": "markdown",
   "id": "30",
   "metadata": {},
   "source": [
    "## Werken met verschillende data types\n",
    "\n",
    "De data types die we hierboven besproken hebben, hebben allemaal `methods` die speciaal passen bij dat data type. Hieronder enkele voorbeelden, later zullen we er nog meer voorbij zien komen."
   ]
  },
  {
   "cell_type": "code",
   "execution_count": 33,
   "id": "31",
   "metadata": {},
   "outputs": [
    {
     "name": "stdout",
     "output_type": "stream",
     "text": [
      "MY VERY NICE SHORT TEXT\n"
     ]
    }
   ],
   "source": [
    "my_text = \"My very nice short text\"\n",
    "print(my_text.upper()) # Zet de string om in allemaal hoofdletters"
   ]
  },
  {
   "cell_type": "code",
   "execution_count": 38,
   "id": "7193a775-2b14-410a-af11-8a134d1cad9a",
   "metadata": {},
   "outputs": [
    {
     "name": "stdout",
     "output_type": "stream",
     "text": [
      "9\n"
     ]
    }
   ],
   "source": [
    "a = my_text.find('i') # Op welke plek in mijn tekst vind ik de eerste letter 'i'\n",
    "print(a)"
   ]
  },
  {
   "cell_type": "code",
   "execution_count": 37,
   "id": "c8ef073e-ad36-4f60-b411-711ada11c5f1",
   "metadata": {},
   "outputs": [
    {
     "name": "stdout",
     "output_type": "stream",
     "text": [
      "['apple', 'banana', 'cherry']\n"
     ]
    }
   ],
   "source": [
    "txt = \"apple, banana, cherry\"\n",
    "x = txt.rsplit(\", \") # Neem een string en zet deze om in een lijst waarbij je de string splits door middel van het symbool ','.\n",
    "print(x)"
   ]
  },
  {
   "cell_type": "markdown",
   "id": "32",
   "metadata": {},
   "source": [
    "Er zijn nog heel veel andere `methods` die specifiek voor strings zijn. Hopelijk kun je je voorstellen dat je door slim gebruik te maken van de mogelijkheden in Python, je efficient kan werken met grote data-bases met tekst."
   ]
  },
  {
   "cell_type": "markdown",
   "id": "79f8403b-9357-4077-a5d0-5670f1503bdb",
   "metadata": {},
   "source": [
    "> **Notebook:** Nog even iets over Notebooks. Het onthouden van alle mogelijke `methods` is niet eenvoudig. Gelukkig is er hulp! Als je bijvoorbeeld wilt weten welke methods er allemaal zijn voor de string `txt`, dan type je `txt.` en vervolgens druk je op tab. Er verschijnt nu een menu met alle mogelijke methods voor dit data type. Als je niet meer helemaal weet hoe de method heet waar je naar opzoek bent, maar wel bijvoorbeeld dat de method met de letter f begint, dan type je `txt.f` en vervolgens tab. Nu krijg je alle methods te zien die met de letter f beginnen."
   ]
  },
  {
   "cell_type": "markdown",
   "id": "139592a1-4cd8-4a60-bf45-cfba4613f24c",
   "metadata": {},
   "source": [
    "Ook voor het `list` data type zijn er allerlei specifieke `methods`. Hieronder enkele voorbeelden. Ook hiervoor geldt dat er nog vele andere `methods` bestaan die je eenvoudig op internet op kunt zoeken."
   ]
  },
  {
   "cell_type": "code",
   "execution_count": 7,
   "id": "33",
   "metadata": {},
   "outputs": [
    {
     "name": "stdout",
     "output_type": "stream",
     "text": [
      "[10, 12, 'Vandaag']\n",
      "[10, 12, 'Vandaag', 10]\n",
      "[10, 'Vandaag', 12, 10]\n"
     ]
    },
    {
     "data": {
      "text/plain": [
       "2"
      ]
     },
     "execution_count": 7,
     "metadata": {},
     "output_type": "execute_result"
    }
   ],
   "source": [
    "my_new_list = [10, 12, \"Vandaag\"] # Maak een willekeurige lijst\n",
    "my_new_list.append(10)            # Voeg een nieuw item toe aan de lijst (dit item kan ook een andere lijst zijn)\n",
    "print(my_new_list)\n",
    "my_new_list.reverse()             # Draai de volgorde van de elementen om\n",
    "print(my_new_list)\n",
    "my_new_list.count(10)             # Tel het aantal keren dat het getal 10 voorkomt in de lijst"
   ]
  },
  {
   "cell_type": "code",
   "execution_count": 12,
   "id": "491be05a-46f8-4373-806d-7399bfc16091",
   "metadata": {},
   "outputs": [
    {
     "name": "stdout",
     "output_type": "stream",
     "text": [
      "[100, 11, 10, 1]\n"
     ]
    }
   ],
   "source": [
    "my_new_list = [10, 11, 1, 100]\n",
    "my_new_list.sort(reverse=True) # Als de elementen van hetzelfde data type zijn, dan kun je ze ook laten sorteren (in dit geval achterstevoren omdat reverse=True)\n",
    "print(my_new_list)"
   ]
  },
  {
   "cell_type": "markdown",
   "id": "34",
   "metadata": {},
   "source": [
    "En tenslotte enkele `methods` die specifiek horen bij `dictionaries`."
   ]
  },
  {
   "cell_type": "code",
   "execution_count": 24,
   "id": "35",
   "metadata": {},
   "outputs": [
    {
     "name": "stdout",
     "output_type": "stream",
     "text": [
      "Geel\n",
      "dict_keys(['Kleur', 'Smaak', 'Regio', 'Schil'])\n",
      "dict_values(['Geel', 'Zoet', 'Tropen', 'Niet eetbaar'])\n",
      "{'Kleur': 'Geel', 'Smaak': 'Zoet', 'Schil': 'Niet eetbaar'}\n"
     ]
    }
   ],
   "source": [
    "Banaan = {             # Maak een willekeurige dictionary\n",
    "    \"Kleur\": \"Geel\",\n",
    "    \"Smaak\": \"Zoet\",\n",
    "    \"Regio\": \"Tropen\",\n",
    "    \"Schil\": \"Niet eetbaar\"\n",
    "}\n",
    "print(Banaan[\"Kleur\"]) # Geef de waardes in de categorie 'Kleur'\n",
    "print(Banaan.keys())   # Geef de `keys` (namen van de categorien)\n",
    "print(Banaan.values()) # Geef de `values` (waardes van de categorien)\n",
    "Banaan.pop(\"Regio\")    # Verwijder de categorie 'Regio'\n",
    "print(Banaan)"
   ]
  },
  {
   "cell_type": "markdown",
   "id": "3f435224-2ba1-447a-9e99-1260e25d524b",
   "metadata": {},
   "source": [
    "## Indexing lists\n",
    "\n",
    "Bij lijsten is het belangrijk om te weten hoe je een bepaalde waarde, of een reeks aan waardes uit een lijst kan aanroepen. Dit heet `indexing`.\n",
    "\n",
    "In een lijst kun je een waarde aanroepen door middel van de index `[x]`."
   ]
  },
  {
   "cell_type": "code",
   "execution_count": 2,
   "id": "7e5a226f-960e-4b4a-8299-5e1d6476e212",
   "metadata": {},
   "outputs": [
    {
     "data": {
      "text/plain": [
       "7"
      ]
     },
     "execution_count": 2,
     "metadata": {},
     "output_type": "execute_result"
    }
   ],
   "source": [
    "mijn_lijst = [2, 3, 5, 7, 11]  # Maak een willekeurige lijst aan\n",
    "mijn_lijst[3]                  # Neem het vierde getal (index 3)"
   ]
  },
  {
   "cell_type": "markdown",
   "id": "6f3a3d55-39bb-4e9e-aa83-8f6013c777de",
   "metadata": {},
   "source": [
    "Mogelijk had je in het voorbeeld hierboven gedacht dat de uitkomst 5 zou zijn en niet 7. De reden hiervoor is dat je in Python begint te tellen bij 0. Dus de eerste waarde in je lijst is:"
   ]
  },
  {
   "cell_type": "code",
   "execution_count": 31,
   "id": "517c9883-97c4-46d7-b729-37afb1f00e8d",
   "metadata": {},
   "outputs": [
    {
     "data": {
      "text/plain": [
       "2"
      ]
     },
     "execution_count": 31,
     "metadata": {},
     "output_type": "execute_result"
    }
   ],
   "source": [
    "mijn_lijst[0]  # Neem het eerste getal (index 0)"
   ]
  },
  {
   "cell_type": "markdown",
   "id": "dc5524f9-1ba7-4e08-b342-dceb4090f414",
   "metadata": {},
   "source": [
    "En de laatste waarde is:"
   ]
  },
  {
   "cell_type": "code",
   "execution_count": 32,
   "id": "29e50b84-c8f1-4a17-bf69-b09a04f739ee",
   "metadata": {},
   "outputs": [
    {
     "data": {
      "text/plain": [
       "11"
      ]
     },
     "execution_count": 32,
     "metadata": {},
     "output_type": "execute_result"
    }
   ],
   "source": [
    "mijn_lijst[4]  # Neem het vijfde en in dit geval laatste getal."
   ]
  },
  {
   "cell_type": "markdown",
   "id": "1c1e0f4c-bd0c-4967-8f93-74622232a7bd",
   "metadata": {},
   "source": [
    "Je kunt ook een reeks waardes aanroepen in een lijst. Hierbij geef je twee indexen voor het begin van je reeks en het einde van je reeks [x0:x1]."
   ]
  },
  {
   "cell_type": "code",
   "execution_count": 5,
   "id": "c91e3ba5-2d51-47b6-881c-c73c2bd41f99",
   "metadata": {},
   "outputs": [
    {
     "data": {
      "text/plain": [
       "[3, 5, 7]"
      ]
     },
     "execution_count": 5,
     "metadata": {},
     "output_type": "execute_result"
    }
   ],
   "source": [
    "mijn_lijst[1:4]  # Neem het tweede, derde en vierde getal"
   ]
  },
  {
   "cell_type": "markdown",
   "id": "146fa748-6410-460d-85c5-76670eef735f",
   "metadata": {},
   "source": [
    "Ook hier is er weer iets verrassends aan de hand, namelijk dat je reeks is van index `1` **tot** index `4`. Als je in een reeks de laatste waarde ook mee wilt nemen, dan kun je het volgende doen:"
   ]
  },
  {
   "cell_type": "code",
   "execution_count": 6,
   "id": "accc8243-cf6d-4887-b4f4-3833bc86271a",
   "metadata": {},
   "outputs": [
    {
     "data": {
      "text/plain": [
       "[3, 5, 7, 11]"
      ]
     },
     "execution_count": 6,
     "metadata": {},
     "output_type": "execute_result"
    }
   ],
   "source": [
    "mijn_lijst[1:]"
   ]
  },
  {
   "cell_type": "markdown",
   "id": "0c370f31-d0be-4dab-a35d-8847f253706a",
   "metadata": {},
   "source": [
    "Nu hebben we twee belangrijke dingen te pakken die je simpelweg moet onthouden:\n",
    "- In Python begin je te tellen met 0\n",
    "- In Python gaat een reeks altijd **tot** je eind-index en **niet tot en met**\n",
    "\n",
    "Met indexing heb je nog twee extra mogelijkheden die we hier bespreken, indexing van achter naar voren, en indexing met stappen.\n",
    "\n",
    "Je kunt bij het bepalen van een reeks van je lijst, ook van achter naar voren werken. In dat geval gebruik je negatieve getallen, waarbij [-1] de laatste waarde uit je lijst is, [-2] is de een na laatste waarde enzovoorts. Dit is handiger dan je nu misschien denkt! Het kan namelijk voorkomen dat je niet weet hoe je groot je lijst is, of de grootte verandert gedurende je programma. Door van achter naar voren te tellen kun je altijd de laatste waarde of waardes, nemen zonder dat je moet weten hoe groot de lijst eigenlijk is."
   ]
  },
  {
   "cell_type": "code",
   "execution_count": 7,
   "id": "27b712c4-317f-4622-8513-f21d6550aa86",
   "metadata": {},
   "outputs": [
    {
     "name": "stdout",
     "output_type": "stream",
     "text": [
      "11\n",
      "[5, 7]\n"
     ]
    }
   ],
   "source": [
    "print(mijn_lijst[-1])\n",
    "print(mijn_lijst[-3:-1])"
   ]
  },
  {
   "cell_type": "markdown",
   "id": "a13cbb39-4103-4878-9f3b-c14c8db61343",
   "metadata": {},
   "source": [
    "Hoe indexing in Python werkt is in de figuur hieronder nogmaals uitgelegd voor de lijst [2, 3, 5, 7, 11], zowel voor het geval je van voor naar achter wilt tellen (kleine getallen boven de lijst), als voor het geval je van achter naar voren wilt tellen (kleine getallen onder de lijst).\n",
    "\n",
    "![ListIndexing](./Media/list-indexing.png)"
   ]
  },
  {
   "cell_type": "markdown",
   "id": "ab7d204f-3fd6-4500-8bec-f91ca2e30b9d",
   "metadata": {},
   "source": [
    "Tenslotte nog een voorbeeld van hoe je uit een lijst een reeks neemt met stappen. Dus bijvoorbeeld enkel het eerste, derde en vijfde getal:"
   ]
  },
  {
   "cell_type": "code",
   "execution_count": 4,
   "id": "2e0b0f15-b8e8-4a1d-9fc5-e36dd9d8b854",
   "metadata": {},
   "outputs": [
    {
     "name": "stdout",
     "output_type": "stream",
     "text": [
      "[2, 5, 11]\n"
     ]
    }
   ],
   "source": [
    "print(mijn_lijst[0:5:2]) # Het derde getal geeft nu de stapgrootte aan waarmee je door de lijst gaat."
   ]
  },
  {
   "cell_type": "markdown",
   "id": "d72204cf-3d1f-48a5-b319-6d42d46913a8",
   "metadata": {},
   "source": [
    "Hieronder nog een paar voorbeelden om het concept goed helder te krijgen:"
   ]
  },
  {
   "cell_type": "code",
   "execution_count": 17,
   "id": "a83561c4-4ddd-4a65-ba5b-808769e1686e",
   "metadata": {},
   "outputs": [
    {
     "name": "stdout",
     "output_type": "stream",
     "text": [
      "[2, 5, 11]\n",
      "[2, 5, 11]\n",
      "[2, 5, 11]\n",
      "[3, 11]\n",
      "[11, 7, 5, 3, 2]\n"
     ]
    }
   ],
   "source": [
    "print(mijn_lijst[0:5:2]) # Neem de hele lijst maar in sprongen van twee\n",
    "print(mijn_lijst[:5:2])  # Dit is hetzelfde als de regel hierboven!\n",
    "print(mijn_lijst[::2])  # En dit is ook hetzelfde als de regel hierboven! \n",
    "\"\"\"Als je een index weglaat dan gaat Python er vanuit dat je de standaard waarden wilt gebruiken, \n",
    "dus beginnen bij het eerste element, eindigen bij het laatste element en een stapgrootte van 1\"\"\"\n",
    "print(mijn_lijst[1::3])  # Begin bij element 2 (index 1), eindig bij het laatste element en neem stappen van 3\n",
    "print(mijn_lijst[::-1])  # Door stappen van -1 te nemen, keer je de lijst om!"
   ]
  },
  {
   "cell_type": "markdown",
   "id": "3365792e-9d8b-4539-975a-d7c15268e0fc",
   "metadata": {},
   "source": [
    "## Indexing dubbele lijsten\n",
    "\n",
    "Zoals we bij de beschrijving van het data type `lists` hebben gezien, kun je ook een lijst maken die weer bestaat uit lijsten. Hiervoor hebben we dan ook dubbele indexen nodig om waardes eruit te nemen. Enkele voorbeelden:"
   ]
  },
  {
   "cell_type": "code",
   "execution_count": 34,
   "id": "799afc08-9b6e-4212-b83a-f02da087afec",
   "metadata": {},
   "outputs": [
    {
     "name": "stdout",
     "output_type": "stream",
     "text": [
      "10\n",
      "1\n",
      "1\n",
      "[2, 3]\n"
     ]
    }
   ],
   "source": [
    "mijn_laatste_voorbeeld_lijst = [ [10,2,11], [33,101,1], [1,2,3]] # Een willekeurige lijst die weer bestaat uit drie sub-lijsten\n",
    "print(mijn_laatste_voorbeeld_lijst[0][0]) # Neem de eerste sub-lijst en neem daaruit het eerste getal\n",
    "print(mijn_laatste_voorbeeld_lijst[-1][0]) # Neem de laatste sub-lijst en neem daaruit het eerste getal\n",
    "print(mijn_laatste_voorbeeld_lijst[1][2]) # Neem de tweede sub-lijst en neem daaruit het derde getal\n",
    "print(mijn_laatste_voorbeeld_lijst[-1][1:]) # Neem de laatste sub-lijst en daaruit het tweede tot en met het laatste getal"
   ]
  },
  {
   "cell_type": "markdown",
   "id": "c5fbe59c-e7d5-453b-996b-58d096a912ba",
   "metadata": {},
   "source": [
    "## De help functie"
   ]
  },
  {
   "cell_type": "markdown",
   "id": "fbac14c1-e42e-44d0-9f98-1b4582233749",
   "metadata": {},
   "source": [
    "Op internet of in boeken kun je veel informatie vinden over Python, maar de snelste hulp kun je direct in Python krijgen door de `help()` functie te gebruiken."
   ]
  },
  {
   "cell_type": "code",
   "execution_count": 38,
   "id": "0d284d85-74df-4b62-8f34-2f52383c1c85",
   "metadata": {},
   "outputs": [
    {
     "name": "stdout",
     "output_type": "stream",
     "text": [
      "Help on built-in function sum in module builtins:\n",
      "\n",
      "sum(iterable, /, start=0)\n",
      "    Return the sum of a 'start' value (default: 0) plus an iterable of numbers\n",
      "    \n",
      "    When the iterable is empty, return the start value.\n",
      "    This function is intended specifically for use with numeric values and may\n",
      "    reject non-numeric types.\n",
      "\n"
     ]
    }
   ],
   "source": [
    "help(sum)  # Geef de help informatie voor de 'sum' functie"
   ]
  },
  {
   "cell_type": "code",
   "execution_count": 40,
   "id": "2eb3864b-1f53-41d7-894b-ec9e0b00539e",
   "metadata": {},
   "outputs": [
    {
     "name": "stdout",
     "output_type": "stream",
     "text": [
      "Help on built-in function len in module builtins:\n",
      "\n",
      "len(obj, /)\n",
      "    Return the number of items in a container.\n",
      "\n"
     ]
    }
   ],
   "source": [
    "help(len)  # Geef de help informatie voor de 'len' functie"
   ]
  },
  {
   "cell_type": "code",
   "execution_count": 46,
   "id": "0599a59e-5e92-4425-bd6b-b9045f5dd7c0",
   "metadata": {},
   "outputs": [
    {
     "name": "stdout",
     "output_type": "stream",
     "text": [
      "Help on built-in function cos in module math:\n",
      "\n",
      "cos(x, /)\n",
      "    Return the cosine of x (measured in radians).\n",
      "\n"
     ]
    }
   ],
   "source": [
    "import math\n",
    "help(math.cos)  # Geef de help informatie voor de 'cos' functie (cosinus) uit de 'math' module (later meer over het inladen van extra modules."
   ]
  },
  {
   "cell_type": "code",
   "execution_count": 48,
   "id": "798de0e8-3b3b-4989-8aab-ca20dc8c1331",
   "metadata": {
    "scrolled": true
   },
   "outputs": [
    {
     "name": "stdout",
     "output_type": "stream",
     "text": [
      "Help on module math:\n",
      "\n",
      "NAME\n",
      "    math\n",
      "\n",
      "MODULE REFERENCE\n",
      "    https://docs.python.org/3.11/library/math.html\n",
      "    \n",
      "    The following documentation is automatically generated from the Python\n",
      "    source files.  It may be incomplete, incorrect or include features that\n",
      "    are considered implementation detail and may vary between Python\n",
      "    implementations.  When in doubt, consult the module reference at the\n",
      "    location listed above.\n",
      "\n",
      "DESCRIPTION\n",
      "    This module provides access to the mathematical functions\n",
      "    defined by the C standard.\n",
      "\n",
      "FUNCTIONS\n",
      "    acos(x, /)\n",
      "        Return the arc cosine (measured in radians) of x.\n",
      "        \n",
      "        The result is between 0 and pi.\n",
      "    \n",
      "    acosh(x, /)\n",
      "        Return the inverse hyperbolic cosine of x.\n",
      "    \n",
      "    asin(x, /)\n",
      "        Return the arc sine (measured in radians) of x.\n",
      "        \n",
      "        The result is between -pi/2 and pi/2.\n",
      "    \n",
      "    asinh(x, /)\n",
      "        Return the inverse hyperbolic sine of x.\n",
      "    \n",
      "    atan(x, /)\n",
      "        Return the arc tangent (measured in radians) of x.\n",
      "        \n",
      "        The result is between -pi/2 and pi/2.\n",
      "    \n",
      "    atan2(y, x, /)\n",
      "        Return the arc tangent (measured in radians) of y/x.\n",
      "        \n",
      "        Unlike atan(y/x), the signs of both x and y are considered.\n",
      "    \n",
      "    atanh(x, /)\n",
      "        Return the inverse hyperbolic tangent of x.\n",
      "    \n",
      "    cbrt(x, /)\n",
      "        Return the cube root of x.\n",
      "    \n",
      "    ceil(x, /)\n",
      "        Return the ceiling of x as an Integral.\n",
      "        \n",
      "        This is the smallest integer >= x.\n",
      "    \n",
      "    comb(n, k, /)\n",
      "        Number of ways to choose k items from n items without repetition and without order.\n",
      "        \n",
      "        Evaluates to n! / (k! * (n - k)!) when k <= n and evaluates\n",
      "        to zero when k > n.\n",
      "        \n",
      "        Also called the binomial coefficient because it is equivalent\n",
      "        to the coefficient of k-th term in polynomial expansion of the\n",
      "        expression (1 + x)**n.\n",
      "        \n",
      "        Raises TypeError if either of the arguments are not integers.\n",
      "        Raises ValueError if either of the arguments are negative.\n",
      "    \n",
      "    copysign(x, y, /)\n",
      "        Return a float with the magnitude (absolute value) of x but the sign of y.\n",
      "        \n",
      "        On platforms that support signed zeros, copysign(1.0, -0.0)\n",
      "        returns -1.0.\n",
      "    \n",
      "    cos(x, /)\n",
      "        Return the cosine of x (measured in radians).\n",
      "    \n",
      "    cosh(x, /)\n",
      "        Return the hyperbolic cosine of x.\n",
      "    \n",
      "    degrees(x, /)\n",
      "        Convert angle x from radians to degrees.\n",
      "    \n",
      "    dist(p, q, /)\n",
      "        Return the Euclidean distance between two points p and q.\n",
      "        \n",
      "        The points should be specified as sequences (or iterables) of\n",
      "        coordinates.  Both inputs must have the same dimension.\n",
      "        \n",
      "        Roughly equivalent to:\n",
      "            sqrt(sum((px - qx) ** 2.0 for px, qx in zip(p, q)))\n",
      "    \n",
      "    erf(x, /)\n",
      "        Error function at x.\n",
      "    \n",
      "    erfc(x, /)\n",
      "        Complementary error function at x.\n",
      "    \n",
      "    exp(x, /)\n",
      "        Return e raised to the power of x.\n",
      "    \n",
      "    exp2(x, /)\n",
      "        Return 2 raised to the power of x.\n",
      "    \n",
      "    expm1(x, /)\n",
      "        Return exp(x)-1.\n",
      "        \n",
      "        This function avoids the loss of precision involved in the direct evaluation of exp(x)-1 for small x.\n",
      "    \n",
      "    fabs(x, /)\n",
      "        Return the absolute value of the float x.\n",
      "    \n",
      "    factorial(n, /)\n",
      "        Find n!.\n",
      "        \n",
      "        Raise a ValueError if x is negative or non-integral.\n",
      "    \n",
      "    floor(x, /)\n",
      "        Return the floor of x as an Integral.\n",
      "        \n",
      "        This is the largest integer <= x.\n",
      "    \n",
      "    fmod(x, y, /)\n",
      "        Return fmod(x, y), according to platform C.\n",
      "        \n",
      "        x % y may differ.\n",
      "    \n",
      "    frexp(x, /)\n",
      "        Return the mantissa and exponent of x, as pair (m, e).\n",
      "        \n",
      "        m is a float and e is an int, such that x = m * 2.**e.\n",
      "        If x is 0, m and e are both 0.  Else 0.5 <= abs(m) < 1.0.\n",
      "    \n",
      "    fsum(seq, /)\n",
      "        Return an accurate floating point sum of values in the iterable seq.\n",
      "        \n",
      "        Assumes IEEE-754 floating point arithmetic.\n",
      "    \n",
      "    gamma(x, /)\n",
      "        Gamma function at x.\n",
      "    \n",
      "    gcd(*integers)\n",
      "        Greatest Common Divisor.\n",
      "    \n",
      "    hypot(...)\n",
      "        hypot(*coordinates) -> value\n",
      "        \n",
      "        Multidimensional Euclidean distance from the origin to a point.\n",
      "        \n",
      "        Roughly equivalent to:\n",
      "            sqrt(sum(x**2 for x in coordinates))\n",
      "        \n",
      "        For a two dimensional point (x, y), gives the hypotenuse\n",
      "        using the Pythagorean theorem:  sqrt(x*x + y*y).\n",
      "        \n",
      "        For example, the hypotenuse of a 3/4/5 right triangle is:\n",
      "        \n",
      "            >>> hypot(3.0, 4.0)\n",
      "            5.0\n",
      "    \n",
      "    isclose(a, b, *, rel_tol=1e-09, abs_tol=0.0)\n",
      "        Determine whether two floating point numbers are close in value.\n",
      "        \n",
      "          rel_tol\n",
      "            maximum difference for being considered \"close\", relative to the\n",
      "            magnitude of the input values\n",
      "          abs_tol\n",
      "            maximum difference for being considered \"close\", regardless of the\n",
      "            magnitude of the input values\n",
      "        \n",
      "        Return True if a is close in value to b, and False otherwise.\n",
      "        \n",
      "        For the values to be considered close, the difference between them\n",
      "        must be smaller than at least one of the tolerances.\n",
      "        \n",
      "        -inf, inf and NaN behave similarly to the IEEE 754 Standard.  That\n",
      "        is, NaN is not close to anything, even itself.  inf and -inf are\n",
      "        only close to themselves.\n",
      "    \n",
      "    isfinite(x, /)\n",
      "        Return True if x is neither an infinity nor a NaN, and False otherwise.\n",
      "    \n",
      "    isinf(x, /)\n",
      "        Return True if x is a positive or negative infinity, and False otherwise.\n",
      "    \n",
      "    isnan(x, /)\n",
      "        Return True if x is a NaN (not a number), and False otherwise.\n",
      "    \n",
      "    isqrt(n, /)\n",
      "        Return the integer part of the square root of the input.\n",
      "    \n",
      "    lcm(*integers)\n",
      "        Least Common Multiple.\n",
      "    \n",
      "    ldexp(x, i, /)\n",
      "        Return x * (2**i).\n",
      "        \n",
      "        This is essentially the inverse of frexp().\n",
      "    \n",
      "    lgamma(x, /)\n",
      "        Natural logarithm of absolute value of Gamma function at x.\n",
      "    \n",
      "    log(...)\n",
      "        log(x, [base=math.e])\n",
      "        Return the logarithm of x to the given base.\n",
      "        \n",
      "        If the base not specified, returns the natural logarithm (base e) of x.\n",
      "    \n",
      "    log10(x, /)\n",
      "        Return the base 10 logarithm of x.\n",
      "    \n",
      "    log1p(x, /)\n",
      "        Return the natural logarithm of 1+x (base e).\n",
      "        \n",
      "        The result is computed in a way which is accurate for x near zero.\n",
      "    \n",
      "    log2(x, /)\n",
      "        Return the base 2 logarithm of x.\n",
      "    \n",
      "    modf(x, /)\n",
      "        Return the fractional and integer parts of x.\n",
      "        \n",
      "        Both results carry the sign of x and are floats.\n",
      "    \n",
      "    nextafter(x, y, /)\n",
      "        Return the next floating-point value after x towards y.\n",
      "    \n",
      "    perm(n, k=None, /)\n",
      "        Number of ways to choose k items from n items without repetition and with order.\n",
      "        \n",
      "        Evaluates to n! / (n - k)! when k <= n and evaluates\n",
      "        to zero when k > n.\n",
      "        \n",
      "        If k is not specified or is None, then k defaults to n\n",
      "        and the function returns n!.\n",
      "        \n",
      "        Raises TypeError if either of the arguments are not integers.\n",
      "        Raises ValueError if either of the arguments are negative.\n",
      "    \n",
      "    pow(x, y, /)\n",
      "        Return x**y (x to the power of y).\n",
      "    \n",
      "    prod(iterable, /, *, start=1)\n",
      "        Calculate the product of all the elements in the input iterable.\n",
      "        \n",
      "        The default start value for the product is 1.\n",
      "        \n",
      "        When the iterable is empty, return the start value.  This function is\n",
      "        intended specifically for use with numeric values and may reject\n",
      "        non-numeric types.\n",
      "    \n",
      "    radians(x, /)\n",
      "        Convert angle x from degrees to radians.\n",
      "    \n",
      "    remainder(x, y, /)\n",
      "        Difference between x and the closest integer multiple of y.\n",
      "        \n",
      "        Return x - n*y where n*y is the closest integer multiple of y.\n",
      "        In the case where x is exactly halfway between two multiples of\n",
      "        y, the nearest even value of n is used. The result is always exact.\n",
      "    \n",
      "    sin(x, /)\n",
      "        Return the sine of x (measured in radians).\n",
      "    \n",
      "    sinh(x, /)\n",
      "        Return the hyperbolic sine of x.\n",
      "    \n",
      "    sqrt(x, /)\n",
      "        Return the square root of x.\n",
      "    \n",
      "    tan(x, /)\n",
      "        Return the tangent of x (measured in radians).\n",
      "    \n",
      "    tanh(x, /)\n",
      "        Return the hyperbolic tangent of x.\n",
      "    \n",
      "    trunc(x, /)\n",
      "        Truncates the Real x to the nearest Integral toward 0.\n",
      "        \n",
      "        Uses the __trunc__ magic method.\n",
      "    \n",
      "    ulp(x, /)\n",
      "        Return the value of the least significant bit of the float x.\n",
      "\n",
      "DATA\n",
      "    e = 2.718281828459045\n",
      "    inf = inf\n",
      "    nan = nan\n",
      "    pi = 3.141592653589793\n",
      "    tau = 6.283185307179586\n",
      "\n",
      "FILE\n",
      "    /opt/conda/envs/python3_env/lib/python3.11/lib-dynload/math.cpython-311-x86_64-linux-gnu.so\n",
      "\n",
      "\n"
     ]
    }
   ],
   "source": [
    "import math\n",
    "help(math)  # Of alle help informatie voor de hele 'math' module en alle functies die erin zitten!"
   ]
  },
  {
   "cell_type": "markdown",
   "id": "6c4643c1-21d6-40a5-9244-cc487ea2583d",
   "metadata": {},
   "source": [
    "## Samenvatting\n",
    "\n",
    "Je hebt nu de belangrijkste basiselementen uit Python gezien, zoals hoe je berekeningen kunt maken, `variabele types` en de `methods` die erbij horen, `indexen`, het belang van commentaar bij je code zetten en het aanroepen van de help functie.\n",
    "In de onderstaande oefenvragen komen de basiselementen allemaal nogmaals voorbij en daarna gaan we verder naar het onderwerp `program flow`."
   ]
  },
  {
   "cell_type": "markdown",
   "id": "45",
   "metadata": {},
   "source": [
    "<!-- Links -->\n",
    "[part1_practice_questions]: 01_Python_basics_questions.ipynb\n",
    "\n",
    "# Ga naar de oefenvragen: [01_Python_basics_oefenvragen][part1_practice_questions]"
   ]
  },
  {
   "cell_type": "markdown",
   "id": "3f77fa78-d036-4594-99d3-34a93e7a61df",
   "metadata": {},
   "source": [
    "<!-- Links -->\n",
    "[python_program_flow]: 02_Python_program_flow.ipynb\n",
    "\n",
    "# Ga naar het volgende deel: [02_Python_program_flow Basics][python_program_flow]"
   ]
  }
 ],
 "metadata": {
  "kernelspec": {
   "display_name": "Python 3",
   "language": "python",
   "name": "python3"
  },
  "language_info": {
   "codemirror_mode": {
    "name": "ipython",
    "version": 3
   },
   "file_extension": ".py",
   "mimetype": "text/x-python",
   "name": "python",
   "nbconvert_exporter": "python",
   "pygments_lexer": "ipython3",
   "version": "3.11.10"
  }
 },
 "nbformat": 4,
 "nbformat_minor": 5
}
