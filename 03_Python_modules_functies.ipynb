{
 "cells": [
  {
   "cell_type": "markdown",
   "id": "cb5847da-c322-45ce-b417-debf8cabb8f4",
   "metadata": {},
   "source": [
    "# Modules en functies\n",
    "\n",
    "## Overzicht\n",
    "\n",
    "Standaard zitten erin Python allerlei basiselementen waardoor je bijvoorbeeld simpele berekeningen kunt doen, getallen in een lijst op volgorde kan laten zetten en nog veel meer. Maar er is ook heel veel dat niet standaard in Python zit. Heel veel functies zitten namelijk in zogenaamde `modules`. Dit zijn aanvullende pakketten met `functies` die je kan aanroepen als je daar behoefte aan hebt. Door heel veel functies in zulke `modelules` te stoppen blijft de stanadard Python 'overzichtelijk' en vereist het niet teveel rekenkracht van je computer, maar heb je wel de mogelijkheid om gebruik te maken van de enorme rijkdom aan extra `functies`. In dit deel van de Python cursus zul je leren om modules te openen en de functies die erin zitten te gebruiken.\n",
    "\n",
    "Enkele veel voorkomende `modules` zijn `Math` voor allerlei wiskundige berekeningen, `Scipy` (Scientific Python), `matplotlib`, `Pandas` en `numpy` (nummerical Python). De laatste drie komen aan bod in de volgende delen van deze Python cursus, daarom zullen de komende voorbeelden komen uit `Math` en `Scipy`."
   ]
  },
  {
   "cell_type": "markdown",
   "id": "1",
   "metadata": {},
   "source": [
    "## Modules openen\n",
    "\n",
    "Er zijn verschillende manieren om modules te openen, waarvan we er hier een paar zullen bespreken.\n",
    "\n",
    "Als je een specifieke `functie` uit een `module` wilt gebruiken zonder meteen alle functies beschikbaar te hebben, dan kun je dat als volgt doen:"
   ]
  },
  {
   "cell_type": "code",
   "execution_count": null,
   "id": "2",
   "metadata": {},
   "outputs": [],
   "source": [
    "from math import sin    # Uit de 'math' module gebruiken we de functie 'sin' om de sinus van 30 te kunnen bepalen\n",
    "print(sin(30))"
   ]
  },
  {
   "cell_type": "code",
   "execution_count": null,
   "id": "51579ab3-89a2-409d-8731-082895889efe",
   "metadata": {},
   "outputs": [],
   "source": [
    "from math import sqrt, tan   # Uit de 'math' module gebruiken we de functies 'sqrt' (square root) en de 'tan'\n",
    "print(sqrt(2*tan(20)))"
   ]
  },
  {
   "cell_type": "markdown",
   "id": "25054631-2d5a-446b-bc43-834a738ae3f9",
   "metadata": {},
   "source": [
    "De `Scipy` module werkt met een heleboel `submodules` die je kunt openen. Bijvoorbeeld heel complexe statistische en wiskundige `submodules`, maar ook bijvoorbeeld een `submodule` met allerlei constantes vinden die veel voorkomen: `scipy.constants`"
   ]
  },
  {
   "cell_type": "code",
   "execution_count": null,
   "id": "e18c019c-0bf0-4f2e-9a5f-1f9de8da2b25",
   "metadata": {},
   "outputs": [],
   "source": [
    "from scipy.constants import pi, g   # Uit de 'scipy.constants' module gebruiken we de functies 'pi' en 'g' (zwaartekrachtsversnelling)\n",
    "print(pi)\n",
    "print(g)"
   ]
  },
  {
   "cell_type": "markdown",
   "id": "a9ee2d24-04bb-4d0e-8fb5-3cee5e89e84b",
   "metadata": {},
   "source": [
    "Het is ook mogelijk om een hele `module` te openen inclusief alle functies die erin zitten. In dit geval roep je de functies aan door `module.functie`:"
   ]
  },
  {
   "cell_type": "code",
   "execution_count": null,
   "id": "9460694c-f05d-44b1-a958-b75842966653",
   "metadata": {},
   "outputs": [],
   "source": [
    "import math\n",
    "a = math.sin(30)  # bereken sinus van 30\n",
    "b = math.tanh(-1) # bereken tangens hyperbolicus van -1\n",
    "print(a, b)"
   ]
  },
  {
   "cell_type": "markdown",
   "id": "5",
   "metadata": {},
   "source": [
    "Tenslotte kun je `modules` ook openen door gebruik te maken van een 'afkorting'. Dit vooral prettig als de module naam vrij lang is:"
   ]
  },
  {
   "cell_type": "code",
   "execution_count": null,
   "id": "6",
   "metadata": {},
   "outputs": [],
   "source": [
    "import numpy as np                  # Open module 'numpy' en geef hem de afkorting 'np'\n",
    "import matplotlib.pyplot as plt     # Open de matplotlib submodule 'pyplot' en geef hem de afkorting 'plt'\n",
    "\n",
    "x = np.random.choice([3, 5, 7, 9], p=[0.1, 0.15, 0.55, 0.2], size=(100))\n",
    "''' Maak een reeks van 100 willekeurige trekkingen van de getallen 3, 5, 7, 9. De kans dat je een van deze getallen trekt is 0.1, 0.3, 0.6, 0.2'''\n",
    "\n",
    "plt.plot(x) # Gebruik de 'plot' functie uit de matplotlib.pyplot module om een figuur te maken van deze 100 willekeurige getallen"
   ]
  },
  {
   "cell_type": "markdown",
   "id": "7",
   "metadata": {},
   "source": [
    "Later meer over zowel de `numpy` module als de `matplotlib` module.\n",
    "\n",
    "Je mag zelf bepalen welke methode je gebruikt om een module en/of functie te openen, bijvoorbeeld `from math import sin`, `import math` of `import math as m`. Het belangrijkste verschil om te onthouden is dat als je `from math import sin` gebruikt, je vervolgens de functie aan moet roepen zonder de module naam ervoor, dus simpelweg `sin`, terwijl je bij `import math` of bij `import math as m` je wel de module naam en de functie naam moet gebruiken, dus respectivelijk `math.sin` of `m.sin`."
   ]
  },
  {
   "cell_type": "markdown",
   "id": "30c14a7c-3b14-4988-8b88-f8e9b714267b",
   "metadata": {},
   "source": [
    "## Enkele veel voorkomende functies\n",
    "\n",
    "In de voorbeelden hieronder komen enkele veel voorkomende functies voorbij. Deze lijst is verre van compleet, maar geeft je een idee van het soort functies dat er zijn zodat "
   ]
  },
  {
   "cell_type": "code",
   "execution_count": null,
   "id": "df948b55-5aa9-4c4b-afea-6427c71794ac",
   "metadata": {},
   "outputs": [],
   "source": [
    "help(max) # De 'help(x)' functie geeft je informatie over het object of de functie 'x', in dit voorbeeld 'max'"
   ]
  },
  {
   "cell_type": "code",
   "execution_count": null,
   "id": "c1e5dd76-5943-4112-9ae9-ad6cb156ff66",
   "metadata": {},
   "outputs": [],
   "source": [
    "print(\"This is a string\") # De 'print()' functie kun je gebruiken om tekst of variabelen weer te geven"
   ]
  },
  {
   "cell_type": "code",
   "execution_count": null,
   "id": "c3f73d7f-12ec-4b31-8dfe-d01a6ec52f4e",
   "metadata": {},
   "outputs": [],
   "source": [
    "jaar = 2025\n",
    "print(\"Toen ik dit schreef was het\",jaar) # Je kunt tekst en variabelen combineren"
   ]
  },
  {
   "cell_type": "code",
   "execution_count": null,
   "id": "7929d36a-c670-4e93-8e14-5b5616a1daef",
   "metadata": {},
   "outputs": [],
   "source": [
    "reeks_getallen = [10, 6, 10.5, 5, 20]\n",
    "max(reeks_getallen) # Simpele statistische functies"
   ]
  },
  {
   "cell_type": "code",
   "execution_count": null,
   "id": "44f03e42-2270-4ba8-917b-b168945c6088",
   "metadata": {},
   "outputs": [],
   "source": [
    "sum(reeks_getallen) # Simpele statistische functies"
   ]
  },
  {
   "cell_type": "code",
   "execution_count": null,
   "id": "5c33d89a-b837-40aa-b8b9-8d189d6a1981",
   "metadata": {},
   "outputs": [],
   "source": [
    "len(reeks_getallen) # De 'len()' functie geeft je de lengte van je reeks (dit kan een lijst, string, etc zijn) "
   ]
  },
  {
   "cell_type": "code",
   "execution_count": null,
   "id": "a748d15c-df53-454d-9fb5-d83b4c89674d",
   "metadata": {},
   "outputs": [],
   "source": [
    "type(reeks_getallen) # De 'type()' functie geeft je het variabele type"
   ]
  },
  {
   "cell_type": "code",
   "execution_count": null,
   "id": "9e72411e-b006-482f-a3cf-5cc4810d644c",
   "metadata": {},
   "outputs": [],
   "source": [
    "int(reeks_getallen[0]) # De 'int()' functie maakt een 'integer' van een float of string"
   ]
  },
  {
   "cell_type": "code",
   "execution_count": null,
   "id": "a2816b06-3123-4f8e-ae7a-5a9e0734c40b",
   "metadata": {},
   "outputs": [],
   "source": [
    "float(40) # De 'float()' functie maakt een 'float' van een integer of string"
   ]
  },
  {
   "cell_type": "code",
   "execution_count": null,
   "id": "194c5f12-9234-469b-8e4c-4a87927591f6",
   "metadata": {},
   "outputs": [],
   "source": [
    "str(40) # De 'str()' functie maakt een 'string' van een integer of float"
   ]
  },
  {
   "cell_type": "code",
   "execution_count": null,
   "id": "1da234f9-e4e0-4299-9e89-b430a4967525",
   "metadata": {},
   "outputs": [],
   "source": [
    "round(10.48323,2) # De 'round(x,y)' functie rond een getal x af op y-decimalen"
   ]
  },
  {
   "cell_type": "code",
   "execution_count": null,
   "id": "e255a018-7c70-49d6-99b7-e47b15ca0975",
   "metadata": {},
   "outputs": [],
   "source": [
    "sorted(reeks_getallen) # De 'sorted()' functie kun je gebruiken om een reeks getallen"
   ]
  },
  {
   "cell_type": "markdown",
   "id": "e760185b-d5b6-4ebb-ac03-9a2663921288",
   "metadata": {},
   "source": [
    "## Samenvatting\n",
    "\n",
    "In Python zijn alleen de meest gebruikte functies standaard toegankelijk. Een enorme rijkdom aan extra functies, voor alle mogelijke onderwerpen, vakgebieden en toepassingen, zit in zogenaamde `modules`. Python is een `Open source` computertaal waardoor het voor iedereeen (ook voor jou!) mogelijk is om zijn eigen functies te creeeren, samen te voegen in een module en deze vervolgens met alle andere Python gebruikers te delen. Vandaar de enorme rijkdom aan bestaan de functies en het worden er iedere dag meer.\n",
    "\n",
    "In dit deel heb je gezien hoe je een module in Python kan openen en hoe je vervolgens een functie kan gebruiken."
   ]
  },
  {
   "cell_type": "markdown",
   "id": "7d05fcf5-0978-4e77-98b5-b081b01faa1f",
   "metadata": {},
   "source": [
    "<!-- Links -->\n",
    "[Python_ZelfFunctiesMaken]: 04_Python_zelf_functies_maken.ipynb\n",
    "\n",
    "# Ga naar het volgende deel: [04_Python_zelf_functies_maken][Python_ZelfFunctiesMaken]"
   ]
  }
 ],
 "metadata": {
  "kernelspec": {
   "display_name": "Python 3 (ipykernel)",
   "language": "python",
   "name": "python3"
  },
  "language_info": {
   "codemirror_mode": {
    "name": "ipython",
    "version": 3
   },
   "file_extension": ".py",
   "mimetype": "text/x-python",
   "name": "python",
   "nbconvert_exporter": "python",
   "pygments_lexer": "ipython3",
   "version": "3.11.11"
  }
 },
 "nbformat": 4,
 "nbformat_minor": 5
}
