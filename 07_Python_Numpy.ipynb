{
 "cells": [
  {
   "cell_type": "markdown",
   "id": "0",
   "metadata": {},
   "source": [
    "# De Numpy module\n",
    "\n",
    "## Overzicht\n",
    "\n",
    "De `numpy module`, numpy van 'numerical Python', is speciaal ontwikkeled om makkelijk te kunnen werken met grote datasets. Zogenaamde `arrays`. Het `list` data type kun je ook gebruiken om reeksen mee te maken, maar dit is niet erg makkelijk als je reeksen meerdere dimensies krijgen, zoals een tabel (2-dimensionaal) of zelfs 3D, 4D, 5D etc. Bijvoorbeeld een atmospherisch model dat je informatie geeft over de temperatuur op iedere plek op Aarde (2D), op verschillende hoogtes in de atmospfeer (3D) en voor verschillende tijden (bijvoorbeeld dagen). Dit maakt de temperatuur variabele in dit geval 4-dimensionaal. Naast dat het makkelijker werken is met `arrays`, zijn de berekeningen die je ermee kunt doen ook veel sneller. Een berekening doen op een grote array is al snel vele tientallen malen sneller.\n",
    "\n",
    "In dit deel van de Python cursus zullen we enkele basiselementen van de `numpy module` bekijken.\n",
    "\n",
    "## Arrays\n",
    "\n",
    "`numpy` werkt met zogenaamde arrays (of eigenlijk `ndarrays'). Dit is een data type waarin de gevens in een grid zitten. Dat kan een 1-dimensionaal grid zijn, een rij dus. Het kan een 2-dimensionaal grid zijn wat je kan zien als een tabel, of meer dimensies. Een array kan niet bestaan uit verschillende data types (dus geen strings, floats etc door elkaar), en een array is altijd rechthoekig.\n",
    "\n",
    "## Indexing arrays\n",
    "\n",
    "Het aanroepen van een waarde of van een reeks waardes uit een array gaat via indexing en is grotendeels gelijk aan indexing bij een lijst data type. Indexing een 1D array is identiek aan indexing van een lijst"
   ]
  },
  {
   "cell_type": "code",
   "execution_count": 1,
   "id": "2",
   "metadata": {},
   "outputs": [
    {
     "data": {
      "text/plain": [
       "1911.0"
      ]
     },
     "execution_count": 1,
     "metadata": {},
     "output_type": "execute_result"
    }
   ],
   "source": [
    "import numpy as np\n",
    "\n",
    "jaar, temp = np.loadtxt('Media/deBilt_yearly_temperatures.txt',comments='#',unpack=True) # Lees een dataset en maak array 'jaar' en array 'temp' aan\n",
    "jaar[10]  # print de elfde waarde uit de array 'jaar' (je begint te tellen bij nul!)"
   ]
  },
  {
   "cell_type": "markdown",
   "id": "3",
   "metadata": {},
   "source": [
    "Voor een 2-dimensionale array gebruik je twee indexes, gescheiden door een komma, de eerste index gaat over de 'kolom' en de tweede index over de 'rij':"
   ]
  },
  {
   "cell_type": "code",
   "execution_count": 2,
   "id": "38c76aee-4df5-4c25-9993-b95a99d07be2",
   "metadata": {},
   "outputs": [
    {
     "data": {
      "text/plain": [
       "array([1901.      ,    8.903205])"
      ]
     },
     "execution_count": 2,
     "metadata": {},
     "output_type": "execute_result"
    }
   ],
   "source": [
    "data = np.loadtxt('Media/deBilt_yearly_temperatures.txt',comments='#',unpack=True) # Lees een dataset en maak een 2D array data\n",
    "data[:,0] # print alle waardes uit de eerste rij"
   ]
  },
  {
   "cell_type": "code",
   "execution_count": 3,
   "id": "548b2148-0493-4cbf-b59c-0288bf5d1a03",
   "metadata": {},
   "outputs": [
    {
     "data": {
      "text/plain": [
       "array([ 8.903205,  8.92253 ,  8.93362 ,  8.962243,  8.984967,  9.002845,\n",
       "        9.030684,  9.061136,  9.061813,  9.028958,  8.978573,  8.978765,\n",
       "        8.976768,  8.973549,  8.987822,  8.986124,  9.031549,  9.053846,\n",
       "        9.091194,  9.092023,  9.099168,  9.111775,  9.135405,  9.145616,\n",
       "        9.124907,  9.125786,  9.136966,  9.178061,  9.227715,  9.244284,\n",
       "        9.252213,  9.204939,  9.186271,  9.166513,  9.139896,  9.147175,\n",
       "        9.152941,  9.142723,  9.143662,  9.180979,  9.22009 ,  9.233147,\n",
       "        9.231488,  9.244477,  9.250731,  9.286716,  9.290689,  9.248138,\n",
       "        9.228629,  9.226952,  9.228156,  9.261005,  9.278863,  9.27778 ,\n",
       "        9.279699,  9.285302,  9.292798,  9.330986,  9.360363,  9.366921,\n",
       "        9.381194,  9.455902,  9.512233,  9.566514,  9.591889,  9.591287,\n",
       "        9.619922,  9.657665,  9.717463,  9.764116,  9.807912,  9.851774,\n",
       "        9.886477,  9.91304 ,  9.937561,  9.998328, 10.0394  , 10.08407 ,\n",
       "       10.12719 , 10.14545 , 10.18434 , 10.18912 , 10.21907 , 10.28074 ,\n",
       "       10.35122 , 10.41676 , 10.47302 , 10.50863 , 10.52571 , 10.52389 ])"
      ]
     },
     "execution_count": 3,
     "metadata": {},
     "output_type": "execute_result"
    }
   ],
   "source": [
    "data = np.loadtxt('Media/deBilt_yearly_temperatures.txt',comments='#',unpack=True) # Lees een dataset en maak een 2D array data\n",
    "data[1,:] # print alle waardes uit de tweede kolom"
   ]
  },
  {
   "cell_type": "markdown",
   "id": "4",
   "metadata": {},
   "source": [
    "Nog enkele voorbeelden:"
   ]
  },
  {
   "cell_type": "code",
   "execution_count": 4,
   "id": "5",
   "metadata": {},
   "outputs": [
    {
     "data": {
      "text/plain": [
       "array([1990.     ,   10.52389])"
      ]
     },
     "execution_count": 4,
     "metadata": {},
     "output_type": "execute_result"
    }
   ],
   "source": [
    "data[:,-1] # Waardes in laatste rij"
   ]
  },
  {
   "cell_type": "code",
   "execution_count": 4,
   "id": "93a73569-5e84-4f44-9726-98f388a33227",
   "metadata": {},
   "outputs": [
    {
     "data": {
      "text/plain": [
       "array([1990.     ,   10.52389])"
      ]
     },
     "execution_count": 4,
     "metadata": {},
     "output_type": "execute_result"
    }
   ],
   "source": [
    "data[-1,-1] # Waarde in laatste rij en laatste kolom"
   ]
  },
  {
   "cell_type": "code",
   "execution_count": 5,
   "id": "e47523fd-d2f3-4d95-977c-4623d9d9c049",
   "metadata": {},
   "outputs": [
    {
     "data": {
      "text/plain": [
       "array([1911., 1912., 1913., 1914., 1915., 1916., 1917., 1918., 1919.,\n",
       "       1920.])"
      ]
     },
     "execution_count": 5,
     "metadata": {},
     "output_type": "execute_result"
    }
   ],
   "source": [
    "data[0,10:20] # Waardes 11 tot 20 uit de eerste kolom"
   ]
  },
  {
   "cell_type": "code",
   "execution_count": 6,
   "id": "be778858-2ba1-44b6-8419-42c85d21413b",
   "metadata": {},
   "outputs": [
    {
     "data": {
      "text/plain": [
       "array([1901., 1903., 1905., 1907., 1909., 1911., 1913., 1915., 1917.,\n",
       "       1919., 1921., 1923., 1925., 1927., 1929., 1931., 1933., 1935.,\n",
       "       1937., 1939., 1941., 1943., 1945., 1947., 1949., 1951., 1953.,\n",
       "       1955., 1957., 1959., 1961., 1963., 1965., 1967., 1969., 1971.,\n",
       "       1973., 1975., 1977., 1979., 1981., 1983., 1985., 1987., 1989.])"
      ]
     },
     "execution_count": 6,
     "metadata": {},
     "output_type": "execute_result"
    }
   ],
   "source": [
    "data[0,0:-1:2] # Iedere tweede waarde uit de eerste kolom"
   ]
  },
  {
   "cell_type": "markdown",
   "id": "b0199dec-022b-4828-998c-0951f366ba0e",
   "metadata": {},
   "source": [
    "Voor het werken met arrays van meer dan twee dimensies is het principe hetzelfde, alleen kun je dan niet meer spreken van rijen en kolommen:"
   ]
  },
  {
   "cell_type": "code",
   "execution_count": 7,
   "id": "7",
   "metadata": {},
   "outputs": [
    {
     "data": {
      "text/plain": [
       "9.135405"
      ]
     },
     "execution_count": 7,
     "metadata": {},
     "output_type": "execute_result"
    }
   ],
   "source": [
    "data_4d = np.reshape(data,(4,5,3,3)) # Use numpy 'reshape' function to create a new array from the 'data' array, now with a size 4x5x3x3 \n",
    "data_4d.shape                        # show the shape of the new array\n",
    "data_4d[2,2,1,1]                     # show the value at index 2,2,1,1 in the 4D array"
   ]
  },
  {
   "cell_type": "markdown",
   "id": "8",
   "metadata": {},
   "source": [
    "## Arrays maken\n",
    "\n",
    "In de voorbeelden hierboven hebben we een array gemaakt door data in te lezen uit een tekst bestand. Er zijn echter ook een paar andere handige manieren om arrays te maken.\n",
    "\n",
    "Je kunt een array maken door de getallen zelf op te geven met de `np.array() functie`:"
   ]
  },
  {
   "cell_type": "code",
   "execution_count": 10,
   "id": "dbd6e062-7521-4ffd-9d8f-b3e539d9da1a",
   "metadata": {},
   "outputs": [
    {
     "data": {
      "text/plain": [
       "array([1, 2, 3, 4])"
      ]
     },
     "execution_count": 10,
     "metadata": {},
     "output_type": "execute_result"
    }
   ],
   "source": [
    "a1D = np.array([1, 2, 3, 4])\n",
    "a1D"
   ]
  },
  {
   "cell_type": "code",
   "execution_count": 11,
   "id": "56174e5c-3c87-4187-aa4e-c981a80e3bae",
   "metadata": {},
   "outputs": [
    {
     "data": {
      "text/plain": [
       "array([[1, 2],\n",
       "       [3, 4]])"
      ]
     },
     "execution_count": 11,
     "metadata": {},
     "output_type": "execute_result"
    }
   ],
   "source": [
    "a2D = np.array([[1, 2], [3, 4]])\n",
    "a2D"
   ]
  },
  {
   "cell_type": "code",
   "execution_count": 12,
   "id": "ebbcf720-a926-4840-a2ce-daa30f10df9d",
   "metadata": {},
   "outputs": [
    {
     "data": {
      "text/plain": [
       "array([[[1, 2],\n",
       "        [3, 4]],\n",
       "\n",
       "       [[5, 6],\n",
       "        [7, 8]]])"
      ]
     },
     "execution_count": 12,
     "metadata": {},
     "output_type": "execute_result"
    }
   ],
   "source": [
    "a3D = np.array([[[1, 2], [3, 4]], [[5, 6], [7, 8]]])\n",
    "a3D"
   ]
  },
  {
   "cell_type": "markdown",
   "id": "0e245f69-4300-4404-893c-1462cb38e67a",
   "metadata": {},
   "source": [
    "Je kunt arrays maken die gevuld zijn met nullen (`np.zeros()`) of met het getal 1 (`np.ones()`). Dit klinkt in eerste instantie misschien vreemd, maar het is heel handig omdat je deze arrayen dan later in je code kan vullen met andere getallen."
   ]
  },
  {
   "cell_type": "code",
   "execution_count": 15,
   "id": "57a7b9ce-d9da-44c3-9f40-a5548a28367c",
   "metadata": {},
   "outputs": [
    {
     "data": {
      "text/plain": [
       "array([[0., 0., 0.],\n",
       "       [0., 0., 0.]])"
      ]
     },
     "execution_count": 15,
     "metadata": {},
     "output_type": "execute_result"
    }
   ],
   "source": [
    "array_2D = np.zeros((2, 3))\n",
    "array_2D"
   ]
  },
  {
   "cell_type": "code",
   "execution_count": 17,
   "id": "807ddb7a-d7a0-416e-8e20-73f239d70e65",
   "metadata": {},
   "outputs": [
    {
     "data": {
      "text/plain": [
       "array([[[1., 1.],\n",
       "        [1., 1.],\n",
       "        [1., 1.],\n",
       "        [1., 1.]],\n",
       "\n",
       "       [[1., 1.],\n",
       "        [1., 1.],\n",
       "        [1., 1.],\n",
       "        [1., 1.]],\n",
       "\n",
       "       [[1., 1.],\n",
       "        [1., 1.],\n",
       "        [1., 1.],\n",
       "        [1., 1.]]])"
      ]
     },
     "execution_count": 17,
     "metadata": {},
     "output_type": "execute_result"
    }
   ],
   "source": [
    "array_3D = np.ones((3, 4, 2))\n",
    "array_3D"
   ]
  },
  {
   "cell_type": "markdown",
   "id": "dfc8c11e-842e-4c2c-9a51-0a601614f10f",
   "metadata": {},
   "source": [
    "Je kunt 1D arrays vullen met reeksen door gebruik te maken van `np.arange()` of van `np.linspace()`:"
   ]
  },
  {
   "cell_type": "code",
   "execution_count": 20,
   "id": "4f57b65f-4264-4737-ad13-53134455597b",
   "metadata": {},
   "outputs": [
    {
     "data": {
      "text/plain": [
       "array([2. , 2.1, 2.2, 2.3, 2.4, 2.5, 2.6, 2.7, 2.8, 2.9])"
      ]
     },
     "execution_count": 20,
     "metadata": {},
     "output_type": "execute_result"
    }
   ],
   "source": [
    "reeks = np.arange(2, 3, 0.1) # array met getallen van 2 tot 3 en stapgrootte van 0.1\n",
    "reeks"
   ]
  },
  {
   "cell_type": "code",
   "execution_count": 22,
   "id": "b726ee77-ed3c-46cf-bd89-a8c7b99ec374",
   "metadata": {},
   "outputs": [
    {
     "data": {
      "text/plain": [
       "array([ 5.   ,  5.625,  6.25 ,  6.875,  7.5  ,  8.125,  8.75 ,  9.375,\n",
       "       10.   ])"
      ]
     },
     "execution_count": 22,
     "metadata": {},
     "output_type": "execute_result"
    }
   ],
   "source": [
    "reeks = np.linspace(5, 10, 9) # array met 9 getallen op gelijke afstand tussen de 5 en tot en met 10\n",
    "reeks"
   ]
  },
  {
   "cell_type": "markdown",
   "id": "ee2bf652-611c-4c65-afc9-c65bbdbcb380",
   "metadata": {},
   "source": [
    "Tenslotte de `np.reshape()` functie die we hierboven al eerder tegenkwamen. Deze is heel handig als je de reeksen die met `np.arange()` of `np.linspace()` hebt gemaakt om wilt zetten van 1D naar 2D, 3D etc."
   ]
  },
  {
   "cell_type": "code",
   "execution_count": 28,
   "id": "61b75d2a-9ece-4941-ba6d-88e9f5a8a68b",
   "metadata": {},
   "outputs": [
    {
     "data": {
      "text/plain": [
       "array([[[2.  , 2.01, 2.02, 2.03, 2.04],\n",
       "        [2.05, 2.06, 2.07, 2.08, 2.09],\n",
       "        [2.1 , 2.11, 2.12, 2.13, 2.14],\n",
       "        [2.15, 2.16, 2.17, 2.18, 2.19],\n",
       "        [2.2 , 2.21, 2.22, 2.23, 2.24]],\n",
       "\n",
       "       [[2.25, 2.26, 2.27, 2.28, 2.29],\n",
       "        [2.3 , 2.31, 2.32, 2.33, 2.34],\n",
       "        [2.35, 2.36, 2.37, 2.38, 2.39],\n",
       "        [2.4 , 2.41, 2.42, 2.43, 2.44],\n",
       "        [2.45, 2.46, 2.47, 2.48, 2.49]],\n",
       "\n",
       "       [[2.5 , 2.51, 2.52, 2.53, 2.54],\n",
       "        [2.55, 2.56, 2.57, 2.58, 2.59],\n",
       "        [2.6 , 2.61, 2.62, 2.63, 2.64],\n",
       "        [2.65, 2.66, 2.67, 2.68, 2.69],\n",
       "        [2.7 , 2.71, 2.72, 2.73, 2.74]],\n",
       "\n",
       "       [[2.75, 2.76, 2.77, 2.78, 2.79],\n",
       "        [2.8 , 2.81, 2.82, 2.83, 2.84],\n",
       "        [2.85, 2.86, 2.87, 2.88, 2.89],\n",
       "        [2.9 , 2.91, 2.92, 2.93, 2.94],\n",
       "        [2.95, 2.96, 2.97, 2.98, 2.99]],\n",
       "\n",
       "       [[2.  , 2.01, 2.02, 2.03, 2.04],\n",
       "        [2.05, 2.06, 2.07, 2.08, 2.09],\n",
       "        [2.1 , 2.11, 2.12, 2.13, 2.14],\n",
       "        [2.15, 2.16, 2.17, 2.18, 2.19],\n",
       "        [2.2 , 2.21, 2.22, 2.23, 2.24]]])"
      ]
     },
     "execution_count": 28,
     "metadata": {},
     "output_type": "execute_result"
    }
   ],
   "source": [
    "reeks = np.arange(2, 3, 0.01) # array met getallen van 2 tot 3 en stapgrootte van 0.01\n",
    "array_3D = np.reshape(reeks,(5,5,4)) # vorm de 'reeks' van 100 getallen om naar een array van 5x5x4\n",
    "array_3D"
   ]
  },
  {
   "cell_type": "code",
   "execution_count": 31,
   "id": "0c2ba5d8-f263-42a3-9f00-3c0c8a5bf23d",
   "metadata": {},
   "outputs": [
    {
     "data": {
      "text/plain": [
       "array([[2. , 2.1],\n",
       "       [2.2, 2.3],\n",
       "       [2.4, 2.5]])"
      ]
     },
     "execution_count": 31,
     "metadata": {},
     "output_type": "execute_result"
    }
   ],
   "source": [
    "reeks = np.arange(2, 3, 0.1) # array met getallen van 2 tot 3 en stapgrootte van 0.01\n",
    "array_3D = np.resize(reeks,(3,2)) # vorm de 'reeks' van 100 getallen om naar een array van 5x5x4\n",
    "array_3D"
   ]
  },
  {
   "cell_type": "markdown",
   "id": "0b6ffb99-3843-485c-88b5-c3dfa267640d",
   "metadata": {},
   "source": [
    "Let op bij het gebruik van `np.reshape()` dat het aantal getallen dat je hebt in je reeks en de grootte van de array die je er van wilt maken wel overeen moeten komen. Je kunt bijvoorbeeld niet van 10 getallen een array maken van 3 bij 3 want dan verwacht de functie een reeks van 9 getallen; of van 9 getallen een array van 4 bij 4 want dan verwacht de functie 16 getallen.\n",
    "\n",
    "Een alternatief is de `np.resize()` functie, die min of meer hetzelfde werkt als de `np.reshape()` functie maar dan kun je wel iedere willekeurige array maken van een reeks (of andere array) en vult de functie automatisch alle missende getallen aan met herhalingen van de reeks als je reeks te kort is, of hij kapt je reeks af als er teveel getallen zijn. Het gebruik van `np.reshape` is in de meeste gevallen een veiliger optie omdat je zeker bent dat er geen getallen verdwijnen of bijgemaakt worden."
   ]
  },
  {
   "cell_type": "markdown",
   "id": "ad8ddb67-7c81-4633-9efd-fcdaec67339f",
   "metadata": {},
   "source": [
    "## Numpy functions\n",
    "\n",
    "Het aantal functies in de `numpy module` is erg groot maar enkele veel gebruikte willen we hier kort nog bespreken.\n",
    "\n",
    "Je kunt een arrays aanmaken met willekeurige getallen door gebruik te maken van een van de vele functies uit de `numpy.random` sub-module. Bijvoorbeeld de `rand()` functie:"
   ]
  },
  {
   "cell_type": "code",
   "execution_count": 38,
   "id": "b858649a-5108-41d9-bc3e-93c8491ef392",
   "metadata": {},
   "outputs": [
    {
     "data": {
      "text/plain": [
       "array([[0.59049432, 0.19641193, 0.02591848],\n",
       "       [0.61833626, 0.28811293, 0.83350048]])"
      ]
     },
     "execution_count": 38,
     "metadata": {},
     "output_type": "execute_result"
    }
   ],
   "source": [
    "a = np.random.rand(2,3)   # Maak array van 2 bij 3 en vul met willekeurige getallen tussen 0 en 1.\n",
    "a"
   ]
  },
  {
   "cell_type": "markdown",
   "id": "63ad3eb4-268d-4bd6-9bfd-00c86f907b6d",
   "metadata": {},
   "source": [
    "Je kunt getallen in een array sorteren met de `np.sort()` functie:"
   ]
  },
  {
   "cell_type": "code",
   "execution_count": 41,
   "id": "26e6b92c-349c-4414-80bc-3b532f7c949a",
   "metadata": {},
   "outputs": [
    {
     "data": {
      "text/plain": [
       "array([0.32777398, 0.39307422, 0.48387105, 0.51579835, 0.58093551,\n",
       "       0.62560346, 0.80217635, 0.80933083, 0.89497377, 0.94617283])"
      ]
     },
     "execution_count": 41,
     "metadata": {},
     "output_type": "execute_result"
    }
   ],
   "source": [
    "a = np.random.rand(10)\n",
    "np.sort(a)"
   ]
  },
  {
   "cell_type": "markdown",
   "id": "65aef0f2-6851-4418-9c2f-c005cad0b529",
   "metadata": {},
   "source": [
    "Je kunt de indexen vinden voor alle getallen in een array waarvoor een bepaalde conditie waar is door de `np.nonzero()` functie:"
   ]
  },
  {
   "cell_type": "code",
   "execution_count": 44,
   "id": "eab76ded-5e9c-4e04-b028-8f9a832781b2",
   "metadata": {},
   "outputs": [
    {
     "data": {
      "text/plain": [
       "array([[False, False, False],\n",
       "       [ True,  True,  True],\n",
       "       [ True,  True,  True]])"
      ]
     },
     "execution_count": 44,
     "metadata": {},
     "output_type": "execute_result"
    }
   ],
   "source": [
    "a = np.array([[1, 2, 3], [4, 5, 6], [7, 8, 9]]) # maak array van 3x3\n",
    "a > 3 # waar is a groter dan 3?"
   ]
  },
  {
   "cell_type": "markdown",
   "id": "ed2326cf-c732-4696-b585-b2ca8bc21a9d",
   "metadata": {},
   "source": [
    "In het voorbeeld hierboven is de conditie dat a groter is dan 3 waar voor 6 van de 9 getallen, hun indexen vind je vervolgens door:"
   ]
  },
  {
   "cell_type": "code",
   "execution_count": 45,
   "id": "9e4ebf94-d62a-4ab5-a215-d52fefe99652",
   "metadata": {},
   "outputs": [
    {
     "data": {
      "text/plain": [
       "(array([1, 1, 1, 2, 2, 2]), array([0, 1, 2, 0, 1, 2]))"
      ]
     },
     "execution_count": 45,
     "metadata": {},
     "output_type": "execute_result"
    }
   ],
   "source": [
    "np.nonzero(a > 3) # geef indexen van getallen in a die groter zijn dan 3"
   ]
  },
  {
   "cell_type": "markdown",
   "id": "4cf3354a-0080-419b-a693-b842e98b3a16",
   "metadata": {},
   "source": [
    "Dus de getallen in array a zijn groter dan 3 op posities [1,0]; [1,1]; [1,2]; [2,0], [2,1] en [2,2]."
   ]
  },
  {
   "cell_type": "markdown",
   "id": "140cd4db-14f9-4191-9956-198acfc1dcd7",
   "metadata": {},
   "source": [
    "Ook kun je getallen vervangen onder een bepaalde conditie door de `np.where` functie. Stel dat je in array a alle getallen groter dan of gelijk aan 5 wil vervangen door 100:"
   ]
  },
  {
   "cell_type": "code",
   "execution_count": 50,
   "id": "bd2dc9be-c57b-44d8-a6b6-9f3fe6baf503",
   "metadata": {},
   "outputs": [
    {
     "data": {
      "text/plain": [
       "array([[  1,   2,   3],\n",
       "       [  4, 100, 100],\n",
       "       [100, 100, 100]])"
      ]
     },
     "execution_count": 50,
     "metadata": {},
     "output_type": "execute_result"
    }
   ],
   "source": [
    "a = np.array([[1, 2, 3], [4, 5, 6], [7, 8, 9]]) # maak array van 3x3\n",
    "b = np.where(a >= 5, 100, a) # waar a groter is dan of gelijk aan 5 geef waarde '100' anders geef waarde uit array a\n",
    "b"
   ]
  },
  {
   "cell_type": "markdown",
   "id": "0a99e82b-07ed-443c-b52d-e4ed00950ebe",
   "metadata": {},
   "source": [
    "Tenslotte twee `numpy` functies die je kunt gebruiken om arrays 'aan elkaar te plakken', namelijk `np.vstack()` om arrays in de verticaal aan elkaar te plakken en `np.hstack()` om arrays in de horizontaal aan elkaar te plakken:"
   ]
  },
  {
   "cell_type": "code",
   "execution_count": 59,
   "id": "9",
   "metadata": {},
   "outputs": [
    {
     "data": {
      "text/plain": [
       "(6, 3)"
      ]
     },
     "execution_count": 59,
     "metadata": {},
     "output_type": "execute_result"
    }
   ],
   "source": [
    "array1 = np.linspace(5, 10, 9).reshape(3,3) # 3x3 array met 9 getallen op gelijke afstand tussen de 5 en tot en met 10\n",
    "array2 = np.linspace(50, 100, 9).reshape(3,3) # 3x3 array met 9 getallen op gelijke afstand tussen de 50 en tot en met 100\n",
    "array_new = np.vstack((array1,array2)) # plak array 1 en array 2 verticaal aan elkaar. Let op dat je dubbele haakjes moet gebruiken (een 'tuple')\n",
    "array_new.shape"
   ]
  },
  {
   "cell_type": "code",
   "execution_count": 60,
   "id": "b8134737-9f57-4665-979a-614142f19ed9",
   "metadata": {},
   "outputs": [
    {
     "data": {
      "text/plain": [
       "array([[  5.   ,   5.625,   6.25 ],\n",
       "       [  6.875,   7.5  ,   8.125],\n",
       "       [  8.75 ,   9.375,  10.   ],\n",
       "       [ 50.   ,  56.25 ,  62.5  ],\n",
       "       [ 68.75 ,  75.   ,  81.25 ],\n",
       "       [ 87.5  ,  93.75 , 100.   ]])"
      ]
     },
     "execution_count": 60,
     "metadata": {},
     "output_type": "execute_result"
    }
   ],
   "source": [
    "array_new"
   ]
  },
  {
   "cell_type": "code",
   "execution_count": 61,
   "id": "43e60a23-91cb-4e4b-ba77-16bfb7b891b0",
   "metadata": {},
   "outputs": [
    {
     "data": {
      "text/plain": [
       "(3, 6)"
      ]
     },
     "execution_count": 61,
     "metadata": {},
     "output_type": "execute_result"
    }
   ],
   "source": [
    "array1 = np.linspace(5, 10, 9).reshape(3,3) # 3x3 array met 9 getallen op gelijke afstand tussen de 5 en tot en met 10\n",
    "array2 = np.linspace(50, 100, 9).reshape(3,3) # 3x3 array met 9 getallen op gelijke afstand tussen de 50 en tot en met 100\n",
    "array_new = np.hstack((array1,array2)) # plak array 1 en array 2 horizontaal aan elkaar. Let op dat je dubbele haakjes moet gebruiken (een 'tuple')\n",
    "array_new.shape"
   ]
  },
  {
   "cell_type": "code",
   "execution_count": 62,
   "id": "1996d107-6e4d-4084-90fb-80de0883a2dc",
   "metadata": {},
   "outputs": [
    {
     "data": {
      "text/plain": [
       "array([[  5.   ,   5.625,   6.25 ,  50.   ,  56.25 ,  62.5  ],\n",
       "       [  6.875,   7.5  ,   8.125,  68.75 ,  75.   ,  81.25 ],\n",
       "       [  8.75 ,   9.375,  10.   ,  87.5  ,  93.75 , 100.   ]])"
      ]
     },
     "execution_count": 62,
     "metadata": {},
     "output_type": "execute_result"
    }
   ],
   "source": [
    "array_new"
   ]
  },
  {
   "cell_type": "markdown",
   "id": "57a5405c-87b9-44b7-9a0e-b2ef2ffdcf5b",
   "metadata": {},
   "source": [
    "## Ontbrekende data door middel van Numpy Not-a-Number\n",
    "\n",
    "Het komt vaak voor dat er data ontbreken. Bijvoorbeeld als je meetinstrument op een bepaald moment het niet goed deed. Maar ook als je bijvoorbeeld een grid hebt met daarin temperaturen van het oppervlak van de oceaan, want dan heb je ontbrekende data voor alle gridcellen waar er land is in plaats van oceaan. Om hier handig mee te werken gebruiken we een speciaal data type dat we `Not a number` of in het kort `NaN` noemen.\n",
    "\n",
    "In de `numpy module` zijn er allerlei handige functies om met `NaNs` te werken. Denk bijvoorbeeld aan het berekenen van een gemiddelde, een som, een maximum of een minimum in het geval van ontbrekende data. Als voorbeeld zullen we in de temperatuurmetingen van de Bilt een `NaNs` toevoegen:"
   ]
  },
  {
   "cell_type": "code",
   "execution_count": 64,
   "id": "34aed7b8-c886-4aa4-a70b-73beba91cc39",
   "metadata": {},
   "outputs": [
    {
     "data": {
      "text/plain": [
       "array([ 8.903205,  8.92253 ,  8.93362 ,  8.962243,  8.984967,  9.002845,\n",
       "        9.030684,  9.061136,  9.061813,  9.028958,       nan,  8.978765,\n",
       "        8.976768,  8.973549,  8.987822,  8.986124,  9.031549,  9.053846,\n",
       "        9.091194,  9.092023,  9.099168,  9.111775,  9.135405,  9.145616,\n",
       "        9.124907,  9.125786,  9.136966,  9.178061,  9.227715,  9.244284,\n",
       "        9.252213,  9.204939,  9.186271,  9.166513,  9.139896,  9.147175,\n",
       "        9.152941,  9.142723,  9.143662,  9.180979,  9.22009 ,  9.233147,\n",
       "        9.231488,  9.244477,  9.250731,  9.286716,  9.290689,  9.248138,\n",
       "        9.228629,  9.226952,  9.228156,  9.261005,  9.278863,  9.27778 ,\n",
       "        9.279699,  9.285302,  9.292798,  9.330986,  9.360363,  9.366921,\n",
       "        9.381194,  9.455902,  9.512233,  9.566514,  9.591889,  9.591287,\n",
       "        9.619922,  9.657665,  9.717463,  9.764116,  9.807912,  9.851774,\n",
       "        9.886477,  9.91304 ,  9.937561,  9.998328, 10.0394  , 10.08407 ,\n",
       "       10.12719 , 10.14545 , 10.18434 , 10.18912 , 10.21907 , 10.28074 ,\n",
       "       10.35122 , 10.41676 , 10.47302 , 10.50863 , 10.52571 , 10.52389 ])"
      ]
     },
     "execution_count": 64,
     "metadata": {},
     "output_type": "execute_result"
    }
   ],
   "source": [
    "jaar, temp = np.loadtxt('Media/deBilt_yearly_temperatures.txt',comments='#',unpack=True) # Lees een dataset en maak array 'jaar' en array 'temp' aan\n",
    "temp[10] = np.nan # Zet voor het voorbeeld een waarde \n",
    "temp"
   ]
  },
  {
   "cell_type": "markdown",
   "id": "af0241ea-93ea-4be9-aaf0-1db176e8ccb6",
   "metadata": {},
   "source": [
    "Als je nu de gewone functies gebruikt om een gemiddelde, een som, een maximum of een minimum te bepalen, zul je zien dat je altijd als antwoord 'nan' krijgt:"
   ]
  },
  {
   "cell_type": "code",
   "execution_count": 69,
   "id": "52adcd9f-e901-4b71-83fc-f272d1f5cb7b",
   "metadata": {},
   "outputs": [
    {
     "name": "stdout",
     "output_type": "stream",
     "text": [
      "nan\n",
      "nan\n",
      "nan\n",
      "nan\n"
     ]
    }
   ],
   "source": [
    "print(np.mean(temp))\n",
    "print(np.sum(temp))\n",
    "print(np.max(temp))\n",
    "print(np.min(temp))"
   ]
  },
  {
   "cell_type": "markdown",
   "id": "b384b419-6b05-48c2-bf87-c84d3c5a4ac3",
   "metadata": {},
   "source": [
    "Daarom zijn er speciale `numpy functies` die een `NaN` negeren:"
   ]
  },
  {
   "cell_type": "code",
   "execution_count": 70,
   "id": "af5c0e5b-d656-48c5-80a7-8aef6b712503",
   "metadata": {},
   "outputs": [
    {
     "name": "stdout",
     "output_type": "stream",
     "text": [
      "9.427589359550561\n",
      "839.0554529999999\n",
      "10.52571\n",
      "8.903205\n"
     ]
    }
   ],
   "source": [
    "print(np.nanmean(temp))\n",
    "print(np.nansum(temp))\n",
    "print(np.nanmax(temp))\n",
    "print(np.nanmin(temp))"
   ]
  },
  {
   "cell_type": "markdown",
   "id": "a41044d7-28fb-48d7-a43d-102fd1b17d3f",
   "metadata": {},
   "source": [
    "## Samenvatting\n",
    "\n",
    "In vakgebieden als Aardwetenschappen, Milieuwetenschappen en meer algemeen in 'data sciences', werken we veel met `Numpy arrays` omdat dit een data type is dat heel efficient is om met grote hoeveelheden gegevens te werken en waarvoor er allerhande numerieke methodes beschikbaar zijn om berekeningen te doen met je gegevens. In dit deel heb je een overzicht gezien van hoe je een array maakt, hoe indexing werkt bij een array, hoe je werkt met 'not-a-numbers' en tenslotte enkele veel voorkomende `Numpy functies`."
   ]
  },
  {
   "cell_type": "markdown",
   "id": "36438bc0-79f4-4025-829d-bdce6f1d7515",
   "metadata": {},
   "source": [
    "<!-- Links -->\n",
    "[Python_Pandas]: 08_Python_Pandas.ipynb\n",
    "\n",
    "# Ga naar het volgende deel: [08_Python_Pandas][Python_Pandas]"
   ]
  }
 ],
 "metadata": {
  "kernelspec": {
   "display_name": "Python 3",
   "language": "python",
   "name": "python3"
  },
  "language_info": {
   "codemirror_mode": {
    "name": "ipython",
    "version": 3
   },
   "file_extension": ".py",
   "mimetype": "text/x-python",
   "name": "python",
   "nbconvert_exporter": "python",
   "pygments_lexer": "ipython3",
   "version": "3.11.10"
  }
 },
 "nbformat": 4,
 "nbformat_minor": 5
}
