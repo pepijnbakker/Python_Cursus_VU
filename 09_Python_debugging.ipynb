{
 "cells": [
  {
   "cell_type": "markdown",
   "metadata": {},
   "source": [
    "# Foutmeldingen en debugging\n",
    "\n",
    "## Overzicht\n",
    "Het is onvermijdelijk dat je tijdens het schrijven van je Python code fouten maakt. Je krijgt bijvoorbeeld `foutmeldingen` omdat je ergens een haakje vergeet, of je gebruikt een komma waar je een punt zou moet zetten (zogenaamde `syntax errors`) of je gebruikt een functie op een verkeerde manier. In deze gevallen krijg je een foutmelding en het is belangrijk dat je leert deze foutmeldingen te lezen. Een ander type fout, is als je code geen foutmeldingen geeft, maar het antwoord niet is wat je verwacht. In dat geval, een zogenaamde `semantic error` of een `logica fout`, moet je je code stap voor stap nalopen om de fout te achterhalen, zogenaamd `debugging`. In dit deel zullen we kijken naar hoe je in het algemeen de foutmeldingen in Python moet lezen en zullen we door middel van enkele voorbeelden, kijken hoe je handig je code kan debuggen."
   ]
  },
  {
   "cell_type": "markdown",
   "metadata": {},
   "source": [
    "# Foutmeldingen lezen\n",
    "\n",
    "error messages (examples from course Nick)\n",
    "\n",
    "give some examples of non-functioning codes (or unexpected results) and show step by step how you debug such a piece of code"
   ]
  },
  {
   "cell_type": "code",
   "execution_count": null,
   "metadata": {},
   "outputs": [],
   "source": [
    "a = 10\n",
    "b = a*5\n",
    "print 'hello world'"
   ]
  },
  {
   "cell_type": "markdown",
   "metadata": {},
   "source": [
    "De code hierboven geeft je een `foutmelding`. Die herken je meteen door de rode achtergrond kleur. Deze code geeft meerdere belangrijke aanwijzingen naar de fout die je hebt gemaakt:\n",
    "- Op de eerste regel van de foutmelding staat **in welke regel de fout zit**. In dit geval in regel 3.\n",
    "- Op de tweede regel staat **de foute regel weergegeven**\n",
    "- Op de derde regel **wordt met een ^ aangewezen in welk stuk van die regel de fout zit.** In dit geval in de functie 'print'.\n",
    "- Op de laatste regel staat:\n",
    "    - **Om welk type fout het gaat**. In dit geval een 'SyntaxError.\n",
    "    - **Een omschrijving van de fout**. In dit geval dat er haakjes (parentheses) missen bij het gebruik van de 'print' functie.\n",
    "    - **Een suggestie ter verbetering**. In dit geval 'print(...)'."
   ]
  },
  {
   "cell_type": "markdown",
   "metadata": {},
   "source": [
    "Kun je door middel van het lezen van de foutmeldingen in de cellen hieronder achterhalen wat de fout is?"
   ]
  },
  {
   "cell_type": "code",
   "execution_count": null,
   "metadata": {},
   "outputs": [],
   "source": [
    "list_example = [1, 2, 'temp', 'hallo'}"
   ]
  },
  {
   "cell_type": "code",
   "execution_count": null,
   "metadata": {},
   "outputs": [],
   "source": [
    "a = 10*10\n",
    "b = a**2\n",
    "c = 10 + 'Hallo'\n",
    "d = 'Hal' + 'lo'"
   ]
  },
  {
   "cell_type": "code",
   "execution_count": null,
   "metadata": {},
   "outputs": [],
   "source": [
    "aa = 10*10\n",
    "bb = aa**2\n",
    "cc = 10 + dd\n",
    "dd = 2 - 2**3/2"
   ]
  },
  {
   "cell_type": "markdown",
   "metadata": {},
   "source": [
    "## Semantic error en debugging\n",
    "\n",
    "Lastiger dan foutmeldingen, zijn zogenaamde `semantic error`. Een stuk code dat wel werkt, maar niet het resultaat geeft dat je verwacht of voor ogen had. Hieronder wat voorbeelden."
   ]
  },
  {
   "cell_type": "code",
   "execution_count": null,
   "metadata": {},
   "outputs": [],
   "source": [
    "def faculteit(n):\n",
    "\n",
    "    product = 1\n",
    "    for i in range(n):\n",
    "        product *= i\n",
    "    return product\n",
    "\n",
    "print(faculteit(5))"
   ]
  },
  {
   "cell_type": "markdown",
   "metadata": {},
   "source": [
    "<!-- Links -->\n",
    "[python_basics]: 01_Python_basics.ipynb\n",
    "\n",
    "De functie 'faculteit' hierboven geeft geen foutmelding als je hem gebruikt zoals in het voorbeeld hierboven. Maar de faculteit van 5 is 120 en geen 0! Het achterhalen van dit type `semantic error` is niet altijd eenvoudig, zeker niet als de fout zoals in dit voorbeeld, zit in een functie waardoor de variabelen zogenaamde `lokale variabelen` zijn die je in de debugger niet kan zien. Zie [Python Basics][python_basics] om te zien hoe je de debugger kunt aanzetten binnen de `JupyterHub` omgeving.\n",
    "\n",
    "De eerste stap om deze `semantic error` te achterhalen zou daarom kunnen zijn dat je, tijdelijk, de berekening uit de functie haalt:"
   ]
  },
  {
   "cell_type": "code",
   "execution_count": null,
   "metadata": {},
   "outputs": [],
   "source": [
    "# Code om de faculteit van een getal te berekenen\n",
    "faculteit_n = 5 # Geef het getal waarvan je de faculteit wilt bepalen\n",
    "product = 1\n",
    "for i in range(faculteit_n):\n",
    "    product *= i\n",
    "\n",
    "print(product)"
   ]
  },
  {
   "cell_type": "markdown",
   "metadata": {},
   "source": [
    "In de `debugger` kan je nu zien dat de variabele 'product' inderdaad 0 is, terwijl 'i' gelijk is aan 4, dus de for-loop heeft wel gewerkt. Een volgende stap zou kunnen zijn dat je binnen de for-loop een `print() statement` toevoegd om te zien hoe de waarde van 'product' verandert:"
   ]
  },
  {
   "cell_type": "code",
   "execution_count": null,
   "metadata": {},
   "outputs": [],
   "source": [
    "# Code om de faculteit van een getal te berekenen\n",
    "faculteit_n = 5 # Geef het getal waarvan je de faculteit wilt bepalen\n",
    "product = 1\n",
    "for i in range(faculteit_n):\n",
    "    product *= i\n",
    "    print(\"i = \"+str(i)+\" ;product = \"+str(product))\n"
   ]
  },
  {
   "cell_type": "markdown",
   "metadata": {},
   "source": [
    "Hierdoor kun je nu zien dat de eerste waarde van 'i' gelijk is aan 0, waardoor 'product' ook nul wordt, en daarna nul blijft omdat nul maal iets nu eenmaal nul is en blijft. Om een werkende functie te krijgen, moet de waarde van i daarom niet beginnen bij 0 maar bij 1, en moet de waarde van i niet gaan tot 5, maar tot 5+1:"
   ]
  },
  {
   "cell_type": "code",
   "execution_count": null,
   "metadata": {},
   "outputs": [],
   "source": [
    "def faculteit(n):\n",
    "\n",
    "    product = 1\n",
    "    for i in range(1,n+1):\n",
    "        product *= i\n",
    "    return product\n",
    "\n",
    "print(faculteit(5))"
   ]
  },
  {
   "cell_type": "markdown",
   "metadata": {},
   "source": [
    "Nu geeft de functie 'faculteit' wel het gewenste antwoord."
   ]
  },
  {
   "cell_type": "markdown",
   "metadata": {},
   "source": [
    "## Samenvatting\n",
    "\n",
    "Het verbeteren van fouten in je `Python code` en het daarvoor goed lezen van de foutmelding is iets wat je vooral leert door het te doen. Helaas zijn de foutmeldingen soms erg lang en ingewikkeld, maar zoek dan vooral naar de belangrijkste aanwijzingen zoals die aan het begin van dit deel beschreven staan. Ook het nagaan van `semantic error` is iets waar je beter in wordt als je het vaker hebt gedaan. Belangrijk is het gebruik van de `debugger` om na te gaan of alle variabele zijn zoals je verwacht; dus hebben ze het juiste `type`, de juiste `waarde` en de juiste `grootte` (size) en `vorm` (shape). Verder helpt het om de code op te delen in kleinere stukjes om zo te achterhalen in welk stukje code je fout precies zit."
   ]
  },
  {
   "cell_type": "markdown",
   "metadata": {},
   "source": [
    "# Afsluitende opmerkingen\n",
    "\n",
    "Hiermee ben je aan het einde gekomen van deze korte `Python` cursus. Er is zoveel mogelijk met een programmeertaal zoals Python dat je in deze cursus slechts een heel klein deel hebben kunnen behandelen. Wel geeft dit je de basis om nu zelf verder te gaan zoeken naar functies die je nodig hebt om je probleem op te lossen, hoe je de figuur maakt die je nodig hebt, of hoe je een probleem op een slimme manier kan oplossen. Bedenk dat je in bijna alle gevallen niet de eerste zult zijn die een bepaalde figuur wil maken of een bepaalt probleem moet oplossen. Maak gebruik van alle informatie die anderen hierover op internet hebben gedeelt.\n",
    "\n",
    "Tenslotte, ga `Python` vooral veel gebruiken, ga oefenen en blijf het gebruiken. Dan wordt je vanzelf een Python expert, kun je zeer efficient onderzoek doen en liggen de banen in de toekomst voor het oprapen voor je!"
   ]
  }
 ],
 "metadata": {
  "kernelspec": {
   "display_name": "Python 3 (ipykernel)",
   "language": "python",
   "name": "python3"
  },
  "language_info": {
   "codemirror_mode": {
    "name": "ipython",
    "version": 3
   },
   "file_extension": ".py",
   "mimetype": "text/x-python",
   "name": "python",
   "nbconvert_exporter": "python",
   "pygments_lexer": "ipython3",
   "version": "3.11.11"
  }
 },
 "nbformat": 4,
 "nbformat_minor": 4
}
