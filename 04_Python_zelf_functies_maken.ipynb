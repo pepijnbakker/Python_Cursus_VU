{
 "cells": [
  {
   "cell_type": "markdown",
   "id": "0",
   "metadata": {},
   "source": [
    "# Zelf functies maken\n",
    "\n",
    "## Overzicht\n",
    "\n",
    "In het vorige deel heb je gezien hoe je functies kunt gebruiken uit bestaande modules. Vaak is het echter ook handig om zelf een functie te maken! Bijvoorbeeld als je een bepaalde operatie heel vaak wilt uitvoeren of een bepaald type figuur die je vaak wilt maken. In dit deel zullen we zien hoe je zelf functies kan maken en aanroepen. "
   ]
  },
  {
   "cell_type": "markdown",
   "id": "d6c2098b-f766-4bbc-b630-c94b8d8ee745",
   "metadata": {},
   "source": [
    "# Anatomie van functies\n",
    "\n",
    "Alle functies lijken op elkaar, ze hebben zogezegd dezelfde anatomie. Deze anatomie is weergegeven in de volgende figuur."
   ]
  },
  {
   "cell_type": "markdown",
   "id": "ba544925-fa78-4596-a19e-5a2d2cefbbdd",
   "metadata": {},
   "source": [
    "![AnatomieFunctie](./Media/Anatomie_functie.png)"
   ]
  },
  {
   "cell_type": "markdown",
   "id": "2725753e-0fa1-4c32-8a4a-990ad66dc1d9",
   "metadata": {},
   "source": [
    "In deze figuur zie je als voorbeeld een functie die voor ons een temperatuur in graden Celsius omzet in een temperatuur in graden Fahrenheit. \n",
    "- Een functie begint altijd met `def` (van *define*), dit is in Python een zogenaamd `keyword`.\n",
    "- Vervolgens komt de naam van de functie, in dit geval `c2f`. Net zoals bij variabele namen is het ook bij functie namen belangrijk dat je ze een naam geeft die weergeeft wat de functie doet: dus in dit geval `**c**elsius **2** **f**ahrenheit.\n",
    "- Dan krijg je tussen ronde haakjes de zogenaamde `input argumenten` van de functie. Dus informatie die je aan de functie mee kan geven. In dit geval moet je de functie vertellen wat de temperatuur in graden Celsius is `ctemp` zodat de functie deze kan omzetten naar Fahrenheit. **Let op**: ook als je geen input argumenten hebt moet je toch altijd ronde haakjes gebruiken, dus `()`.\n",
    "- Aan het einde van de regel die je met `def` begonnen bent sluit je af met een dubbelepunt.\n",
    "- Vervolgens krijg je de *body* van je functie waarin alles staat wat er bij je functie hoort. Dit deel moet ingesprongen zijn. De functie is ten einde als de code niet meer ingesprongen is.\n",
    "- Tenslotte kun je de functie afsluiten met een `return statement`. Hiermee kun je aangeven dat je functie iets terug moet geven. In dit geval moet de functie de `output` `ftemp` teruggeven. Het is niet verplicht om een `return statement` te gebruiken. Je kan bijvoorbeeld ook een functie hebben die iets voor je *doet*, bijvoorbeeld een figuur maken, en in zo'n geval is er soms geen output.\n",
    "\n",
    "De functie ziet er in Python code als volgt uit:"
   ]
  },
  {
   "cell_type": "code",
   "execution_count": 1,
   "id": "926ad256-32d1-4221-9047-83999541760c",
   "metadata": {},
   "outputs": [],
   "source": [
    "def c2f(ctemp):\n",
    "    ftemp = 9/5 * ctemp + 32\n",
    "    return ftemp"
   ]
  },
  {
   "cell_type": "markdown",
   "id": "b40cef2e-26f9-4fa2-8c46-08247a5ad38d",
   "metadata": {},
   "source": [
    "**Let op**: als je een functie zoals die hierboven uitvoerd (run) dan zet Python deze functie in zijn geheugen zodat je hem daarna kan gaan gebruiken. Er gebeurt dus nog niets zolang je de functie niet ook gaat gebruiken!"
   ]
  },
  {
   "cell_type": "code",
   "execution_count": 2,
   "id": "9b99f0c4-bdf2-40f3-baba-61452b000add",
   "metadata": {},
   "outputs": [
    {
     "data": {
      "text/plain": [
       "86.0"
      ]
     },
     "execution_count": 2,
     "metadata": {},
     "output_type": "execute_result"
    }
   ],
   "source": [
    "c2f(30)   # Roep de functie c2f aan om 30 graden Celsium om te rekenen in graden Fahrenheit"
   ]
  },
  {
   "cell_type": "code",
   "execution_count": 2,
   "id": "c0c569f7-3daf-45f5-9881-023ce0394246",
   "metadata": {},
   "outputs": [
    {
     "name": "stdout",
     "output_type": "stream",
     "text": [
      "86.0\n"
     ]
    }
   ],
   "source": [
    "temp_fahr = c2f(30)  # Of roep de c2f functie aan en zet de uitkomt van de functie in een nieuwe variabele die je later kan gebruiken\n",
    "print(temp_fahr)     # bijvoorbeeld om later te printen"
   ]
  },
  {
   "cell_type": "markdown",
   "id": "fe887e1d-1fdc-4d5b-88bc-b03e28b29cff",
   "metadata": {},
   "source": [
    "## Nog enkele voorbeelden van zelfgemaakte functies\n",
    "\n",
    "Het is ook mogelijk om je functie in een apart Python bestand te zetten dat je vervolgens kunt openen zoals je ieder andere module ook kunt openen. We zullen dat verder niet gaan oefenen."
   ]
  },
  {
   "cell_type": "code",
   "execution_count": 4,
   "id": "2bd9087a-57cb-4112-af8d-2b5fa6a7f445",
   "metadata": {},
   "outputs": [],
   "source": [
    "def pyt(a, b):\n",
    "    ''' Input the length of the two short edges of a recrangular triangle and the length of the long edge is given as output'''\n",
    "    c = (a**2 + b**2 )**(0.5)\n",
    "    return c"
   ]
  },
  {
   "cell_type": "code",
   "execution_count": 7,
   "id": "ecd9b388-38f3-450d-897d-cf6d1d1982d0",
   "metadata": {},
   "outputs": [
    {
     "name": "stdout",
     "output_type": "stream",
     "text": [
      "10.770329614269007\n"
     ]
    }
   ],
   "source": [
    "lange_zijde = (pyt(10,4)) # Gebruik de functie 'pyt' om de stelling van Pythagoras toe te passen\n",
    "print(lange_zijde)"
   ]
  },
  {
   "cell_type": "markdown",
   "id": "633c5722-c70c-4107-a559-00d44d8c0c15",
   "metadata": {},
   "source": [
    "In het voorbeeld hierboven hebben we een functie gemaakt die 'pyt' heet. De functie verwacht twee inputs (namelijk de lengtes van beide korte zijdes van de rechthoekige driehoek) en geeft een output (namelijk de lengte van de lange zijde. In dit voorbeeld gebruiken we drie aanhalingstekens (''') om een regel met tekst toe te voegen waarin de functie kort beschreven wordt. Deze beschrijving kun je nu ook aanroepen door de help() functie:"
   ]
  },
  {
   "cell_type": "code",
   "execution_count": 6,
   "id": "47ddf19a-6261-4f53-82e8-67e5ccb6eae0",
   "metadata": {},
   "outputs": [
    {
     "name": "stdout",
     "output_type": "stream",
     "text": [
      "Help on function pyt in module __main__:\n",
      "\n",
      "pyt(a, b)\n",
      "    Input the length of the two short edges of a recrangular triangle and the length of the long edge is given as output\n",
      "\n"
     ]
    }
   ],
   "source": [
    "help(pyt)"
   ]
  },
  {
   "cell_type": "markdown",
   "id": "d24aa68d-8ae8-4d63-b1dc-837b55dd12ac",
   "metadata": {},
   "source": [
    "**Let op**: In het voorbeeld hierboven is de output van de functie 'pyt' de variabele 'c', maar deze kennen we vervolgens toe aan de variabele 'lange_zijde'. Deze variabele namen hoeven dus niet hetzelfde te zijn. We zullen hier later dieper op in gaan als we het over lokale en globale variabelen gaan hebben."
   ]
  },
  {
   "cell_type": "markdown",
   "id": "490b2a6e-9cef-4916-a540-db8aae66f7b7",
   "metadata": {},
   "source": [
    "De functie 'pyt' heeft twee `input argumenten`. Binnen de functie krijgen deze de namen 'a' en 'b', maar wat er eigenlijk gebeurt is simpelweg dat dit input argumenten '1' en '2' zijn. Om dit duidelijk te maken het volgende voorbeeld:"
   ]
  },
  {
   "cell_type": "code",
   "execution_count": 12,
   "id": "5015c885-d478-42ed-9a1a-ea6539c9fb40",
   "metadata": {},
   "outputs": [
    {
     "name": "stdout",
     "output_type": "stream",
     "text": [
      "2.0\n"
     ]
    }
   ],
   "source": [
    "def divide(a,b):\n",
    "    c = a/b\n",
    "    return c\n",
    "    \n",
    "a = 10\n",
    "b = 20\n",
    "print(divide(b, a))"
   ]
  },
  {
   "cell_type": "markdown",
   "id": "5d34e9b0-1d4b-4d7e-a9cf-686f0bdf1ec5",
   "metadata": {},
   "source": [
    "b = 20 wordt dus niet gekoppeld aan de 'b' binnen de functie, maar omdat je 'b' als eerste geeft als je de functie aanroept (divide(b,a)) wordt de 20 binnen de functie gekoppeld aan variabele 'a'."
   ]
  },
  {
   "cell_type": "markdown",
   "id": "e135cea7-3ae5-4b15-90bc-eea169dd65fa",
   "metadata": {},
   "source": [
    "Om er zeker van te zijn dat a en b op de manier gebruikt worden die je verwacht, kun je het volgende doen:"
   ]
  },
  {
   "cell_type": "code",
   "execution_count": 14,
   "id": "84b007e9-80f6-4426-8481-a40d65406f7e",
   "metadata": {},
   "outputs": [
    {
     "name": "stdout",
     "output_type": "stream",
     "text": [
      "2.0\n"
     ]
    }
   ],
   "source": [
    "def divide(a,b):\n",
    "    c = a/b\n",
    "    return c\n",
    "    \n",
    "e = 10\n",
    "f = 20\n",
    "print(divide(b=f, a=e))"
   ]
  },
  {
   "cell_type": "markdown",
   "id": "d2ed9f06-898e-442f-bb44-c868e595c89c",
   "metadata": {},
   "source": [
    "Nu vertel je de functie dat input argument 'b' gelijk is aan je variabele 'f', terwijl input argument 'a' gelijk is aan variabele 'e'. Dit is een veiliger manier van het gebruik van een functie omdat het nu niet uitmaakt of je input argumenten per ongeluk in de verkeerde volgorde aanbiedt. Vooral bij functies met heel veel input argumenten wordt dit belangrijk.\n",
    "\n",
    "Tenslotte een nog wat complexer voorbeeld, en eentje waar je kan zien dat je een functie direct kan uitvoeren op een hele reeks getallen.\n",
    "\n",
    "We gaan een functie maken met de naam linreservoir(). In deze functie wordt een veelgebruikte vergelijking opgelost die beschrijft hoeveel water er na verloop van tijd nog in een water aquifer zit:\n",
    "\n",
    "$Q_t = Q_0 e^{- \\frac{1}{k} t}$\n",
    "\n",
    "De details van de functie zijn voor nu niet van belang."
   ]
  },
  {
   "cell_type": "code",
   "execution_count": 37,
   "id": "3be5dc7a-41b6-49c6-9eb1-b05e1f24c0a3",
   "metadata": {},
   "outputs": [],
   "source": [
    "def linreservoir(q0, k, t):\n",
    "    from numpy import exp # import exponential function from numpy module\n",
    "    qt = q0 * exp(-1/k * t)\n",
    "    return qt"
   ]
  },
  {
   "cell_type": "code",
   "execution_count": 41,
   "id": "c4b17437-1d67-4e03-b959-6b64d85de530",
   "metadata": {},
   "outputs": [
    {
     "data": {
      "text/plain": [
       "10.717059875230674"
      ]
     },
     "execution_count": 41,
     "metadata": {},
     "output_type": "execute_result"
    }
   ],
   "source": [
    "linreservoir(100.0, 30.0, 67)"
   ]
  },
  {
   "cell_type": "markdown",
   "id": "c79725af-4786-474e-bc75-8969d2300f82",
   "metadata": {},
   "source": [
    "Met een resessiecoefficient 'k' van 30 (dagen) is er na 67 dagen nog 10,7 water over van de originele 100 (de vergelijking heeft geen eenheid voor de hoeveelheid water, maar je zou het bijvoorbeeld kunnen lezen als 10,7 $10^6 m^3$).\n",
    "\n",
    "Je kunt de functie ook aanroepen met een `array` functie uit de `numpy` module en hierdoor kun je de hoeveelheid water krijgen voor verschillende tijdstippen, bijvoorbeeld tijdstippen 50, 60 en 70 dagen:"
   ]
  },
  {
   "cell_type": "code",
   "execution_count": 42,
   "id": "22026f80-0396-40f8-bda0-d3508ad0f466",
   "metadata": {},
   "outputs": [
    {
     "data": {
      "text/plain": [
       "array([18.88756028, 13.53352832,  9.69719679])"
      ]
     },
     "execution_count": 42,
     "metadata": {},
     "output_type": "execute_result"
    }
   ],
   "source": [
    "import numpy as np\n",
    "linreservoir(100.0, 30.0, np.array([50,60,70]))"
   ]
  },
  {
   "cell_type": "code",
   "execution_count": 48,
   "id": "ef7d5e0a-215f-49fa-a463-b4c0dd4bb9a6",
   "metadata": {},
   "outputs": [
    {
     "data": {
      "text/plain": [
       "Text(0, 0.5, 'Hoeveelheid water in aquifer [zonder eenheid]')"
      ]
     },
     "execution_count": 48,
     "metadata": {},
     "output_type": "execute_result"
    },
    {
     "data": {
      "image/png": "[encoded data removed]",
      "text/plain": [
       "<Figure size 640x480 with 1 Axes>"
      ]
     },
     "metadata": {},
     "output_type": "display_data"
    }
   ],
   "source": [
    "import numpy as np\n",
    "import matplotlib.pyplot as plt\n",
    "\n",
    "qt = linreservoir(100.0, 30.0, np.linspace(0,100,10))\n",
    "plt.plot(qt,'*')\n",
    "plt.xlabel(\"Tijd [dagen]\")\n",
    "plt.ylabel(\"Hoeveelheid water in aquifer [zonder eenheid]\")"
   ]
  },
  {
   "cell_type": "markdown",
   "id": "b0d274fa-dd6c-4e67-8615-db7bb73c9795",
   "metadata": {},
   "source": [
    "Tenslotte is het belangrijk om goede documentatie toe te voegen aan je functies. Voor de functie linreservoir zou dit er als volgt uit kunnen zien."
   ]
  },
  {
   "cell_type": "code",
   "execution_count": 51,
   "id": "5eee5a2b-e083-47e4-867d-5eb686d18676",
   "metadata": {},
   "outputs": [],
   "source": [
    "def linreservoir(q0, k, t):\n",
    "    ''' The function linreservoir() calculates the aquiver water volume at time t\n",
    "    from an initinal volume of q0 and a recession constant k\n",
    "\n",
    "    Input :\n",
    "    −−−−−−−−−\n",
    "    t : (array of) time\n",
    "    q0 : initinal volume\n",
    "    k : recession constant\n",
    "    Output :\n",
    "    −−−−−−−−−\n",
    "    qt : (array of) aquifer volume values at time t\n",
    "    Example :\n",
    "    −−−−−−−−−\n",
    "    >>> linreservoir(15.0, 30.0 ,20)\n",
    "    2.6359713811572676\n",
    "    '''\n",
    "\n",
    "    # Load exp function\n",
    "    from numpy import exp\n",
    "    \n",
    "    # Do the calculations\n",
    "\n",
    "    qt = q0 * exp(-1/k * t)\n",
    "\n",
    "    # Return qt\n",
    "    return qt"
   ]
  },
  {
   "cell_type": "markdown",
   "id": "cc576aab-5029-4d15-a975-7db0b63785d0",
   "metadata": {},
   "source": [
    "## Lokale en globale variabelen\n",
    "\n",
    "In enkele van de voorbeelden hierboven, gebruiken we zowel binnen de linreservoir functie, als bij het aanroepen van de functie, de variabele 'qt'. Dit raakt aan het onderwerp van `lokale variabelen` en `globale variabelen`.\n",
    "\n",
    "Alle variabelen die alleen binnen een functie te vinden zijn, zijn lokale variabelen. Alle andere variabelen zijn globale variabelen. Deze lokale variabelen kun je dan ook niet aanroepen buiten de functie, maar ze kunnen je globale variabelen ook niet overschrijven. Hieronder enkele voorbeelden."
   ]
  },
  {
   "cell_type": "code",
   "execution_count": 53,
   "id": "6010bc19-6ba6-49ac-8897-91ff53e25538",
   "metadata": {},
   "outputs": [
    {
     "ename": "NameError",
     "evalue": "name 'q0' is not defined",
     "output_type": "error",
     "traceback": [
      "\u001b[0;31m---------------------------------------------------------------------------\u001b[0m",
      "\u001b[0;31mNameError\u001b[0m                                 Traceback (most recent call last)",
      "Cell \u001b[0;32mIn[53], line 2\u001b[0m\n\u001b[1;32m      1\u001b[0m water \u001b[38;5;241m=\u001b[39m linreservoir(\u001b[38;5;241m100.0\u001b[39m, \u001b[38;5;241m30.0\u001b[39m, \u001b[38;5;241m70\u001b[39m)\n\u001b[0;32m----> 2\u001b[0m \u001b[38;5;28mprint\u001b[39m(q0)\n",
      "\u001b[0;31mNameError\u001b[0m: name 'q0' is not defined"
     ]
    }
   ],
   "source": [
    "qt = linreservoir(100.0, 30.0, 70) # Roep wederom de functie linreservoir() aan.\n",
    "print(q0)"
   ]
  },
  {
   "cell_type": "code",
   "execution_count": 55,
   "id": "f3e00385-42d5-41cb-9387-3aa96a1076d1",
   "metadata": {},
   "outputs": [
    {
     "name": "stdout",
     "output_type": "stream",
     "text": [
      "10.717059875230674\n"
     ]
    }
   ],
   "source": [
    "q0 = 200\n",
    "print(linreservoir(100.0, 30.0, 67)) # Roep wederom de functie linreservoir() aan."
   ]
  },
  {
   "cell_type": "markdown",
   "id": "af5dcee1-ae52-490a-a7ae-029f1ae6df16",
   "metadata": {},
   "source": [
    "Zoals je zult merken krijg je bij het uitvoeren van de eerste van de twee cellen hierboven een foutmelding. Namelijk, dat de variabele q0 niet bestaat. Deze variabele bestaat wel als lokale variabele in de functie linreservoir(), maar niet als globale variabele. In het voorbeeld in de tweede cel hierboven kun je zien dat het definieren van een globale 'q0' variabele heeft geen invloed op de lokale q0 in de linreservoir() functie, en het antwoord blijft daarom ook hetzelfde.\n",
    "\n",
    "Lokale variabelen zijn ook niet zichtbaar in het variabelen overzicht dat we kunnen zien als we de debugger aanzetten en vervolgens links in het menu op variables te klikken (zie deel 1 van deze handleiding voor details over het aanroepen van het variabelen overzicht door middel van de debugger)."
   ]
  },
  {
   "cell_type": "markdown",
   "id": "1",
   "metadata": {},
   "source": [
    "## Zelf een module maken met functies\n",
    "\n",
    "Het is ook mogelijk om je functie in een apart Python bestand te zetten dat je vervolgens kunt openen zoals je ieder andere module ook kunt openen. We zullen dat verder niet gaan oefenen."
   ]
  },
  {
   "cell_type": "markdown",
   "id": "9",
   "metadata": {},
   "source": [
    "## Samenvatting\n",
    "\n",
    "Het maken en gebruiken van functies maakt programmeren veel efficienter. Je hebt in dit deel gezien hoe een functie eruit ziet (zijn 'anatomie') en enkele voorbeelden die je laten zien hoe je je eigen functies kan gebruiken. Tenslotte is kort het belangrijke verschil tussen lokale en globale variabelen aan bod gekomen."
   ]
  },
  {
   "cell_type": "markdown",
   "id": "4d64da40-3b5b-4c26-a6c9-2630a0240217",
   "metadata": {},
   "source": [
    "<!-- Links -->\n",
    "[Python_Tekstbestanden_lezen_schrijven]: 05_Python_Tekstbestanden_lezen_schrijven.ipynb\n",
    "\n",
    "# Ga naar het volgende deel: [05_Python_Tekstbestanden_lezen_schrijven][Python_Tekstbestanden_lezen_schrijven]"
   ]
  },
  {
   "cell_type": "code",
   "execution_count": null,
   "id": "b568a2f8-8a04-4535-92a1-bad299faf2ab",
   "metadata": {},
   "outputs": [],
   "source": []
  }
 ],
 "metadata": {
  "kernelspec": {
   "display_name": "Python 3",
   "language": "python",
   "name": "python3"
  },
  "language_info": {
   "codemirror_mode": {
    "name": "ipython",
    "version": 3
   },
   "file_extension": ".py",
   "mimetype": "text/x-python",
   "name": "python",
   "nbconvert_exporter": "python",
   "pygments_lexer": "ipython3",
   "version": "3.11.10"
  }
 },
 "nbformat": 4,
 "nbformat_minor": 5
}
