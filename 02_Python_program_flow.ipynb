{
 "cells": [
  {
   "cell_type": "markdown",
   "id": "0",
   "metadata": {},
   "source": [
    "# Program flow\n",
    "\n",
    "## Overzicht\n",
    "\n",
    "In dit tweede deel van de cursus zullen we gaan kijken naar verschillende manieren van *program flow* (een goede Nederlandse vertaling heb ik nog niet kunnen bedenken), dus hoe je `boolean` logica kan gebruiken, hoe je conditie kan gebruiken om te bepalen of een stuk code wel of niet wordt uitgevoerd (`if statements`), en tenslotte manieren om stukken code te herhalen (`for loops` en `while loops`)."
   ]
  },
  {
   "cell_type": "markdown",
   "id": "b90748c0-387b-4b78-87c3-cdd0bc4b388d",
   "metadata": {},
   "source": [
    "## Boolean testen\n",
    "\n",
    "Zoals we in deel 1 hebben gezien, is er een `Boolean data type` waarvan de waarde `True` of `False` kan zijn. Dit kunnen we gebruiken om zaken met elkaar te vergelijken, dus vragen te stellen als \"is mijn variabele groter dan een bepaalde waarde?\" Hieronder enkele voorbeelden."
   ]
  },
  {
   "cell_type": "code",
   "execution_count": null,
   "id": "e7534eee-6433-45d3-a582-06ac2be64712",
   "metadata": {},
   "outputs": [],
   "source": [
    "a = 10    # Maak een willekeurige variabele aan\n",
    "a == 5    # Is a gelijk aan 5?"
   ]
  },
  {
   "cell_type": "code",
   "execution_count": null,
   "id": "fe628f97-d230-47a3-8205-bbfa07d1a15a",
   "metadata": {},
   "outputs": [],
   "source": [
    "a < 5     # Is a kleiner dan 5?"
   ]
  },
  {
   "cell_type": "code",
   "execution_count": null,
   "id": "50f314ed-219c-43b6-9caa-5077bb6e345f",
   "metadata": {},
   "outputs": [],
   "source": [
    "a <= 20     # Is a kleiner of gelijk aan 20?"
   ]
  },
  {
   "cell_type": "code",
   "execution_count": null,
   "id": "985ead83-3327-4d44-bd84-228cb0f6cfa9",
   "metadata": {},
   "outputs": [],
   "source": [
    "a != 5     # Is a niet gelijk aan 5?"
   ]
  },
  {
   "cell_type": "code",
   "execution_count": null,
   "id": "dbc2a6b4-5379-4ed4-8139-1dcc10e4943f",
   "metadata": {},
   "outputs": [],
   "source": [
    "a > 10     # Is a groter dan 10?"
   ]
  },
  {
   "cell_type": "code",
   "execution_count": null,
   "id": "36c50c13-a6b1-4565-b454-2cc285d09c69",
   "metadata": {},
   "outputs": [],
   "source": [
    "a >= 5     # Is a groter dan of gelijk aan 5?"
   ]
  },
  {
   "cell_type": "code",
   "execution_count": null,
   "id": "0b8d02dd-819c-4626-8f57-09b2e1847e60",
   "metadata": {},
   "outputs": [],
   "source": [
    "5 < a < 20 # Is a groter dan 5 en kleiner dan 20?"
   ]
  },
  {
   "cell_type": "markdown",
   "id": "be85e488-36fa-4e6f-963e-11257c56d08d",
   "metadata": {},
   "source": [
    "In het zesde deel van deze Python cursus zullen we zien hoe je `numpy` kan gebruiken om `Boolean testen` ook toe te kunnen passen op hele data-sets."
   ]
  },
  {
   "cell_type": "markdown",
   "id": "3a5067ce-63b1-4641-91cb-bde85cc880a2",
   "metadata": {},
   "source": [
    "## If statements\n",
    "\n",
    "Een belangrijk element om de flow van je Python code te sturen is het `if statement`. Hiermee bedoelen we de constructie waarmee je kan zeggen \"Als dit waar is doe dan dit, of als dit waar is doe dan dat, en als dat allebei niet waar is doe dan dat\". Dit doen we door middel van de woorden `if`, `elif` (de afkorting van else if) en `else`."
   ]
  },
  {
   "cell_type": "code",
   "execution_count": null,
   "id": "6379ffd9-e0ce-4359-8c0f-2885b8c22a59",
   "metadata": {},
   "outputs": [],
   "source": [
    "# Code om te kijken of de sterke van de zonnestraling Rs niet negatief is\n",
    "Rs = -10.0 # Sterkte van de zonnestraling\n",
    "if Rs < 0:\n",
    "    print(\"Zonnestraling sterkte\",Rs, \"gecorrigeerd naar nul\")\n",
    "    Rs = 0.0 # Corrigeer onrealistische waarde naar 0\n",
    "else:\n",
    "    \"Zonnestraling sterkte groter dan nul\""
   ]
  },
  {
   "cell_type": "markdown",
   "id": "d279c8ac-bc8c-42e6-b277-8ea8690f6e05",
   "metadata": {},
   "source": [
    "Zet nu de sterkte van de zonnestraling naar een getal dat groter is dan nul en controleer of nu inderdaad het andere deel van de code gebruikt wordt.\n",
    "\n",
    "We kunnen de correctie uitbreiden door `elif` statements te gebruiken:"
   ]
  },
  {
   "cell_type": "code",
   "execution_count": null,
   "id": "a9b314ce-cc73-475d-a6de-5284589bc618",
   "metadata": {},
   "outputs": [],
   "source": [
    "# Code om te kijken of de sterke van de zonnestraling Rs realistisch is\n",
    "Rs = 1500.0 # Sterkte van de zonnestraling\n",
    "if Rs < 0:\n",
    "    print(\"Zonnestraling sterkte\",Rs, \"gecorrigeerd naar nul\")\n",
    "    Rs = 0.0 # Corrigeer onrealistische waarde naar 0\n",
    "elif 10000 > Rs > 1000: # Sterkte van de zonnestraling is groot maar niet onrealistisch\n",
    "    print(\"Heel sterk zonlicht!\")\n",
    "elif Rs > 10000: # Onrealistisch sterke zonnestraling.\n",
    "    print(\"Zonnestraling onrealistisch sterk\")\n",
    "else:\n",
    "    print(\"Zonnestraling sterkte tussen 0 en 1000\")"
   ]
  },
  {
   "cell_type": "markdown",
   "id": "635d4b25-ca7b-4a0d-943f-531b807cacae",
   "metadata": {},
   "source": [
    "In de voorbeelden hierboven zien we enkele belangrijke eigenschappen van een `if statements`:\n",
    "- Een `if statements` begint met `if` en de eerste regel eindigt met een `:`.\n",
    "- Alle code die je enkel wilt uitvoeren als het `if statements` waar is moet ingesprongen zijn. Dit is een voorbeeld waarin witruimte cruciaal is!\n",
    "- `elif` en `if` statements mag je gebruiken maar hoeft niet.\n",
    "- Je mag zoveel `elif` statements gebruiken als je wilt.\n",
    "- Ook voor `elif` en `if` statements geldt dat de regel moet eindigen met een `:` en dat alle code die je wilt uitvoeren onder die conditie ingesprongen moet zijn.\n",
    "\n",
    "Je kunt `if statements` ook combineren in zogenaamde `nested if statements`. In dat geval geeft de hoeveelheid witruimte (1, 2 of 3 keer ingesprongen) aan bij welk if statement je code hoort:"
   ]
  },
  {
   "cell_type": "code",
   "execution_count": null,
   "id": "6b89972c-b3bd-40fe-ab66-d8779adfb502",
   "metadata": {},
   "outputs": [],
   "source": [
    "# Alternatieve code om te kijken of de sterke van de zonnestraling Rs realistisch is\n",
    "Rs = 1500.0 # Sterkte van de zonnestraling\n",
    "if Rs < 0:\n",
    "    print(\"Zonnestraling sterkte\",Rs, \"gecorrigeerd naar nul\")\n",
    "    Rs = 0.0 # Corrigeer onrealistische waarde naar 0\n",
    "else:\n",
    "    # Hier begint je eerste 'nested if statement'!\n",
    "    if Rs > 10000:\n",
    "        print(\"Zonnestraling onrealistisch sterk\")\n",
    "    else:\n",
    "         # Hier begint je tweede 'nested if statement'!\n",
    "        if Rs > 1000: # Sterkte van de zonnestraling is groot maar niet onrealistisch\n",
    "            print(\"Heel sterk zonlicht!\")\n",
    "        else:\n",
    "            print(\"Zonnestraling sterkte tussen 0 en 1000\")"
   ]
  },
  {
   "cell_type": "markdown",
   "id": "69ddc986-ddb2-4796-92d4-1e845c8602fb",
   "metadata": {},
   "source": [
    "## For Loops\n",
    "\n",
    "We kunnen op twee manieren gebruik maken van `for loops'. We kunnen ermee een voor een door de items van een reeks gaan (bijvoorbeeld van een lijst, tuple of string), of we kunnen blokken code maken die we kunnen herhalen. Eerst een voorbeeld van het eerste type:"
   ]
  },
  {
   "cell_type": "code",
   "execution_count": null,
   "id": "1",
   "metadata": {},
   "outputs": [],
   "source": [
    "maanden = ['januari', 'february', 'maart', 'april', 'mei', 'juni', 'juli', 'augustus', 'september', 'oktober', 'november', 'december'] # Maanden van het jaar\n",
    "\n",
    "for x in maanden:\n",
    "    print(x)\n",
    "print('Einde van de loop')"
   ]
  },
  {
   "cell_type": "markdown",
   "id": "8d8f2fef-1d02-40d1-aa39-0ffde2543439",
   "metadata": {},
   "source": [
    "En dan het tweede type gebruik van een `for loop`:"
   ]
  },
  {
   "cell_type": "code",
   "execution_count": null,
   "id": "1044820f-2042-4876-8dc9-37890fc18d9f",
   "metadata": {},
   "outputs": [],
   "source": [
    "for x in range(10,20,2):\n",
    "    print(x)\n",
    "print('Einde van de loop')"
   ]
  },
  {
   "cell_type": "markdown",
   "id": "2",
   "metadata": {},
   "source": [
    "In het voorbeeld hierboven zien we enkele belangrijke eigenschappen van een `for loop`:\n",
    "- Er is altijd een `loop variabele`. In dit geval is dat x, maar de `loop variabele` kan iedere willekeurige variabele naam hebben.\n",
    "- Een `for loop` begint met `for` en de eerste regel eindigt met een `:`.\n",
    "- Alle code die je wilt herhalen door middel van de `for loop`, in dit geval print(x), moeten ingesprongen zijn. Dit is een voorbeeld waarin witruimte cruciaal is!\n",
    "- Zodra de code niet meer ingesprongen is, dan is de `for loop` ten einde. In dit geval hoort `print('Einde van de loop')` niet meer bij de `for loop`.\n",
    "\n",
    "In het tweede voorbeeld maken we gebruik van de `range()` functie. Dit is een belangrijke functie die we veel zullen gebruiken. De opties van de `range()` functie zijn: (start,stop,stapgrootte). Dus in het voorbeeld hierboven beginnen we bij 10, gaan we **tot** 20 met stappen van 2.\n",
    "\n",
    "We kunnen de uitkomsten ook opslaan in bijvoorbeeld een lijst in plaats van te printen:"
   ]
  },
  {
   "cell_type": "code",
   "execution_count": null,
   "id": "3",
   "metadata": {},
   "outputs": [],
   "source": [
    "list_fibonacci = [0, 1]    # Eerste twee getallen uit de Fibonacci reeks\n",
    "next_val = 1    \n",
    "for i in range(1,10):      # for loop met i als loop variabele van 1 tot 9\n",
    "    next_val = list_fibonacci[i-1]+list_fibonacci[i]  # Bereken volgende getal in Fibonacci reeks\n",
    "    list_fibonacci.append(next_val)                   # Voeg volgende getal toe aan Fibonacci reeks\n",
    "print(list_fibonacci)"
   ]
  },
  {
   "cell_type": "markdown",
   "id": "b10bbab5-1229-4063-a9af-b0456973e563",
   "metadata": {},
   "source": [
    "Net als bij `if statements`, kunnen we ook met `nested for loops` werken:"
   ]
  },
  {
   "cell_type": "code",
   "execution_count": null,
   "id": "692b5b92-2e76-48a6-a455-fe2343739476",
   "metadata": {},
   "outputs": [],
   "source": [
    "for i in range(1,4):  # Dit noemen we de 'outer loop'\n",
    "    for j in range(1,5):  # En dit noemen we de 'inner loop'\n",
    "        vermenigvuldigen = i*j\n",
    "        print(i,'keer',j,' is',vermenigvuldigen)"
   ]
  },
  {
   "cell_type": "markdown",
   "id": "4",
   "metadata": {},
   "source": [
    "## While Loops\n",
    "\n",
    "Een iets andere variant van een `for loop` is de `while loop`. Net als een `for loop` gebruik je dit om een stuk code meerdere keren te herhalen, maar nu niet een vast aantal keer, maar je herhaalt een stuk code zolang een bepaalde conditie waar is. Dus \"doe dit zolang dit waar is\"."
   ]
  },
  {
   "cell_type": "code",
   "execution_count": null,
   "id": "5",
   "metadata": {},
   "outputs": [],
   "source": [
    "list_fibonacci = [0, 1]    # Eerste twee getallen uit de Fibonacci reeks\n",
    "i = 1                      # We zullen deze i gebruiken als index\n",
    "while next_val < 100:      # Ga door zolang het laatste Fibonacci getal kleiner is dan 100\n",
    "    next_val = list_fibonacci[i-1]+list_fibonacci[i]  # Bereken volgende getal in Fibonacci reeks\n",
    "    list_fibonacci.append(next_val)                   # Voeg volgende getal toe aan Fibonacci reeks\n",
    "    i += 1\n",
    "print(list_fibonacci)"
   ]
  },
  {
   "cell_type": "code",
   "execution_count": null,
   "id": "d1b69d16-018d-4a93-90f6-02e334eab991",
   "metadata": {},
   "outputs": [],
   "source": []
  },
  {
   "cell_type": "markdown",
   "id": "10",
   "metadata": {},
   "source": [
    "## Combinaties van verschillende program flow varianten\n",
    "\n",
    "Complexere `program flow` kun je mogelijk maken door de varianten die we nu hebben gezien (`if statements`, `for loops` en `while loops`) te gaan combineren. Je kunt het zo gek maken als je wilt! Maar het is juist van belang om het leesbaar en begrijpelijk te houden.\n",
    "\n",
    "Hieronder een stukje code waarmee je kan tellen hoeveel kleine letters er in een stuk tekst zitten, hoeveel grote letters en hoeveel getallen:"
   ]
  },
  {
   "cell_type": "code",
   "execution_count": null,
   "id": "11",
   "metadata": {},
   "outputs": [],
   "source": [
    "text = \"Geef hier een STUK tekst met wat getallen, bijvoorbeeld 9\"\n",
    "uppercase_count = 0\n",
    "lowercase_count = 0\n",
    "number_count = 0\n",
    "for index in range(0, len(text)):\n",
    "    char = text[index]\n",
    "    if char.isalpha():         \n",
    "        if char.isupper():\n",
    "            uppercase_count += 1\n",
    "        elif char.islower():\n",
    "            lowercase_count += 1\n",
    "    elif char.isdigit():\n",
    "        number_count += 1\n",
    "print(\"Number of upper-case letters:\", uppercase_count)\n",
    "print(\"Number of lower-case letters:\", lowercase_count)\n",
    "print(\"Number of numbers:\", number_count)"
   ]
  },
  {
   "cell_type": "markdown",
   "id": "e5f7d6d9-1462-484c-ba8d-26dbab9cc43e",
   "metadata": {},
   "source": [
    "In het bovenstaande voorbeeld maken we gebruik van enkele `string methods`, zoals `isalpha()` en `isdigit()` om na te gaan of de inhoud van je string een letter uit het alfabet is of dat het een getal is; en `isupper()` en `islower()` om te kijken of te kijken of je string een hoofdletter is of een kleine letter."
   ]
  },
  {
   "cell_type": "markdown",
   "id": "15",
   "metadata": {},
   "source": [
    "## Samenvatting\n",
    "\n",
    "Een centraal onderdeel van veel Python codes is de zogenaamde `program flow`. Door middel van `Boolean testen`, `if statements`, `for loops` en `while loops`, en alle mogelijke combinaties hiervan, kun je op een efficiente manier door je data heen gaan en bijvoorbeeld berekeningen uitvoeren op bepaalde delen van je data of onder bepaalde voorwaarde. Om deze elementen goed onder de knie te krijgen is het belangrijk dat je veel oefent!"
   ]
  },
  {
   "cell_type": "markdown",
   "id": "7f4bcce6-70ae-4135-96f8-b986e7db3a2e",
   "metadata": {},
   "source": [
    "<!-- Links -->\n",
    "[part2_practice_questions]: 02_Python_program_flow_questions.ipynb\n",
    "\n",
    "# Ga naar de oefenvragen: [02_Python_program_flow_oefenvragen][part2_practice_questions]"
   ]
  },
  {
   "cell_type": "markdown",
   "id": "53225878-7970-476f-ab62-ae7cd47f126f",
   "metadata": {},
   "source": [
    "<!-- Links -->\n",
    "[python_modules]: 03_Python_modules_functies.ipynb\n",
    "\n",
    "# Ga naar het volgende deel: [03_Python_modules_functies][python_modules]"
   ]
  },
  {
   "cell_type": "code",
   "execution_count": null,
   "id": "5d94323a-8798-49f2-a43f-ef447311c244",
   "metadata": {},
   "outputs": [],
   "source": []
  }
 ],
 "metadata": {
  "kernelspec": {
   "display_name": "Python 3 (ipykernel)",
   "language": "python",
   "name": "python3"
  },
  "language_info": {
   "codemirror_mode": {
    "name": "ipython",
    "version": 3
   },
   "file_extension": ".py",
   "mimetype": "text/x-python",
   "name": "python",
   "nbconvert_exporter": "python",
   "pygments_lexer": "ipython3",
   "version": "3.11.11"
  }
 },
 "nbformat": 4,
 "nbformat_minor": 5
}
