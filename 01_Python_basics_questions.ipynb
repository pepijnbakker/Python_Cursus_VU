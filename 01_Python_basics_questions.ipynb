{
 "cells": [
  {
   "cell_type": "markdown",
   "id": "d012a4c6-1834-4250-a609-53bd0660bc24",
   "metadata": {},
   "source": [
    "## Oefenvragen voor deel 1: Python Basics\n",
    "\n",
    "Hieronder een lijst oefenvragen behorende bij deel 1 van deze Python cursus. Als je een `method` of `functie` in een vraag niet kent, kun je altijd de `help()` functie gebruiken om eerst te ontdekken wat de `method` of `functie` doet. Als je hierna nog meer wilt oefenen dan raden wij je aan om samen met je buurman of buurvrouw vragen te gaan maken die je vervolgens door de ander op laat lossen. "
   ]
  },
  {
   "cell_type": "markdown",
   "id": "0e13aade-098a-481a-baed-607efb5808f3",
   "metadata": {},
   "source": [
    "Wat is in de onderstaande oefenvragen de waarde van `a`?"
   ]
  },
  {
   "cell_type": "markdown",
   "id": "d3464c32-1949-4db6-8115-ec681a135041",
   "metadata": {},
   "source": [
    "Vraag 1:"
   ]
  },
  {
   "cell_type": "code",
   "execution_count": 1,
   "id": "a1b8f2c6-c2b5-4975-89ba-a7334fddcef2",
   "metadata": {},
   "outputs": [],
   "source": [
    "a = 10**2 / 2"
   ]
  },
  {
   "cell_type": "markdown",
   "id": "91bdd032-d9ee-499b-906e-96e29306c62c",
   "metadata": {},
   "source": [
    "Vraag 2:"
   ]
  },
  {
   "cell_type": "code",
   "execution_count": 3,
   "id": "4453e56c-703a-4245-ad7d-b955cf2d03b5",
   "metadata": {},
   "outputs": [
    {
     "name": "stdout",
     "output_type": "stream",
     "text": [
      "6\n"
     ]
    }
   ],
   "source": [
    "a = 10\n",
    "a = a - 2*2"
   ]
  },
  {
   "cell_type": "markdown",
   "id": "2a8eae2d-ebf5-4f2f-b6f1-4b28cb01712a",
   "metadata": {},
   "source": [
    "Vraag 3:"
   ]
  },
  {
   "cell_type": "code",
   "execution_count": null,
   "id": "6bb37fb1-2d7f-4262-a97a-322a568d5658",
   "metadata": {},
   "outputs": [],
   "source": [
    "a = 10\n",
    "a += 5"
   ]
  },
  {
   "cell_type": "markdown",
   "id": "c863f27f-5b62-46c2-b3a2-16e4ee3faadf",
   "metadata": {},
   "source": [
    "Vraag 4:"
   ]
  },
  {
   "cell_type": "code",
   "execution_count": null,
   "id": "b9f71688-408e-478d-b08c-e675ce5393b9",
   "metadata": {},
   "outputs": [],
   "source": [
    "a = 5\n",
    "a *= 2"
   ]
  },
  {
   "cell_type": "markdown",
   "id": "42ab5e9c-fbe7-4af9-85d7-33a744e35dea",
   "metadata": {},
   "source": [
    "Vraag 5:"
   ]
  },
  {
   "cell_type": "code",
   "execution_count": 5,
   "id": "aaad275a-a32e-4f16-8aca-84b6128b4007",
   "metadata": {},
   "outputs": [],
   "source": [
    "b = 5\n",
    "c = b\n",
    "b = 3\n",
    "a = b*c"
   ]
  },
  {
   "cell_type": "markdown",
   "id": "4db6fda3-6053-47a9-8690-2950599dfbeb",
   "metadata": {},
   "source": [
    "Vraag 6:"
   ]
  },
  {
   "cell_type": "code",
   "execution_count": 7,
   "id": "7d7dd6b4-2b5c-4720-8a7e-b74f319c6f0b",
   "metadata": {},
   "outputs": [],
   "source": [
    "x = [1,3,5]\n",
    "x[1] = 2\n",
    "a = x[1]"
   ]
  },
  {
   "cell_type": "markdown",
   "id": "8f13fbd0-357d-46dc-85cf-c224fa42e583",
   "metadata": {},
   "source": [
    "Wat is in onderstaande oefenvragen het `data type` van a?"
   ]
  },
  {
   "cell_type": "markdown",
   "id": "9c0c5096-d66b-42ef-afb5-a34b19070562",
   "metadata": {},
   "source": [
    "Vraag 7:"
   ]
  },
  {
   "cell_type": "code",
   "execution_count": 8,
   "id": "857a8214-8d28-4d5f-829a-0257c147de9f",
   "metadata": {},
   "outputs": [],
   "source": [
    "a = 2"
   ]
  },
  {
   "cell_type": "markdown",
   "id": "1b601b4b-9790-43c2-b06a-3ef769d15741",
   "metadata": {},
   "source": [
    "Vraag 8:"
   ]
  },
  {
   "cell_type": "code",
   "execution_count": null,
   "id": "49008ddd-4779-4f4e-9c13-19b79c950b8f",
   "metadata": {},
   "outputs": [],
   "source": [
    "a = 3.0"
   ]
  },
  {
   "cell_type": "markdown",
   "id": "437f07ba-35f1-4ec2-b26c-47c9699a3bfc",
   "metadata": {},
   "source": [
    "Vraag 9:"
   ]
  },
  {
   "cell_type": "code",
   "execution_count": null,
   "id": "3fefde95-9595-4138-a1f0-e0d6793c0416",
   "metadata": {},
   "outputs": [],
   "source": [
    "a = 5."
   ]
  },
  {
   "cell_type": "markdown",
   "id": "83e0c169-76bb-4e8f-a02c-398a88ae6bce",
   "metadata": {},
   "source": [
    "Vraag 10:"
   ]
  },
  {
   "cell_type": "code",
   "execution_count": null,
   "id": "b1c57611-2e80-4914-b145-c57068571d1f",
   "metadata": {},
   "outputs": [],
   "source": [
    "a = \"value\""
   ]
  },
  {
   "cell_type": "markdown",
   "id": "f8806491-ecef-42cc-9b34-d26bf1d11180",
   "metadata": {},
   "source": [
    "Vraag 11:"
   ]
  },
  {
   "cell_type": "code",
   "execution_count": null,
   "id": "7af9ffab-12e4-42a5-8b11-dcf1ba0784b5",
   "metadata": {},
   "outputs": [],
   "source": [
    "a = 5.1/2"
   ]
  },
  {
   "cell_type": "markdown",
   "id": "0d73c8a3-b7b4-4b44-886d-0aa46d3d90aa",
   "metadata": {},
   "source": [
    "Vraag 12:"
   ]
  },
  {
   "cell_type": "code",
   "execution_count": null,
   "id": "1880b7d9-0160-45c0-ae85-3f50f25be93f",
   "metadata": {},
   "outputs": [],
   "source": [
    "a = 2/4"
   ]
  },
  {
   "cell_type": "markdown",
   "id": "5612a2d4-649f-463a-bacd-4eaf8d9a8542",
   "metadata": {},
   "source": [
    "Vraag 13:"
   ]
  },
  {
   "cell_type": "code",
   "execution_count": null,
   "id": "5a105b34-91b9-4a25-a25f-3f30ee59a923",
   "metadata": {},
   "outputs": [],
   "source": [
    "a = [2,4]"
   ]
  },
  {
   "cell_type": "markdown",
   "id": "bbb9619e-4b15-4aee-9a51-82fd342fdc2c",
   "metadata": {},
   "source": [
    "Vraag 14:"
   ]
  },
  {
   "cell_type": "code",
   "execution_count": 11,
   "id": "69274069-924d-4a34-ab4c-2c87f985ebae",
   "metadata": {},
   "outputs": [
    {
     "name": "stdout",
     "output_type": "stream",
     "text": [
      "<class 'int'>\n"
     ]
    }
   ],
   "source": [
    "b = [2,4]\n",
    "a = b[0]"
   ]
  },
  {
   "cell_type": "markdown",
   "id": "9990a8f0-1dfa-4ce9-9e4f-cbd030c7292c",
   "metadata": {},
   "source": [
    "Wat is of wat zijn in onderstaande oefenvragen de waarde(s) van a?"
   ]
  },
  {
   "cell_type": "markdown",
   "id": "29a9c590-4975-4d6f-8e72-21a5a4868329",
   "metadata": {},
   "source": [
    "Vraag 15:"
   ]
  },
  {
   "cell_type": "code",
   "execution_count": 20,
   "id": "94fb417f-22fb-441a-820e-eff8c58b58c0",
   "metadata": {},
   "outputs": [],
   "source": [
    "b = [1, 4, 10, 11]\n",
    "a = b[0]"
   ]
  },
  {
   "cell_type": "markdown",
   "id": "87c777ae-04cd-4731-bcc5-a26996914386",
   "metadata": {},
   "source": [
    "Vraag 16:"
   ]
  },
  {
   "cell_type": "code",
   "execution_count": 6,
   "id": "194e66f3-4ffb-4472-87cb-eb5b90167d18",
   "metadata": {},
   "outputs": [],
   "source": [
    "b = [1, 4, 10, 11]\n",
    "a = b[0:2]"
   ]
  },
  {
   "cell_type": "markdown",
   "id": "98a59fa0-454b-4bc5-9fd0-cd3edb22305a",
   "metadata": {},
   "source": [
    "Vraag 17:"
   ]
  },
  {
   "cell_type": "code",
   "execution_count": 7,
   "id": "a34503e7-8425-42cf-8835-179f0cdb183c",
   "metadata": {},
   "outputs": [],
   "source": [
    "b = [1, 4, 10, 11]\n",
    "a = b[1:4:2]"
   ]
  },
  {
   "cell_type": "markdown",
   "id": "c79438ae-a0d6-45ee-84c8-fed9713ae679",
   "metadata": {},
   "source": [
    "Vraag 18:"
   ]
  },
  {
   "cell_type": "code",
   "execution_count": 20,
   "id": "e23a61eb-cf0f-4f7e-ad95-0c65056cdeb4",
   "metadata": {},
   "outputs": [],
   "source": [
    "b = [1, 4, 10, 11]\n",
    "a = b[-1]"
   ]
  },
  {
   "cell_type": "markdown",
   "id": "820f1e8a-f343-4c80-979d-8bf7e86b3e05",
   "metadata": {},
   "source": [
    "Vraag 19:"
   ]
  },
  {
   "cell_type": "code",
   "execution_count": 8,
   "id": "dc126767-2e94-45dc-854d-2eb150599ec4",
   "metadata": {},
   "outputs": [],
   "source": [
    "b = [1, 4, 10, 11]\n",
    "a = b[0:-1]"
   ]
  },
  {
   "cell_type": "markdown",
   "id": "f32358ce-e1d4-4479-b2d2-a6aa5b29dca7",
   "metadata": {},
   "source": [
    "Vraag 20:"
   ]
  },
  {
   "cell_type": "code",
   "execution_count": 13,
   "id": "166be9e7-40ab-444e-9276-203556467ff8",
   "metadata": {},
   "outputs": [],
   "source": [
    "a = [1, 4, 10, 11]\n",
    "a.reverse()"
   ]
  },
  {
   "cell_type": "markdown",
   "id": "7f9233df-fb56-4e16-aeb6-15dc0fe39f77",
   "metadata": {},
   "source": [
    "Vraag 21:"
   ]
  },
  {
   "cell_type": "code",
   "execution_count": 9,
   "id": "38045619-4108-48f0-ad4e-eaaeaf9357ec",
   "metadata": {},
   "outputs": [
    {
     "data": {
      "text/plain": [
       "4"
      ]
     },
     "execution_count": 9,
     "metadata": {},
     "output_type": "execute_result"
    }
   ],
   "source": [
    "a = [1, 4, 10, 11]\n",
    "a.pop(1)"
   ]
  },
  {
   "cell_type": "markdown",
   "id": "c512ed45-e08b-4d3d-8600-e23b58ba64a3",
   "metadata": {},
   "source": [
    "Vraag 22:"
   ]
  },
  {
   "cell_type": "code",
   "execution_count": 10,
   "id": "0043f75c-199f-42c3-b6ab-0418fd94f5f6",
   "metadata": {},
   "outputs": [],
   "source": [
    "a = [1, 11, 4, 10]\n",
    "a.sort()"
   ]
  },
  {
   "cell_type": "markdown",
   "id": "133418f5-1170-4374-99d8-e7f62a102561",
   "metadata": {},
   "source": [
    "Vraag 23:"
   ]
  },
  {
   "cell_type": "code",
   "execution_count": 11,
   "id": "039d7983-8a0d-48f3-98e0-90ab45698bba",
   "metadata": {},
   "outputs": [],
   "source": [
    "b = [1, 4, 10, 11]\n",
    "a = sum(b)"
   ]
  },
  {
   "cell_type": "markdown",
   "id": "3f77fa78-d036-4594-99d3-34a93e7a61df",
   "metadata": {},
   "source": [
    "<!-- Links -->\n",
    "[python_program_flow]: 02_Python_program_flow.ipynb\n",
    "\n",
    "# Ga naar het volgende deel: [02_Python_program_flow Basics][python_program_flow]"
   ]
  },
  {
   "cell_type": "code",
   "execution_count": null,
   "id": "a68e7a5a-0929-4d4c-a96a-7283525be96a",
   "metadata": {},
   "outputs": [],
   "source": []
  }
 ],
 "metadata": {
  "kernelspec": {
   "display_name": "Python 3",
   "language": "python",
   "name": "python3"
  },
  "language_info": {
   "codemirror_mode": {
    "name": "ipython",
    "version": 3
   },
   "file_extension": ".py",
   "mimetype": "text/x-python",
   "name": "python",
   "nbconvert_exporter": "python",
   "pygments_lexer": "ipython3",
   "version": "3.11.10"
  }
 },
 "nbformat": 4,
 "nbformat_minor": 5
}
