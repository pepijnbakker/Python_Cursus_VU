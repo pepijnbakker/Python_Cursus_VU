{
 "cells": [
  {
   "cell_type": "markdown",
   "id": "fc896fc0-1ee3-416c-8a3f-23705f82a512",
   "metadata": {},
   "source": [
    "![Python](./Media/Earth.png)\n",
    "\n",
    "# Python als onderdeel van deze cursus\n",
    "\n",
    "\n",
    "## Voordat we beginnen\n",
    "\n",
    "Welkom bij deze cursus Python. Voordat we beginnen, eerst wat informatie over het **nut** van Python, welke delen van Python we zullen leren en de **JupyterHub** omgeving waarin we zullen werken.\n",
    "\n",
    "\n",
    "## Waarom Python leren?\n",
    "\n",
    "Kunnen programmeren is een heel handige skill. Je zult het meermaals tegenkomen in verschillende vakken in je opleiding, mogelijk tijdens je afstudeeronderzoek gebruiken en vele van jullie zullen later in je werk ook in aanraking komen met een programmeertaal. Wij hebben ervoor gekozen om jullie te laten werken met Python omdat dit een van de meest gebruikte programmeertalen is. Vele onderzoekers werken ermee, maar ook bedrijven als Facebook, Google, Instagram, Spotify, Netflix, Reddit, Youtube en NASA. Mocht je later toch met een andere programmeertaal gaan werken dan Python, dan is deze cursus zeker niet voor niets geweest, want je zult merken dat je jezelf die nieuwe taal vrij gemakkelijk aan kan leren als je eenmaal een programmeertaal kent. Ze lijken allemaal op elkaar en het gaat uiteindelijk vooral om een *manier van denken*.\n",
    "\n",
    "Voor sommige klinkt programmeren als iets moeilijks of zelfs engs. Dat is nergens voor nodig. Als je voldoende oefent dan kan iedereen het leren!\n",
    "\n",
    "![jupyter hub](./Media/JupyterHub.png)\n",
    "\n",
    "## Werken met JupyterHub\n",
    "\n",
    "Voor deze cursus zullen we gebruik maken van zogenaamde *notebooks* die we zullen openen in **JupyterHub**. Er zijn ook alternatieven, zoals *Google Colab* of *Binder*, of meer uitgebreide programmeeromgevingen zoals *Spyder*. Je kunt er voor kiezen om een van de alternatieven te gebruiken, maar let op dat er dan wel kleine verschillen kunnen zijn met de voorbeelden in deze cursus.\n",
    "\n",
    "<!-- Links -->\n",
    "[python_basics]: 01_Python_basics.ipynb\n",
    "\n",
    "# Ga naar het volgende deel: [Python Basics][python_basics]"
   ]
  },
  {
   "cell_type": "code",
   "execution_count": null,
   "id": "9ac4fb4b-ad06-49d4-b3a0-81c4d1e07b90",
   "metadata": {},
   "outputs": [],
   "source": []
  }
 ],
 "metadata": {
  "kernelspec": {
   "display_name": "Python 3",
   "language": "python",
   "name": "python3"
  },
  "language_info": {
   "codemirror_mode": {
    "name": "ipython",
    "version": 3
   },
   "file_extension": ".py",
   "mimetype": "text/x-python",
   "name": "python",
   "nbconvert_exporter": "python",
   "pygments_lexer": "ipython3",
   "version": "3.11.10"
  }
 },
 "nbformat": 4,
 "nbformat_minor": 5
}
