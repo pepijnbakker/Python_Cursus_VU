{
 "cells": [
  {
   "cell_type": "markdown",
   "metadata": {},
   "source": [
    "# De Pandas module\n",
    "\n",
    "## Overzicht\n",
    "Voor het werken met data uit tabellen is er een speciale `Python module`, namelijk `Pandas`. Deze module heeft overeenkomsten met de `Numpy` module die we gezien hebben, maar `Pandas` wordt veel gebruikt voor data analyse en statistiek en is over het algemeen eenvoudiger te begrijpen en gebruiken dan `Numpy`. In dit deel van de `Python` cursus zullen de basiselementen van `Pandas` behandeld worden."
   ]
  },
  {
   "cell_type": "markdown",
   "metadata": {},
   "source": [
    "## Het maken van Pandas Series en DataFrams\n",
    "\n",
    "In de `Pandas` module werk je met `Series` en `DataFrames`, waarbij een `Series` een kolom in een tabel is, terwijl een `DataFrame` de hele tabel is en dus bestaan uit rijen en kolomen. Net als in een excel tabel iedere kolom een naam of label heeft, zo heeft in `Pandas` iedere `Series` een label (`name`) en een `DataFrame` kent meerdere labels.\n",
    "\n",
    "Een `Pandas serie` maak je door eerst een `list` data type te maken [....] en vervolgens deze om te zetten met de `panda.Series()` functie. Een `Pandas DataFrame` maak je door eerst een `dictionary` data type te maken {....} en vervolgens deze om te zetten met de `panda.DataFrame()` functie:"
   ]
  },
  {
   "cell_type": "code",
   "execution_count": null,
   "metadata": {},
   "outputs": [],
   "source": [
    "import pandas as pd\n",
    "\n",
    "city_series = pd.Series([\"Tokyo\", \"Los Angeles\", \"London\"], name=\"City\") # Maak een Pandas Series van een lijst\n",
    "print(city_series) # Print de inhoud van de pandas series"
   ]
  },
  {
   "cell_type": "code",
   "execution_count": null,
   "metadata": {},
   "outputs": [],
   "source": [
    "data_steden = {                        # Maak een Dictionary met de naam 'data_steden'\n",
    "    \"City\": [\"Tokyo\", \"Los Angeles\", \"London\"],\n",
    "    \"Latitude\": [35.6895, 34.0522, 51.5074],\n",
    "    \"Longitude\": [139.6917, -118.2437, -0.1278],\n",
    "}\n",
    "df = pd.DataFrame(data_steden) # Zet de Dictionary om in een Pandas DataFrame met de naam 'df' met daarin de kolomen 'city', 'latitude' en 'longitude' en daarin informatie voor een drietal steden\n",
    "print(f\"Pandas DataFrame:\\n{df}\") # Print de inhoud van het pandas dataframe"
   ]
  },
  {
   "cell_type": "markdown",
   "metadata": {},
   "source": [
    "## Basis operaties op DataFrames\n",
    "\n",
    "Je kunt allerlei operaties uitvoeren op een `Pandas DataFrame`, zoals het selecteren van een kolom of een rij, rijen filteren aan de hand van een bepaalde conditie of een nieuwe kolom toevoegen."
   ]
  },
  {
   "cell_type": "code",
   "execution_count": null,
   "metadata": {},
   "outputs": [],
   "source": [
    "df[\"Latitude\"] # Selecteer de kolom 'latitude'"
   ]
  },
  {
   "cell_type": "code",
   "execution_count": null,
   "metadata": {},
   "outputs": [],
   "source": [
    "df.iat[1,2] # Geef de waarde in het DataFrame van rij 1 en kolom 2"
   ]
  },
  {
   "cell_type": "code",
   "execution_count": null,
   "metadata": {},
   "outputs": [],
   "source": [
    "df[\"Latitude\"][1] # Selecteer eerst de kolom 'latitude' en geef vervolgens de waarde in rij 1 (let op, we beginnen nog steeds bij nul met tellen!)"
   ]
  },
  {
   "cell_type": "code",
   "execution_count": null,
   "metadata": {},
   "outputs": [],
   "source": [
    "df_filtered = df[df[\"Longitude\"] < 0] # Filter de rijen in de kolom 'longitude' om te kijken welke er kleiner zijn dan 0 (dus ten westen van de meridiaan in Greenwich liggen)\n",
    "df_filtered"
   ]
  },
  {
   "cell_type": "code",
   "execution_count": null,
   "metadata": {},
   "outputs": [],
   "source": [
    "import numpy as np\n",
    "df[\"Lat_Radians\"] = np.radians(df[\"Latitude\"]) # Voeg een nieuwe kolom toe waarin je de latitude in radialen weergeeft door middel van de Numpy radians() functie\n",
    "df"
   ]
  },
  {
   "cell_type": "markdown",
   "metadata": {},
   "source": [
    "## Groepen maken en daar analyses op uitvoeren\n",
    "\n",
    "`Pandas` is heel geschikt om groepen te maken binnen je `DataFrame` waarop je vervolgens analyses uit kan voeren. Dit is een heel goede manier om grote datasets te vereenvoudigen en samen te vatten. In het voorbeeld hieronder gaan we bijvoorbeeld aan de hand van de populatie van een aantal steden uit verschillende landen bepalen wat de populatie is per land."
   ]
  },
  {
   "cell_type": "code",
   "execution_count": null,
   "metadata": {},
   "outputs": [],
   "source": [
    "df = pd.DataFrame({           # Maak een DataFrame van een dictionary. Let op: ten opzichte van het vorige voorbeeld hebben we hier stappen 1 en 2 samengenomen!\n",
    "    \"City\": [\"Tokyo\", \"Los Angeles\", \"London\", \"Paris\", \"Chicago\"],\n",
    "    \"Country\": [\"Japan\", \"USA\", \"UK\", \"France\", \"USA\"],\n",
    "    \"Population\": [37400068, 3970000, 9126366, 2140526, 2665000],\n",
    "})\n",
    "df"
   ]
  },
  {
   "cell_type": "code",
   "execution_count": null,
   "metadata": {},
   "outputs": [],
   "source": [
    "# Groepeer de data per land en bereken de totale populatie van de steden in de lijst per land\n",
    "df_grouped = df.groupby(\"Country\")[\"Population\"].sum() # Groeper de data per 'country' en neem vervolgens de som (.sum()) over de 'Population'\n",
    "df_grouped"
   ]
  },
  {
   "cell_type": "markdown",
   "metadata": {},
   "source": [
    "## DataFrames samenvoegen\n",
    "\n",
    "Het efficient samenvoegen van verschillende tabellen is een van de grote voordelen van `Pandas` ten opzichte van bijvoorbeeld excel."
   ]
  },
  {
   "cell_type": "code",
   "execution_count": null,
   "metadata": {},
   "outputs": [],
   "source": [
    "df1 = pd.DataFrame( # Maak een DataFrame van een dictionary met stadsnamen en landen.\n",
    "    {\n",
    "        \"City\": [\"Tokyo\", \"Los Angeles\", \"London\"],\n",
    "        \"Country\": [\"Japan\", \"USA\", \"UK\"]\n",
    "    }\n",
    ")\n",
    "df2 = pd.DataFrame( # Maak een DataFrame van een dictionary met stadsnamen en populatiegroottes.\n",
    "    {\n",
    "        \"City\": [\"Tokyo\", \"Los Angeles\", \"London\"],\n",
    "        \"Population\": [37400068, 3970000, 9126366],\n",
    "    }\n",
    ")"
   ]
  },
  {
   "cell_type": "code",
   "execution_count": null,
   "metadata": {},
   "outputs": [],
   "source": [
    "df_merged = pd.merge(df1, df2, on=\"City\") # voeg de DataFrames df1 en df2 samen aan de hand van kolom 'city'\n",
    "df_merged"
   ]
  },
  {
   "cell_type": "markdown",
   "metadata": {},
   "source": [
    "## Werken met ontbrekende data\n",
    "\n",
    "Het komt vaak voor dat er data ontbreekt in echte datasets, omdat data bijvoorbeeld niet beschikbaar is of niet is ingevuld. `Pandas` geeft je gemakkelijke manieren om deze ontbrekende data te verwijderen of te vervangen met bijvoorbeeld een gemiddelde van de aanwezige data."
   ]
  },
  {
   "cell_type": "code",
   "execution_count": null,
   "metadata": {},
   "outputs": [],
   "source": [
    "df_nan = pd.DataFrame({                # Maak een DataFrame van een dictionary met daarin ontbrekende data (gemarkeerd met 'None')\n",
    "    \"City\": [\"Tokyo\", \"Los Angeles\", \"London\", \"Paris\"],\n",
    "    \"Population\": [37400068, 3970000, None, 2140526],\n",
    "})\n",
    "df_nan"
   ]
  },
  {
   "cell_type": "code",
   "execution_count": null,
   "metadata": {},
   "outputs": [],
   "source": [
    "# Vervang missende data met het gemiddelde van de populatie kolom\n",
    "df_filled = df_nan.fillna(df_nan[\"Population\"].mean())   # Vervang de ontbrekende data (.fillnan()) met een gemiddelde (.mean())\n",
    "df_filled"
   ]
  },
  {
   "cell_type": "markdown",
   "metadata": {},
   "source": [
    "## Excel bestanden lezen met Pandas\n",
    "\n",
    "We hebben al eerder gezien dat je met `Pandas` heel eenvoudig een excel bestand kan inlezen door middel van `read_excel()`. Vervolgens kun je bijvoorbeeld de kolom namen bekijken door middel van `.columns()`."
   ]
  },
  {
   "cell_type": "code",
   "execution_count": null,
   "metadata": {},
   "outputs": [],
   "source": [
    "df_debilt_data = pd.read_excel(\"Media/deBilt_yearly_temperatures.xlsx\",comment='#')\n",
    "df_debilt_data.columns"
   ]
  },
  {
   "cell_type": "markdown",
   "metadata": {},
   "source": [
    "Vervolgens kun je dan bijvoorbeeld de gemiddelde temperatuur bepalen en de standaard deviatie:"
   ]
  },
  {
   "cell_type": "code",
   "execution_count": null,
   "metadata": {},
   "outputs": [],
   "source": [
    "np.mean(df_debilt_data[\"Temperatuur\"]) # Gemiddelde temperatuur"
   ]
  },
  {
   "cell_type": "code",
   "execution_count": null,
   "metadata": {},
   "outputs": [],
   "source": [
    "np.std(df_debilt_data[\"Temperatuur\"]) # Standaard deviatie van de temperatuur"
   ]
  },
  {
   "cell_type": "markdown",
   "metadata": {},
   "source": [
    "## Figuren maken met Pandas\n",
    "\n",
    "Om figuren te maken kun je matplotlib.pyplot gebruiken zoals we eerder hebben gezien. Maar met de functies in de `Pandas module` kun je ook eenvoudiger figuren maken die vooral heel geschikt zijn om snel te kijken hoe de data eruit ziet."
   ]
  },
  {
   "cell_type": "code",
   "execution_count": null,
   "metadata": {},
   "outputs": [],
   "source": [
    "df_debilt_data = pd.read_excel(\"Media/deBilt_yearly_temperatures.xlsx\",comment='#')"
   ]
  },
  {
   "cell_type": "code",
   "execution_count": null,
   "metadata": {},
   "outputs": [],
   "source": [
    "df_debilt_data['Temperatuur'].plot() # Maak een figuur van de kolom 'Temperatuur'"
   ]
  },
  {
   "cell_type": "code",
   "execution_count": null,
   "metadata": {},
   "outputs": [],
   "source": [
    "df_debilt_data.plot.scatter(x=\"Jaar\", y=\"Temperatuur\", alpha=0.5)  # Plot 'Jaar' op de x-as en 'Temperatuur' op de y-as. alpha=0.5 geeft deels doorzichtige symbolen."
   ]
  },
  {
   "cell_type": "markdown",
   "metadata": {},
   "source": [
    "## Samenvatting\n",
    "\n",
    "Je kunt in Python heel goed werken met data in tabelvorm door gebruik te maken van de `Pandas module`. Hierin werk je met `Series` en `DataFrames` en kun je inzichtelijk werken doordat je kolommen aan kunt roepen met hun kolomnaam. Verder zijn er allerlei functies beschikbaar die je efficiënt data in tabelvorm laten visualiseren, aanpassen en samenvatten."
   ]
  },
  {
   "cell_type": "markdown",
   "metadata": {},
   "source": [
    "<!-- Links -->\n",
    "[Python_Debugging]: 09_Python_Debugging.ipynb\n",
    "\n",
    "# Ga naar het volgende deel: [09_Python_Debugging][Python_Debugging]"
   ]
  },
  {
   "cell_type": "code",
   "execution_count": null,
   "metadata": {},
   "outputs": [],
   "source": []
  }
 ],
 "metadata": {
  "kernelspec": {
   "display_name": "Python 3 (ipykernel)",
   "language": "python",
   "name": "python3"
  },
  "language_info": {
   "codemirror_mode": {
    "name": "ipython",
    "version": 3
   },
   "file_extension": ".py",
   "mimetype": "text/x-python",
   "name": "python",
   "nbconvert_exporter": "python",
   "pygments_lexer": "ipython3",
   "version": "3.11.11"
  }
 },
 "nbformat": 4,
 "nbformat_minor": 4
}
